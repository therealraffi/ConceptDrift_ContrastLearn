{
 "cells": [
  {
   "cell_type": "code",
   "execution_count": 18,
   "id": "0ca6480a",
   "metadata": {},
   "outputs": [],
   "source": [
    "\n",
    "import torch\n",
    "import pickle\n",
    "import numpy as np\n",
    "import pandas as pd\n",
    "from pathlib import Path\n",
    "from sklearn.svm import SVC\n",
    "from sklearn.model_selection import train_test_split\n",
    "from sklearn.metrics import classification_report\n",
    "\n",
    "from my_models import ContrastiveGraphDataset, load_graph, to_heterodata\n",
    "from relation_graph import RelationGraph\n",
    "import joblib"
   ]
  },
  {
   "cell_type": "code",
   "execution_count": 20,
   "id": "d1976674",
   "metadata": {},
   "outputs": [
    {
     "name": "stdout",
     "output_type": "stream",
     "text": [
      "max possible pairs (approx): 1,037,697,346\n",
      "loading pairs from /scratch/rhm4nj/ml-sec/data/dataset/pairs.pkl\n",
      "Num pairs 5000\n"
     ]
    }
   ],
   "source": [
    "meta = pd.read_csv(\"/scratch/rhm4nj/ml-sec/data/dataset/apk_metadata.csv\", parse_dates=[\"datetime\"]).set_index(\"apk_id\")\n",
    "rg = RelationGraph(\n",
    "    rel_path=\"/scratch/rhm4nj/ml-sec/APIGraph/src/res/relations.txt\",\n",
    "    ent_path=\"/scratch/rhm4nj/ml-sec/APIGraph/src/res/entities.txt\",\n",
    "    type_map={'package':1, 'class':2, 'method':3, 'permission':4},\n",
    "    rel_map={1:'function_of',2:'class_of',3:'inheritance',4:'uses_parameter',5:'returns',\n",
    "             6:'throws',7:'alternative',8:'conditional',9:'refers_to',10:'uses_permission'}\n",
    ")\n",
    "\n",
    "sample_path = next(Path(\"/scratch/rhm4nj/ml-sec/data/subgraphs\").glob(\"*.gpickle\"))\n",
    "sample_data = to_heterodata(pickle.load(open(sample_path, \"rb\")), rg)\n",
    "metadata = sample_data.metadata()\n",
    "\n",
    "dataset = ContrastiveGraphDataset(\n",
    "    graph_dir=\"/scratch/rhm4nj/ml-sec/data/subgraphs\",\n",
    "    meta=meta,\n",
    "    rg=rg,\n",
    "    metadata=metadata,\n",
    "    num_pairs=5000,\n",
    "    sample_pairs=5000,\n",
    "    pair_file=\"/scratch/rhm4nj/ml-sec/data/dataset/pairs.pkl\",\n",
    "    save_pairs=False\n",
    ")\n",
    "\n",
    "label_map = {'strong': 0, 'weak': 1, 'benign_malware': 2}\n",
    "X, y = [], []"
   ]
  },
  {
   "cell_type": "code",
   "execution_count": null,
   "id": "44e2a164",
   "metadata": {},
   "outputs": [
    {
     "ename": "ValueError",
     "evalue": "all input arrays must have the same shape",
     "output_type": "error",
     "traceback": [
      "\u001b[31m---------------------------------------------------------------------------\u001b[39m",
      "\u001b[31mValueError\u001b[39m                                Traceback (most recent call last)",
      "\u001b[36mCell\u001b[39m\u001b[36m \u001b[39m\u001b[32mIn[21]\u001b[39m\u001b[32m, line 9\u001b[39m\n\u001b[32m      6\u001b[39m     X.append(x)\n\u001b[32m      7\u001b[39m     y.append(label_map[label])\n\u001b[32m----> \u001b[39m\u001b[32m9\u001b[39m X = \u001b[43mnp\u001b[49m\u001b[43m.\u001b[49m\u001b[43mstack\u001b[49m\u001b[43m(\u001b[49m\u001b[43mX\u001b[49m\u001b[43m)\u001b[49m\n\u001b[32m     10\u001b[39m y = np.array(y)\n\u001b[32m     11\u001b[39m X_train, X_test, y_train, y_test = train_test_split(X, y, test_size=\u001b[32m0.2\u001b[39m, random_state=\u001b[32m42\u001b[39m)\n",
      "\u001b[36mFile \u001b[39m\u001b[32m/scratch/rhm4nj/ml-sec/mlsec/lib/python3.11/site-packages/numpy/_core/shape_base.py:460\u001b[39m, in \u001b[36mstack\u001b[39m\u001b[34m(arrays, axis, out, dtype, casting)\u001b[39m\n\u001b[32m    458\u001b[39m shapes = {arr.shape \u001b[38;5;28;01mfor\u001b[39;00m arr \u001b[38;5;129;01min\u001b[39;00m arrays}\n\u001b[32m    459\u001b[39m \u001b[38;5;28;01mif\u001b[39;00m \u001b[38;5;28mlen\u001b[39m(shapes) != \u001b[32m1\u001b[39m:\n\u001b[32m--> \u001b[39m\u001b[32m460\u001b[39m     \u001b[38;5;28;01mraise\u001b[39;00m \u001b[38;5;167;01mValueError\u001b[39;00m(\u001b[33m'\u001b[39m\u001b[33mall input arrays must have the same shape\u001b[39m\u001b[33m'\u001b[39m)\n\u001b[32m    462\u001b[39m result_ndim = arrays[\u001b[32m0\u001b[39m].ndim + \u001b[32m1\u001b[39m\n\u001b[32m    463\u001b[39m axis = normalize_axis_index(axis, result_ndim)\n",
      "\u001b[31mValueError\u001b[39m: all input arrays must have the same shape"
     ]
    }
   ],
   "source": [
    "for g1, g2, label, _ in dataset:\n",
    "    pool = lambda xdict: torch.cat([xdict[nt].mean(dim=0) for nt in xdict], dim=0)\n",
    "    x1 = pool(g1.x_dict)\n",
    "    x2 = pool(g2.x_dict)\n",
    "    x = torch.cat([x1, x2]).numpy()\n",
    "    X.append(x)\n",
    "    y.append(label_map[label])\n",
    "\n",
    "X = np.stack(X)\n",
    "y = np.array(y)\n",
    "X_train, X_test, y_train, y_test = train_test_split(X, y, test_size=0.2, random_state=42)\n",
    "\n",
    "clf_raw = SVC(kernel=\"linear\", C=1.0)\n",
    "clf_raw.fit(X_raw_train, y_raw_train)\n",
    "joblib.dump(clf_raw, \"svm_raw.joblib\")\n",
    "\n",
    "clf_gnn = SVC(kernel=\"linear\", C=1.0)\n",
    "clf_gnn.fit(X_gnn_train, y_gnn_train)\n",
    "joblib.dump(clf_gnn, \"svm_gnn.joblib\")\n",
    "\n",
    "print(classification_report(y_test, pred, target_names=list(label_map.keys())))"
   ]
  }
 ],
 "metadata": {
  "kernelspec": {
   "display_name": "mlsec",
   "language": "python",
   "name": "python3"
  },
  "language_info": {
   "codemirror_mode": {
    "name": "ipython",
    "version": 3
   },
   "file_extension": ".py",
   "mimetype": "text/x-python",
   "name": "python",
   "nbconvert_exporter": "python",
   "pygments_lexer": "ipython3",
   "version": "3.11.6"
  }
 },
 "nbformat": 4,
 "nbformat_minor": 5
}
