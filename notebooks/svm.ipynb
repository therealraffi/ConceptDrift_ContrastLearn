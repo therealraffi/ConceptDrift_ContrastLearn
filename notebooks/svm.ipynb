{
 "cells": [
  {
   "cell_type": "code",
   "execution_count": null,
   "id": "0ca6480a",
   "metadata": {},
   "outputs": [],
   "source": [
    "\n",
    "import torch\n",
    "import pickle\n",
    "import numpy as np\n",
    "import pandas as pd\n",
    "from pathlib import Path\n",
    "from sklearn.svm import SVC\n",
    "from sklearn.model_selection import train_test_split\n",
    "from sklearn.metrics import classification_report\n",
    "\n",
    "from my_models import ContrastiveGraphDataset, load_graph, to_heterodata\n",
    "from relation_graph import RelationGraph\n",
    "import joblib"
   ]
  },
  {
   "cell_type": "code",
   "execution_count": null,
   "id": "d1976674",
   "metadata": {},
   "outputs": [],
   "source": [
    "meta = pd.read_csv(\"/scratch/rhm4nj/ml-sec/data/dataset/apk_metadata.csv\", parse_dates=[\"datetime\"]).set_index(\"apk_id\")\n",
    "rg = RelationGraph(\n",
    "    rel_path=\"/scratch/rhm4nj/ml-sec/APIGraph/src/res/relations.txt\",\n",
    "    ent_path=\"/scratch/rhm4nj/ml-sec/APIGraph/src/res/entities.txt\",\n",
    "    type_map={'package':1, 'class':2, 'method':3, 'permission':4},\n",
    "    rel_map={1:'function_of',2:'class_of',3:'inheritance',4:'uses_parameter',5:'returns',\n",
    "             6:'throws',7:'alternative',8:'conditional',9:'refers_to',10:'uses_permission'}\n",
    ")\n",
    "\n",
    "sample_path = next(Path(\"/scratch/rhm4nj/ml-sec/data/subgraphs\").glob(\"*.gpickle\"))\n",
    "sample_data = to_heterodata(pickle.load(open(sample_path, \"rb\")), rg)\n",
    "metadata = sample_data.metadata()\n",
    "\n",
    "dataset = ContrastiveGraphDataset(\n",
    "    graph_dir=\"/scratch/rhm4nj/ml-sec/data/subgraphs\",\n",
    "    meta=meta,\n",
    "    rg=rg,\n",
    "    metadata=metadata,\n",
    "    num_pairs=5000,\n",
    "    sample_pairs=5000,\n",
    "    pair_file=\"/scratch/rhm4nj/ml-sec/data/dataset/pairs.pkl\",\n",
    "    save_pairs=False\n",
    ")\n",
    "\n",
    "label_map = {'strong': 0, 'weak': 1, 'benign_malware': 2}\n",
    "X, y = [], []"
   ]
  },
  {
   "cell_type": "code",
   "execution_count": null,
   "id": "44e2a164",
   "metadata": {},
   "outputs": [],
   "source": [
    "for g1, g2, label, _ in dataset:\n",
    "    pool = lambda xdict: torch.cat([xdict[nt].mean(dim=0) for nt in xdict], dim=0)\n",
    "    x1 = pool(g1.x_dict)\n",
    "    x2 = pool(g2.x_dict)\n",
    "    x = torch.cat([x1, x2]).numpy()\n",
    "    X.append(x)\n",
    "    y.append(label_map[label])\n",
    "\n",
    "X = np.stack(X)\n",
    "y = np.array(y)\n",
    "X_train, X_test, y_train, y_test = train_test_split(X, y, test_size=0.2, random_state=42)\n",
    "\n",
    "clf_raw = SVC(kernel=\"linear\", C=1.0)\n",
    "clf_raw.fit(X_train, y_train)\n",
    "\n",
    "clf_gnn = SVC(kernel=\"linear\", C=1.0)\n",
    "clf_gnn.fit(y_train, y_test)\n",
    "\n",
    "pred = clf_raw.predict(X_test)\n",
    "\n",
    "print(classification_report(y_test, pred, target_names=list(label_map.keys())))"
   ]
  }
 ],
 "metadata": {
  "kernelspec": {
   "display_name": "mlsec",
   "language": "python",
   "name": "python3"
  },
  "language_info": {
   "codemirror_mode": {
    "name": "ipython",
    "version": 3
   },
   "file_extension": ".py",
   "mimetype": "text/x-python",
   "name": "python",
   "nbconvert_exporter": "python",
   "pygments_lexer": "ipython3",
   "version": "3.11.6"
  }
 },
 "nbformat": 4,
 "nbformat_minor": 5
}
