{
 "cells": [
  {
   "cell_type": "code",
   "execution_count": null,
   "id": "ce673bd8",
   "metadata": {},
   "outputs": [],
   "source": [
    "import os\n",
    "import csv\n",
    "import random\n",
    "from datetime import datetime, timedelta\n",
    "from pathlib import Path\n",
    "\n",
    "apk_dir = Path(\"/scratch/rhm4nj/ml-sec/data/apks\")\n",
    "out_csv = Path(\"/scratch/rhm4nj/ml-sec/data/dataset/apk_metadata.csv\")\n",
    "\n",
    "malware_classes = [\n",
    "    'skymobi', 'youmi', 'smsreg', 'lotoor', 'artemis', 'secapk', 'dowgin',\n",
    "    'airpush', 'fusob', 'triada', 'fakeinst', 'wapsx', 'boxer', 'kuguo',\n",
    "    'adwo', 'appquanta', 'plankton', 'smspay', 'smsspy', 'mecor', 'smforw',\n",
    "    'utchi', 'opfake', 'umpay', 'dnotua', 'waps', 'admogo', 'hiddad',\n",
    "    'hiddenapp', 'hiddenads'\n",
    "]\n",
    "\n",
    "# gather apk names (stem of filename)\n",
    "apk_paths = list(apk_dir.glob(\"*.apk\"))\n",
    "apk_ids = [p.stem for p in apk_paths]\n",
    "\n",
    "random.seed(42)\n",
    "random.shuffle(apk_ids)\n",
    "\n",
    "start = datetime(2013, 1, 1)\n",
    "end = datetime(2018, 12, 31)\n",
    "def random_time():\n",
    "    delta = end - start\n",
    "    rand_sec = random.randint(0, int(delta.total_seconds()))\n",
    "    return start + timedelta(seconds=rand_sec)\n",
    "\n",
    "# label distribution\n",
    "n_total = len(apk_ids)\n",
    "n_benign = int(n_total * 0.75)\n",
    "n_malware = n_total - n_benign\n",
    "\n",
    "labels = (\n",
    "    ['benign'] * n_benign +\n",
    "    [random.choice(malware_classes) for _ in range(n_malware)]\n",
    ")\n",
    "random.shuffle(labels)\n",
    "\n",
    "with open(out_csv, \"w\", newline=\"\") as f:\n",
    "    writer = csv.writer(f)\n",
    "    writer.writerow([\"apk_id\", \"datetime\", \"class\"])\n",
    "    for apk_id, cls in zip(apk_ids, labels):\n",
    "        dt = random_time().strftime(\"%Y-%m-%d %H:%M:%S\")\n",
    "        writer.writerow([apk_id, dt, cls])\n",
    "\n",
    "print(f\"Wrote metadata for {n_total} APKs to {out_csv}\")"
   ]
  }
 ],
 "metadata": {
  "kernelspec": {
   "display_name": "mlsec",
   "language": "python",
   "name": "python3"
  },
  "language_info": {
   "codemirror_mode": {
    "name": "ipython",
    "version": 3
   },
   "file_extension": ".py",
   "mimetype": "text/x-python",
   "name": "python",
   "nbconvert_exporter": "python",
   "pygments_lexer": "ipython3",
   "version": "3.11.6"
  }
 },
 "nbformat": 4,
 "nbformat_minor": 5
}
