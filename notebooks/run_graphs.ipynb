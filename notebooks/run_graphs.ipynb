{
 "cells": [
  {
   "cell_type": "code",
   "execution_count": 4,
   "id": "7053b727",
   "metadata": {},
   "outputs": [],
   "source": [
    "import os\n",
    "import subprocess\n",
    "import time\n",
    "from pathlib import Path\n",
    "from itertools import islice\n",
    "from tqdm import tqdm\n",
    "import shutil\n",
    "import os\n",
    "from pathlib import Path"
   ]
  },
  {
   "cell_type": "code",
   "execution_count": null,
   "id": "efcea15a",
   "metadata": {},
   "outputs": [
    {
     "name": "stderr",
     "output_type": "stream",
     "text": [
      "Submitting jobs:   0%|          | 1/1785 [00:00<07:29,  3.97it/s]"
     ]
    },
    {
     "name": "stdout",
     "output_type": "stream",
     "text": [
      "Submitted batch job 4206264\n"
     ]
    },
    {
     "name": "stderr",
     "output_type": "stream",
     "text": [
      "Submitting jobs:   0%|          | 2/1785 [00:00<10:39,  2.79it/s]"
     ]
    },
    {
     "name": "stdout",
     "output_type": "stream",
     "text": [
      "Submitted batch job 4206265\n"
     ]
    },
    {
     "name": "stderr",
     "output_type": "stream",
     "text": [
      "Submitting jobs:   0%|          | 3/1785 [00:00<09:30,  3.12it/s]"
     ]
    },
    {
     "name": "stdout",
     "output_type": "stream",
     "text": [
      "Submitted batch job 4206266\n"
     ]
    },
    {
     "name": "stderr",
     "output_type": "stream",
     "text": [
      "Submitting jobs:   0%|          | 5/1785 [00:01<07:24,  4.01it/s]"
     ]
    },
    {
     "name": "stdout",
     "output_type": "stream",
     "text": [
      "Submitted batch job 4206267\n",
      "Submitted batch job 4206268\n"
     ]
    },
    {
     "name": "stderr",
     "output_type": "stream",
     "text": [
      "Submitting jobs:   0%|          | 6/1785 [00:01<06:06,  4.85it/s]"
     ]
    },
    {
     "name": "stdout",
     "output_type": "stream",
     "text": [
      "Submitted batch job 4206269\n"
     ]
    },
    {
     "name": "stderr",
     "output_type": "stream",
     "text": [
      "Submitting jobs:   0%|          | 7/1785 [00:01<06:08,  4.83it/s]"
     ]
    },
    {
     "name": "stdout",
     "output_type": "stream",
     "text": [
      "Submitted batch job 4206270\n"
     ]
    },
    {
     "name": "stderr",
     "output_type": "stream",
     "text": [
      "Submitting jobs:   1%|          | 9/1785 [00:02<05:35,  5.29it/s]"
     ]
    },
    {
     "name": "stdout",
     "output_type": "stream",
     "text": [
      "Submitted batch job 4206271\n",
      "Submitted batch job 4206272\n"
     ]
    },
    {
     "name": "stderr",
     "output_type": "stream",
     "text": [
      "Submitting jobs:   1%|          | 10/1785 [00:02<04:59,  5.92it/s]"
     ]
    },
    {
     "name": "stdout",
     "output_type": "stream",
     "text": [
      "Submitted batch job 4206273\n",
      "Submitted batch job 4206274\n"
     ]
    },
    {
     "name": "stderr",
     "output_type": "stream",
     "text": [
      "Submitting jobs:   1%|          | 13/1785 [00:02<04:05,  7.22it/s]"
     ]
    },
    {
     "name": "stdout",
     "output_type": "stream",
     "text": [
      "Submitted batch job 4206275\n",
      "Submitted batch job 4206276\n",
      "Submitted batch job 4206277\n"
     ]
    },
    {
     "name": "stderr",
     "output_type": "stream",
     "text": [
      "Submitting jobs:   1%|          | 17/1785 [00:02<02:42, 10.88it/s]"
     ]
    },
    {
     "name": "stdout",
     "output_type": "stream",
     "text": [
      "Submitted batch job 4206278\n",
      "Submitted batch job 4206279\n",
      "Submitted batch job 4206280\n",
      "Submitted batch job 4206281\n"
     ]
    },
    {
     "name": "stderr",
     "output_type": "stream",
     "text": [
      "Submitting jobs:   1%|          | 21/1785 [00:03<02:14, 13.13it/s]"
     ]
    },
    {
     "name": "stdout",
     "output_type": "stream",
     "text": [
      "Submitted batch job 4206282\n",
      "Submitted batch job 4206283\n",
      "Submitted batch job 4206284\n",
      "Submitted batch job 4206285\n"
     ]
    },
    {
     "name": "stderr",
     "output_type": "stream",
     "text": [
      "Submitting jobs:   1%|▏         | 25/1785 [00:03<01:59, 14.74it/s]"
     ]
    },
    {
     "name": "stdout",
     "output_type": "stream",
     "text": [
      "Submitted batch job 4206286\n",
      "Submitted batch job 4206287\n",
      "Submitted batch job 4206288\n",
      "Submitted batch job 4206289\n"
     ]
    },
    {
     "name": "stderr",
     "output_type": "stream",
     "text": [
      "Submitting jobs:   2%|▏         | 29/1785 [00:03<01:56, 15.12it/s]"
     ]
    },
    {
     "name": "stdout",
     "output_type": "stream",
     "text": [
      "Submitted batch job 4206290\n",
      "Submitted batch job 4206291\n",
      "Submitted batch job 4206292\n"
     ]
    },
    {
     "name": "stderr",
     "output_type": "stream",
     "text": [
      "Submitting jobs:   2%|▏         | 33/1785 [00:03<01:56, 15.10it/s]"
     ]
    },
    {
     "name": "stdout",
     "output_type": "stream",
     "text": [
      "Submitted batch job 4206293\n",
      "Submitted batch job 4206294\n",
      "Submitted batch job 4206295\n",
      "Submitted batch job 4206296\n"
     ]
    },
    {
     "name": "stderr",
     "output_type": "stream",
     "text": [
      "Submitting jobs:   2%|▏         | 35/1785 [00:03<01:56, 14.99it/s]"
     ]
    },
    {
     "name": "stdout",
     "output_type": "stream",
     "text": [
      "Submitted batch job 4206297\n",
      "Submitted batch job 4206298\n",
      "Submitted batch job 4206299\n"
     ]
    },
    {
     "name": "stderr",
     "output_type": "stream",
     "text": [
      "Submitting jobs:   2%|▏         | 39/1785 [00:04<02:01, 14.40it/s]"
     ]
    },
    {
     "name": "stdout",
     "output_type": "stream",
     "text": [
      "Submitted batch job 4206300\n",
      "Submitted batch job 4206301\n",
      "Submitted batch job 4206302\n"
     ]
    },
    {
     "name": "stderr",
     "output_type": "stream",
     "text": [
      "Submitting jobs:   2%|▏         | 43/1785 [00:04<01:58, 14.67it/s]"
     ]
    },
    {
     "name": "stdout",
     "output_type": "stream",
     "text": [
      "Submitted batch job 4206303\n",
      "Submitted batch job 4206304\n",
      "Submitted batch job 4206305\n",
      "Submitted batch job 4206306\n"
     ]
    },
    {
     "name": "stderr",
     "output_type": "stream",
     "text": [
      "Submitting jobs:   3%|▎         | 45/1785 [00:04<02:01, 14.30it/s]"
     ]
    },
    {
     "name": "stdout",
     "output_type": "stream",
     "text": [
      "Submitted batch job 4206307\n",
      "Submitted batch job 4206308\n",
      "Submitted batch job 4206309\n"
     ]
    },
    {
     "name": "stderr",
     "output_type": "stream",
     "text": [
      "Submitting jobs:   3%|▎         | 49/1785 [00:05<02:35, 11.14it/s]"
     ]
    },
    {
     "name": "stdout",
     "output_type": "stream",
     "text": [
      "Submitted batch job 4206310\n",
      "Submitted batch job 4206311\n",
      "Submitted batch job 4206312\n"
     ]
    },
    {
     "name": "stderr",
     "output_type": "stream",
     "text": [
      "Submitting jobs:   3%|▎         | 51/1785 [00:05<02:31, 11.48it/s]"
     ]
    },
    {
     "name": "stdout",
     "output_type": "stream",
     "text": [
      "Submitted batch job 4206313\n",
      "Submitted batch job 4206314\n",
      "Submitted batch job 4206315\n"
     ]
    },
    {
     "name": "stderr",
     "output_type": "stream",
     "text": [
      "Submitting jobs:   3%|▎         | 53/1785 [00:05<02:25, 11.87it/s]"
     ]
    },
    {
     "name": "stdout",
     "output_type": "stream",
     "text": [
      "Submitted batch job 4206316\n",
      "Submitted batch job 4206317\n"
     ]
    },
    {
     "name": "stderr",
     "output_type": "stream",
     "text": [
      "Submitting jobs:   3%|▎         | 57/1785 [01:25<4:04:48,  8.50s/it]"
     ]
    },
    {
     "name": "stdout",
     "output_type": "stream",
     "text": [
      "Submitted batch job 4206318\n",
      "Submitted batch job 4206319\n",
      "Submitted batch job 4206320\n"
     ]
    },
    {
     "name": "stderr",
     "output_type": "stream",
     "text": [
      "Submitting jobs:   3%|▎         | 59/1785 [01:36<3:34:59,  7.47s/it]"
     ]
    },
    {
     "name": "stdout",
     "output_type": "stream",
     "text": [
      "Submitted batch job 4206321\n",
      "Submitted batch job 4206322\n",
      "Submitted batch job 4206323\n"
     ]
    },
    {
     "name": "stderr",
     "output_type": "stream",
     "text": [
      "Submitting jobs:   4%|▎         | 63/1785 [01:46<2:16:17,  4.75s/it]"
     ]
    },
    {
     "name": "stdout",
     "output_type": "stream",
     "text": [
      "Submitted batch job 4206324\n",
      "Submitted batch job 4206325\n",
      "Submitted batch job 4206326\n",
      "Submitted batch job 4206327\n"
     ]
    },
    {
     "name": "stderr",
     "output_type": "stream",
     "text": [
      "Submitting jobs:   4%|▎         | 65/1785 [01:46<1:35:52,  3.34s/it]"
     ]
    },
    {
     "name": "stdout",
     "output_type": "stream",
     "text": [
      "Submitted batch job 4206328\n",
      "Submitted batch job 4206329\n"
     ]
    },
    {
     "name": "stderr",
     "output_type": "stream",
     "text": [
      "Submitting jobs:   4%|▍         | 67/1785 [01:56<1:51:29,  3.89s/it]"
     ]
    },
    {
     "name": "stdout",
     "output_type": "stream",
     "text": [
      "Submitted batch job 4206335\n",
      "Submitted batch job 4206336\n"
     ]
    },
    {
     "name": "stderr",
     "output_type": "stream",
     "text": [
      "Submitting jobs:   4%|▍         | 71/1785 [02:07<1:25:27,  2.99s/it]"
     ]
    },
    {
     "name": "stdout",
     "output_type": "stream",
     "text": [
      "Submitted batch job 4206337\n",
      "Submitted batch job 4206338\n",
      "Submitted batch job 4206339\n",
      "Submitted batch job 4206340\n"
     ]
    },
    {
     "name": "stderr",
     "output_type": "stream",
     "text": [
      "Submitting jobs:   4%|▍         | 75/1785 [02:17<1:12:43,  2.55s/it]"
     ]
    },
    {
     "name": "stdout",
     "output_type": "stream",
     "text": [
      "Submitted batch job 4206341\n",
      "Submitted batch job 4206342\n",
      "Submitted batch job 4206343\n",
      "Submitted batch job 4206344\n"
     ]
    },
    {
     "name": "stderr",
     "output_type": "stream",
     "text": [
      "Submitting jobs:   4%|▍         | 79/1785 [02:17<36:24,  1.28s/it]  "
     ]
    },
    {
     "name": "stdout",
     "output_type": "stream",
     "text": [
      "Submitted batch job 4206345\n",
      "Submitted batch job 4206346\n",
      "Submitted batch job 4206347\n"
     ]
    },
    {
     "name": "stderr",
     "output_type": "stream",
     "text": [
      "Submitting jobs:   5%|▍         | 81/1785 [02:28<1:09:22,  2.44s/it]"
     ]
    },
    {
     "name": "stdout",
     "output_type": "stream",
     "text": [
      "Submitted batch job 4206348\n",
      "Submitted batch job 4206349\n",
      "Submitted batch job 4206350\n"
     ]
    },
    {
     "name": "stderr",
     "output_type": "stream",
     "text": [
      "Submitting jobs:   5%|▍         | 85/1785 [02:28<34:55,  1.23s/it]  "
     ]
    },
    {
     "name": "stdout",
     "output_type": "stream",
     "text": [
      "Submitted batch job 4206351\n",
      "Submitted batch job 4206352\n",
      "Submitted batch job 4206353\n"
     ]
    },
    {
     "name": "stderr",
     "output_type": "stream",
     "text": [
      "Submitting jobs:   5%|▍         | 87/1785 [02:38<1:07:34,  2.39s/it]"
     ]
    },
    {
     "name": "stdout",
     "output_type": "stream",
     "text": [
      "Submitted batch job 4206359\n",
      "Submitted batch job 4206360\n",
      "Submitted batch job 4206361\n"
     ]
    },
    {
     "name": "stderr",
     "output_type": "stream",
     "text": [
      "Submitting jobs:   5%|▌         | 91/1785 [02:38<34:03,  1.21s/it]  "
     ]
    },
    {
     "name": "stdout",
     "output_type": "stream",
     "text": [
      "Submitted batch job 4206362\n",
      "Submitted batch job 4206363\n",
      "Submitted batch job 4206364\n"
     ]
    },
    {
     "name": "stderr",
     "output_type": "stream",
     "text": [
      "Submitting jobs:   5%|▌         | 93/1785 [02:38<24:22,  1.16it/s]"
     ]
    },
    {
     "name": "stdout",
     "output_type": "stream",
     "text": [
      "Submitted batch job 4206365\n",
      "Submitted batch job 4206366\n",
      "Submitted batch job 4206367\n"
     ]
    },
    {
     "name": "stderr",
     "output_type": "stream",
     "text": [
      "Submitting jobs:   5%|▌         | 97/1785 [02:39<12:56,  2.17it/s]"
     ]
    },
    {
     "name": "stdout",
     "output_type": "stream",
     "text": [
      "Submitted batch job 4206368\n",
      "Submitted batch job 4206369\n",
      "Submitted batch job 4206370\n"
     ]
    },
    {
     "name": "stderr",
     "output_type": "stream",
     "text": [
      "Submitting jobs:   6%|▌         | 99/1785 [02:39<09:37,  2.92it/s]"
     ]
    },
    {
     "name": "stdout",
     "output_type": "stream",
     "text": [
      "Submitted batch job 4206371\n",
      "Submitted batch job 4206372\n",
      "Submitted batch job 4206373\n",
      "Submitted batch job 4206374\n"
     ]
    },
    {
     "name": "stderr",
     "output_type": "stream",
     "text": [
      "Submitting jobs:   6%|▌         | 103/1785 [02:39<05:41,  4.92it/s]"
     ]
    },
    {
     "name": "stdout",
     "output_type": "stream",
     "text": [
      "Submitted batch job 4206375\n",
      "Submitted batch job 4206376\n",
      "Submitted batch job 4206377\n"
     ]
    },
    {
     "name": "stderr",
     "output_type": "stream",
     "text": [
      "Submitting jobs:   6%|▌         | 105/1785 [02:39<04:38,  6.03it/s]"
     ]
    },
    {
     "name": "stdout",
     "output_type": "stream",
     "text": [
      "Submitted batch job 4206378\n"
     ]
    },
    {
     "name": "stderr",
     "output_type": "stream",
     "text": [
      "Submitting jobs:   6%|▌         | 107/1785 [02:49<45:57,  1.64s/it]"
     ]
    },
    {
     "name": "stdout",
     "output_type": "stream",
     "text": [
      "Submitted batch job 4206379\n",
      "Submitted batch job 4206380\n",
      "Submitted batch job 4206381\n"
     ]
    },
    {
     "name": "stderr",
     "output_type": "stream",
     "text": [
      "Submitting jobs:   6%|▌         | 111/1785 [02:50<23:28,  1.19it/s]"
     ]
    },
    {
     "name": "stdout",
     "output_type": "stream",
     "text": [
      "Submitted batch job 4206382\n",
      "Submitted batch job 4206383\n",
      "Submitted batch job 4206384\n"
     ]
    },
    {
     "name": "stderr",
     "output_type": "stream",
     "text": [
      "Submitting jobs:   6%|▋         | 113/1785 [02:50<16:58,  1.64it/s]"
     ]
    },
    {
     "name": "stdout",
     "output_type": "stream",
     "text": [
      "Submitted batch job 4206385\n",
      "Submitted batch job 4206386\n",
      "Submitted batch job 4206387\n"
     ]
    },
    {
     "name": "stderr",
     "output_type": "stream",
     "text": [
      "Submitting jobs:   7%|▋         | 117/1785 [02:50<09:17,  2.99it/s]"
     ]
    },
    {
     "name": "stdout",
     "output_type": "stream",
     "text": [
      "Submitted batch job 4206388\n",
      "Submitted batch job 4206389\n",
      "Submitted batch job 4206390\n"
     ]
    },
    {
     "name": "stderr",
     "output_type": "stream",
     "text": [
      "Submitting jobs:   7%|▋         | 121/1785 [02:50<05:27,  5.08it/s]"
     ]
    },
    {
     "name": "stdout",
     "output_type": "stream",
     "text": [
      "Submitted batch job 4206391\n",
      "Submitted batch job 4206392\n",
      "Submitted batch job 4206393\n",
      "Submitted batch job 4206394\n"
     ]
    },
    {
     "name": "stderr",
     "output_type": "stream",
     "text": [
      "Submitting jobs:   7%|▋         | 123/1785 [02:50<04:18,  6.42it/s]"
     ]
    },
    {
     "name": "stdout",
     "output_type": "stream",
     "text": [
      "Submitted batch job 4206395\n",
      "Submitted batch job 4206396\n"
     ]
    },
    {
     "name": "stderr",
     "output_type": "stream",
     "text": [
      "Submitting jobs:   7%|▋         | 125/1785 [03:01<46:11,  1.67s/it]"
     ]
    },
    {
     "name": "stdout",
     "output_type": "stream",
     "text": [
      "Submitted batch job 4206401\n",
      "Submitted batch job 4206402\n",
      "Submitted batch job 4206403\n",
      "Submitted batch job 4206404\n"
     ]
    },
    {
     "name": "stderr",
     "output_type": "stream",
     "text": [
      "Submitting jobs:   7%|▋         | 131/1785 [03:01<16:55,  1.63it/s]"
     ]
    },
    {
     "name": "stdout",
     "output_type": "stream",
     "text": [
      "Submitted batch job 4206405\n",
      "Submitted batch job 4206406\n",
      "Submitted batch job 4206407\n",
      "Submitted batch job 4206408\n"
     ]
    },
    {
     "name": "stderr",
     "output_type": "stream",
     "text": [
      "Submitting jobs:   8%|▊         | 135/1785 [03:02<09:10,  3.00it/s]"
     ]
    },
    {
     "name": "stdout",
     "output_type": "stream",
     "text": [
      "Submitted batch job 4206409\n",
      "Submitted batch job 4206410\n",
      "Submitted batch job 4206411\n",
      "Submitted batch job 4206412\n"
     ]
    },
    {
     "name": "stderr",
     "output_type": "stream",
     "text": [
      "Submitting jobs:   8%|▊         | 137/1785 [03:02<06:55,  3.97it/s]"
     ]
    },
    {
     "name": "stdout",
     "output_type": "stream",
     "text": [
      "Submitted batch job 4206413\n",
      "Submitted batch job 4206414\n"
     ]
    },
    {
     "name": "stderr",
     "output_type": "stream",
     "text": [
      "Submitting jobs:   8%|▊         | 141/1785 [03:12<33:09,  1.21s/it]"
     ]
    },
    {
     "name": "stdout",
     "output_type": "stream",
     "text": [
      "Submitted batch job 4206415\n",
      "Submitted batch job 4206416\n",
      "Submitted batch job 4206417\n",
      "Submitted batch job 4206418\n"
     ]
    },
    {
     "name": "stderr",
     "output_type": "stream",
     "text": [
      "Submitting jobs:   8%|▊         | 143/1785 [03:22<1:04:52,  2.37s/it]"
     ]
    },
    {
     "name": "stdout",
     "output_type": "stream",
     "text": [
      "Submitted batch job 4206420\n",
      "Submitted batch job 4206421\n",
      "Submitted batch job 4206422\n"
     ]
    },
    {
     "name": "stderr",
     "output_type": "stream",
     "text": [
      "Submitting jobs:   8%|▊         | 145/1785 [03:22<45:56,  1.68s/it]  "
     ]
    },
    {
     "name": "stdout",
     "output_type": "stream",
     "text": [
      "Submitted batch job 4206423\n",
      "Submitted batch job 4206424\n"
     ]
    },
    {
     "name": "stderr",
     "output_type": "stream",
     "text": [
      "Submitting jobs:   8%|▊         | 149/1785 [03:33<52:10,  1.91s/it]  "
     ]
    },
    {
     "name": "stdout",
     "output_type": "stream",
     "text": [
      "Submitted batch job 4206454\n",
      "Submitted batch job 4206455\n",
      "Submitted batch job 4206456\n"
     ]
    },
    {
     "name": "stderr",
     "output_type": "stream",
     "text": [
      "Submitting jobs:   8%|▊         | 151/1785 [03:33<37:01,  1.36s/it]"
     ]
    },
    {
     "name": "stdout",
     "output_type": "stream",
     "text": [
      "Submitted batch job 4206457\n",
      "Submitted batch job 4206458\n",
      "Submitted batch job 4206459\n"
     ]
    },
    {
     "name": "stderr",
     "output_type": "stream",
     "text": [
      "Submitting jobs:   9%|▊         | 153/1785 [03:33<26:28,  1.03it/s]"
     ]
    },
    {
     "name": "stdout",
     "output_type": "stream",
     "text": [
      "Submitted batch job 4206460\n",
      "Submitted batch job 4206461\n"
     ]
    },
    {
     "name": "stderr",
     "output_type": "stream",
     "text": [
      "Submitting jobs:   9%|▉         | 157/1785 [03:43<42:37,  1.57s/it]"
     ]
    },
    {
     "name": "stdout",
     "output_type": "stream",
     "text": [
      "Submitted batch job 4206463\n",
      "Submitted batch job 4206464\n",
      "Submitted batch job 4206465\n"
     ]
    },
    {
     "name": "stderr",
     "output_type": "stream",
     "text": [
      "Submitting jobs:   9%|▉         | 159/1785 [03:53<1:11:09,  2.63s/it]"
     ]
    },
    {
     "name": "stdout",
     "output_type": "stream",
     "text": [
      "Submitted batch job 4206466\n",
      "Submitted batch job 4206467\n",
      "Submitted batch job 4206468\n"
     ]
    },
    {
     "name": "stderr",
     "output_type": "stream",
     "text": [
      "Submitting jobs:   9%|▉         | 163/1785 [04:04<1:04:14,  2.38s/it]"
     ]
    },
    {
     "name": "stdout",
     "output_type": "stream",
     "text": [
      "Submitted batch job 4206470\n",
      "Submitted batch job 4206471\n",
      "Submitted batch job 4206472\n"
     ]
    },
    {
     "name": "stderr",
     "output_type": "stream",
     "text": [
      "Submitting jobs:   9%|▉         | 165/1785 [04:14<1:26:01,  3.19s/it]"
     ]
    },
    {
     "name": "stdout",
     "output_type": "stream",
     "text": [
      "Submitted batch job 4206473\n",
      "Submitted batch job 4206474\n",
      "Submitted batch job 4206475\n"
     ]
    },
    {
     "name": "stderr",
     "output_type": "stream",
     "text": [
      "Submitting jobs:   9%|▉         | 167/1785 [04:24<1:41:14,  3.75s/it]"
     ]
    },
    {
     "name": "stdout",
     "output_type": "stream",
     "text": [
      "Submitted batch job 4206476\n",
      "Submitted batch job 4206477\n"
     ]
    },
    {
     "name": "stderr",
     "output_type": "stream",
     "text": [
      "Submitting jobs:   9%|▉         | 169/1785 [04:34<1:51:49,  4.15s/it]"
     ]
    },
    {
     "name": "stdout",
     "output_type": "stream",
     "text": [
      "Submitted batch job 4206479\n",
      "Submitted batch job 4206480\n"
     ]
    },
    {
     "name": "stderr",
     "output_type": "stream",
     "text": [
      "Submitting jobs:  10%|▉         | 173/1785 [04:55<1:52:15,  4.18s/it]"
     ]
    },
    {
     "name": "stdout",
     "output_type": "stream",
     "text": [
      "Submitted batch job 4206481\n",
      "Submitted batch job 4206482\n",
      "Submitted batch job 4206483\n",
      "Submitted batch job 4206484\n"
     ]
    },
    {
     "name": "stderr",
     "output_type": "stream",
     "text": [
      "Submitting jobs:  10%|▉         | 177/1785 [05:15<1:52:10,  4.19s/it]"
     ]
    },
    {
     "name": "stdout",
     "output_type": "stream",
     "text": [
      "Submitted batch job 4206486\n",
      "Submitted batch job 4206487\n",
      "Submitted batch job 4206488\n"
     ]
    },
    {
     "name": "stderr",
     "output_type": "stream",
     "text": [
      "Submitting jobs:  10%|█         | 181/1785 [05:26<1:25:38,  3.20s/it]"
     ]
    },
    {
     "name": "stdout",
     "output_type": "stream",
     "text": [
      "Submitted batch job 4206489\n",
      "Submitted batch job 4206490\n",
      "Submitted batch job 4206491\n",
      "Submitted batch job 4206492\n"
     ]
    },
    {
     "name": "stderr",
     "output_type": "stream",
     "text": [
      "Submitting jobs:  10%|█         | 183/1785 [05:26<1:00:25,  2.26s/it]"
     ]
    },
    {
     "name": "stdout",
     "output_type": "stream",
     "text": [
      "Submitted batch job 4206493\n",
      "Submitted batch job 4206494\n",
      "Submitted batch job 4206495\n"
     ]
    },
    {
     "name": "stderr",
     "output_type": "stream",
     "text": [
      "Submitting jobs:  10%|█         | 185/1785 [05:26<42:46,  1.60s/it]  "
     ]
    },
    {
     "name": "stdout",
     "output_type": "stream",
     "text": [
      "Submitted batch job 4206496\n",
      "Submitted batch job 4206497\n"
     ]
    },
    {
     "name": "stderr",
     "output_type": "stream",
     "text": [
      "Submitting jobs:  11%|█         | 189/1785 [05:37<51:36,  1.94s/it]  "
     ]
    },
    {
     "name": "stdout",
     "output_type": "stream",
     "text": [
      "Submitted batch job 4206499\n",
      "Submitted batch job 4206500\n",
      "Submitted batch job 4206501\n",
      "Submitted batch job 4206502\n"
     ]
    },
    {
     "name": "stderr",
     "output_type": "stream",
     "text": [
      "Submitting jobs:  11%|█         | 193/1785 [05:37<26:08,  1.01it/s]"
     ]
    },
    {
     "name": "stdout",
     "output_type": "stream",
     "text": [
      "Submitted batch job 4206503\n",
      "Submitted batch job 4206504\n",
      "Submitted batch job 4206505\n",
      "Submitted batch job 4206506\n"
     ]
    },
    {
     "name": "stderr",
     "output_type": "stream",
     "text": [
      "Submitting jobs:  11%|█         | 197/1785 [05:48<41:35,  1.57s/it]"
     ]
    },
    {
     "name": "stdout",
     "output_type": "stream",
     "text": [
      "Submitted batch job 4206507\n",
      "Submitted batch job 4206508\n",
      "Submitted batch job 4206509\n",
      "Submitted batch job 4206510\n"
     ]
    },
    {
     "name": "stderr",
     "output_type": "stream",
     "text": [
      "Submitting jobs:  11%|█▏        | 201/1785 [05:48<21:11,  1.25it/s]"
     ]
    },
    {
     "name": "stdout",
     "output_type": "stream",
     "text": [
      "Submitted batch job 4206511\n",
      "Submitted batch job 4206512\n",
      "Submitted batch job 4206513\n",
      "Submitted batch job 4206514\n"
     ]
    },
    {
     "name": "stderr",
     "output_type": "stream",
     "text": [
      "Submitting jobs:  11%|█▏        | 205/1785 [05:48<11:12,  2.35it/s]"
     ]
    },
    {
     "name": "stdout",
     "output_type": "stream",
     "text": [
      "Submitted batch job 4206515\n",
      "Submitted batch job 4206516\n",
      "Submitted batch job 4206517\n",
      "Submitted batch job 4206518\n"
     ]
    },
    {
     "name": "stderr",
     "output_type": "stream",
     "text": [
      "Submitting jobs:  12%|█▏        | 209/1785 [05:59<35:58,  1.37s/it]"
     ]
    },
    {
     "name": "stdout",
     "output_type": "stream",
     "text": [
      "Submitted batch job 4206519\n",
      "Submitted batch job 4206520\n",
      "Submitted batch job 4206521\n",
      "Submitted batch job 4206522\n"
     ]
    },
    {
     "name": "stderr",
     "output_type": "stream",
     "text": [
      "Submitting jobs:  12%|█▏        | 213/1785 [05:59<18:28,  1.42it/s]"
     ]
    },
    {
     "name": "stdout",
     "output_type": "stream",
     "text": [
      "Submitted batch job 4206523\n",
      "Submitted batch job 4206524\n",
      "Submitted batch job 4206525\n",
      "Submitted batch job 4206526\n"
     ]
    },
    {
     "name": "stderr",
     "output_type": "stream",
     "text": [
      "Submitting jobs:  12%|█▏        | 217/1785 [06:00<09:52,  2.65it/s]"
     ]
    },
    {
     "name": "stdout",
     "output_type": "stream",
     "text": [
      "Submitted batch job 4206527\n",
      "Submitted batch job 4206528\n",
      "Submitted batch job 4206529\n",
      "Submitted batch job 4206530\n"
     ]
    },
    {
     "name": "stderr",
     "output_type": "stream",
     "text": [
      "Submitting jobs:  12%|█▏        | 221/1785 [06:00<05:42,  4.57it/s]"
     ]
    },
    {
     "name": "stdout",
     "output_type": "stream",
     "text": [
      "Submitted batch job 4206531\n",
      "Submitted batch job 4206532\n",
      "Submitted batch job 4206533\n",
      "Submitted batch job 4206534\n"
     ]
    },
    {
     "name": "stderr",
     "output_type": "stream",
     "text": [
      "Submitting jobs:  13%|█▎        | 225/1785 [06:00<03:37,  7.18it/s]"
     ]
    },
    {
     "name": "stdout",
     "output_type": "stream",
     "text": [
      "Submitted batch job 4206535\n",
      "Submitted batch job 4206536\n",
      "Submitted batch job 4206537\n",
      "Submitted batch job 4206538\n"
     ]
    },
    {
     "name": "stderr",
     "output_type": "stream",
     "text": [
      "Submitting jobs:  13%|█▎        | 227/1785 [06:00<03:06,  8.35it/s]"
     ]
    },
    {
     "name": "stdout",
     "output_type": "stream",
     "text": [
      "Submitted batch job 4206539\n"
     ]
    },
    {
     "name": "stderr",
     "output_type": "stream",
     "text": [
      "Submitting jobs:  13%|█▎        | 231/1785 [06:11<29:38,  1.14s/it]"
     ]
    },
    {
     "name": "stdout",
     "output_type": "stream",
     "text": [
      "Submitted batch job 4206541\n",
      "Submitted batch job 4206542\n",
      "Submitted batch job 4206543\n",
      "Submitted batch job 4206544\n"
     ]
    },
    {
     "name": "stderr",
     "output_type": "stream",
     "text": [
      "Submitting jobs:  13%|█▎        | 233/1785 [06:11<22:05,  1.17it/s]"
     ]
    },
    {
     "name": "stdout",
     "output_type": "stream",
     "text": [
      "Submitted batch job 4206545\n",
      "Submitted batch job 4206546\n",
      "Submitted batch job 4206547\n"
     ]
    },
    {
     "name": "stderr",
     "output_type": "stream",
     "text": [
      "Submitting jobs:  13%|█▎        | 237/1785 [06:11<11:42,  2.21it/s]"
     ]
    },
    {
     "name": "stdout",
     "output_type": "stream",
     "text": [
      "Submitted batch job 4206548\n",
      "Submitted batch job 4206549\n",
      "Submitted batch job 4206550\n"
     ]
    },
    {
     "name": "stderr",
     "output_type": "stream",
     "text": [
      "Submitting jobs:  13%|█▎        | 239/1785 [06:21<47:34,  1.85s/it]"
     ]
    },
    {
     "name": "stdout",
     "output_type": "stream",
     "text": [
      "Submitted batch job 4206551\n",
      "Submitted batch job 4206552\n",
      "Submitted batch job 4206553\n"
     ]
    },
    {
     "name": "stderr",
     "output_type": "stream",
     "text": [
      "Submitting jobs:  14%|█▎        | 243/1785 [06:22<24:19,  1.06it/s]"
     ]
    },
    {
     "name": "stdout",
     "output_type": "stream",
     "text": [
      "Submitted batch job 4206554\n",
      "Submitted batch job 4206555\n",
      "Submitted batch job 4206556\n",
      "Submitted batch job 4206557\n"
     ]
    },
    {
     "name": "stderr",
     "output_type": "stream",
     "text": [
      "Submitting jobs:  14%|█▍        | 247/1785 [06:32<40:50,  1.59s/it]"
     ]
    },
    {
     "name": "stdout",
     "output_type": "stream",
     "text": [
      "Submitted batch job 4206558\n",
      "Submitted batch job 4206559\n",
      "Submitted batch job 4206560\n"
     ]
    },
    {
     "name": "stderr",
     "output_type": "stream",
     "text": [
      "Submitting jobs:  14%|█▍        | 249/1785 [06:33<29:06,  1.14s/it]"
     ]
    },
    {
     "name": "stdout",
     "output_type": "stream",
     "text": [
      "Submitted batch job 4206561\n",
      "Submitted batch job 4206562\n",
      "Submitted batch job 4206563\n"
     ]
    },
    {
     "name": "stderr",
     "output_type": "stream",
     "text": [
      "Submitting jobs:  14%|█▍        | 253/1785 [06:43<42:07,  1.65s/it]"
     ]
    },
    {
     "name": "stdout",
     "output_type": "stream",
     "text": [
      "Submitted batch job 4206565\n",
      "Submitted batch job 4206566\n",
      "Submitted batch job 4206567\n",
      "Submitted batch job 4206568\n"
     ]
    },
    {
     "name": "stderr",
     "output_type": "stream",
     "text": [
      "Submitting jobs:  14%|█▍        | 255/1785 [06:53<1:08:25,  2.68s/it]"
     ]
    },
    {
     "name": "stdout",
     "output_type": "stream",
     "text": [
      "Submitted batch job 4206569\n"
     ]
    },
    {
     "name": "stderr",
     "output_type": "stream",
     "text": [
      "Submitting jobs:  14%|█▍        | 258/1785 [07:03<1:08:31,  2.69s/it]"
     ]
    },
    {
     "name": "stdout",
     "output_type": "stream",
     "text": [
      "Submitted batch job 4206570\n",
      "Submitted batch job 4206571\n",
      "Submitted batch job 4206572\n",
      "Submitted batch job 4206573\n"
     ]
    },
    {
     "name": "stderr",
     "output_type": "stream",
     "text": [
      "Submitting jobs:  15%|█▍        | 260/1785 [07:14<1:28:05,  3.47s/it]"
     ]
    },
    {
     "name": "stdout",
     "output_type": "stream",
     "text": [
      "Submitted batch job 4206574\n",
      "Submitted batch job 4206575\n"
     ]
    },
    {
     "name": "stderr",
     "output_type": "stream",
     "text": [
      "Submitting jobs:  15%|█▍        | 264/1785 [07:34<1:37:46,  3.86s/it]"
     ]
    },
    {
     "name": "stdout",
     "output_type": "stream",
     "text": [
      "Submitted batch job 4206576\n",
      "Submitted batch job 4206577\n",
      "Submitted batch job 4206578\n"
     ]
    },
    {
     "name": "stderr",
     "output_type": "stream",
     "text": [
      "Submitting jobs:  15%|█▍        | 266/1785 [07:34<1:08:09,  2.69s/it]"
     ]
    },
    {
     "name": "stdout",
     "output_type": "stream",
     "text": [
      "Submitted batch job 4206579\n",
      "Submitted batch job 4206580\n"
     ]
    },
    {
     "name": "stderr",
     "output_type": "stream",
     "text": [
      "Submitting jobs:  15%|█▌        | 268/1785 [07:44<1:26:34,  3.42s/it]"
     ]
    },
    {
     "name": "stdout",
     "output_type": "stream",
     "text": [
      "Submitted batch job 4206581\n",
      "Submitted batch job 4206582\n"
     ]
    },
    {
     "name": "stderr",
     "output_type": "stream",
     "text": [
      "Submitting jobs:  15%|█▌        | 271/1785 [07:55<1:17:53,  3.09s/it]"
     ]
    },
    {
     "name": "stdout",
     "output_type": "stream",
     "text": [
      "Submitted batch job 4206583\n",
      "Submitted batch job 4206584\n",
      "Submitted batch job 4206585\n"
     ]
    },
    {
     "name": "stderr",
     "output_type": "stream",
     "text": [
      "Submitting jobs:  15%|█▌        | 273/1785 [07:55<52:57,  2.10s/it]  "
     ]
    },
    {
     "name": "stdout",
     "output_type": "stream",
     "text": [
      "Submitted batch job 4206586\n",
      "Submitted batch job 4206587\n",
      "Submitted batch job 4206588\n"
     ]
    },
    {
     "name": "stderr",
     "output_type": "stream",
     "text": [
      "Submitting jobs:  16%|█▌        | 277/1785 [08:05<53:11,  2.12s/it]  "
     ]
    },
    {
     "name": "stdout",
     "output_type": "stream",
     "text": [
      "Submitted batch job 4206589\n",
      "Submitted batch job 4206590\n",
      "Submitted batch job 4206591\n",
      "Submitted batch job 4206592\n"
     ]
    },
    {
     "name": "stderr",
     "output_type": "stream",
     "text": [
      "Submitting jobs:  16%|█▌        | 279/1785 [08:05<37:14,  1.48s/it]"
     ]
    },
    {
     "name": "stdout",
     "output_type": "stream",
     "text": [
      "Submitted batch job 4206593\n",
      "Submitted batch job 4206594\n"
     ]
    },
    {
     "name": "stderr",
     "output_type": "stream",
     "text": [
      "Submitting jobs:  16%|█▌        | 283/1785 [08:15<45:34,  1.82s/it]  "
     ]
    },
    {
     "name": "stdout",
     "output_type": "stream",
     "text": [
      "Submitted batch job 4206595\n",
      "Submitted batch job 4206596\n",
      "Submitted batch job 4206597\n",
      "Submitted batch job 4206598\n"
     ]
    },
    {
     "name": "stderr",
     "output_type": "stream",
     "text": [
      "Submitting jobs:  16%|█▌        | 287/1785 [08:26<49:26,  1.98s/it]  "
     ]
    },
    {
     "name": "stdout",
     "output_type": "stream",
     "text": [
      "Submitted batch job 4206599\n",
      "Submitted batch job 4206600\n",
      "Submitted batch job 4206601\n"
     ]
    },
    {
     "name": "stderr",
     "output_type": "stream",
     "text": [
      "Submitting jobs:  16%|█▋        | 291/1785 [08:26<24:53,  1.00it/s]"
     ]
    },
    {
     "name": "stdout",
     "output_type": "stream",
     "text": [
      "Submitted batch job 4206602\n",
      "Submitted batch job 4206603\n",
      "Submitted batch job 4206604\n",
      "Submitted batch job 4206605\n"
     ]
    },
    {
     "name": "stderr",
     "output_type": "stream",
     "text": [
      "Submitting jobs:  16%|█▋        | 293/1785 [08:26<17:53,  1.39it/s]"
     ]
    },
    {
     "name": "stdout",
     "output_type": "stream",
     "text": [
      "Submitted batch job 4206606\n",
      "Submitted batch job 4206607\n"
     ]
    },
    {
     "name": "stderr",
     "output_type": "stream",
     "text": [
      "Submitting jobs:  17%|█▋        | 295/1785 [08:36<50:27,  2.03s/it]"
     ]
    },
    {
     "name": "stdout",
     "output_type": "stream",
     "text": [
      "Submitted batch job 4206608\n",
      "Submitted batch job 4206609\n",
      "Submitted batch job 4206610\n"
     ]
    },
    {
     "name": "stderr",
     "output_type": "stream",
     "text": [
      "Submitting jobs:  17%|█▋        | 299/1785 [08:37<26:00,  1.05s/it]"
     ]
    },
    {
     "name": "stdout",
     "output_type": "stream",
     "text": [
      "Submitted batch job 4206611\n",
      "Submitted batch job 4206612\n",
      "Submitted batch job 4206613\n",
      "Submitted batch job 4206614\n"
     ]
    },
    {
     "name": "stderr",
     "output_type": "stream",
     "text": [
      "Submitting jobs:  17%|█▋        | 303/1785 [08:47<39:33,  1.60s/it]"
     ]
    },
    {
     "name": "stdout",
     "output_type": "stream",
     "text": [
      "Submitted batch job 4206615\n",
      "Submitted batch job 4206616\n",
      "Submitted batch job 4206617\n",
      "Submitted batch job 4206618\n"
     ]
    },
    {
     "name": "stderr",
     "output_type": "stream",
     "text": [
      "Submitting jobs:  17%|█▋        | 307/1785 [08:47<20:12,  1.22it/s]"
     ]
    },
    {
     "name": "stdout",
     "output_type": "stream",
     "text": [
      "Submitted batch job 4206619\n",
      "Submitted batch job 4206620\n",
      "Submitted batch job 4206621\n",
      "Submitted batch job 4206622\n"
     ]
    },
    {
     "name": "stderr",
     "output_type": "stream",
     "text": [
      "Submitting jobs:  17%|█▋        | 311/1785 [08:48<10:41,  2.30it/s]"
     ]
    },
    {
     "name": "stdout",
     "output_type": "stream",
     "text": [
      "Submitted batch job 4206623\n",
      "Submitted batch job 4206624\n",
      "Submitted batch job 4206625\n"
     ]
    },
    {
     "name": "stderr",
     "output_type": "stream",
     "text": [
      "Submitting jobs:  18%|█▊        | 315/1785 [08:58<31:49,  1.30s/it]"
     ]
    },
    {
     "name": "stdout",
     "output_type": "stream",
     "text": [
      "Submitted batch job 4206626\n",
      "Submitted batch job 4206627\n",
      "Submitted batch job 4206628\n",
      "Submitted batch job 4206629\n"
     ]
    },
    {
     "name": "stderr",
     "output_type": "stream",
     "text": [
      "Submitting jobs:  18%|█▊        | 317/1785 [08:58<22:41,  1.08it/s]"
     ]
    },
    {
     "name": "stdout",
     "output_type": "stream",
     "text": [
      "Submitted batch job 4206630\n",
      "Submitted batch job 4206631\n"
     ]
    },
    {
     "name": "stderr",
     "output_type": "stream",
     "text": [
      "Submitting jobs:  18%|█▊        | 319/1785 [09:08<53:16,  2.18s/it]"
     ]
    },
    {
     "name": "stdout",
     "output_type": "stream",
     "text": [
      "Submitted batch job 4206632\n",
      "Submitted batch job 4206633\n",
      "Submitted batch job 4206634\n"
     ]
    },
    {
     "name": "stderr",
     "output_type": "stream",
     "text": [
      "Submitting jobs:  18%|█▊        | 323/1785 [09:08<26:51,  1.10s/it]"
     ]
    },
    {
     "name": "stdout",
     "output_type": "stream",
     "text": [
      "Submitted batch job 4206635\n",
      "Submitted batch job 4206636\n",
      "Submitted batch job 4206637\n"
     ]
    },
    {
     "name": "stderr",
     "output_type": "stream",
     "text": [
      "Submitting jobs:  18%|█▊        | 325/1785 [09:09<19:21,  1.26it/s]"
     ]
    },
    {
     "name": "stdout",
     "output_type": "stream",
     "text": [
      "Submitted batch job 4206638\n",
      "Submitted batch job 4206639\n",
      "Submitted batch job 4206640\n"
     ]
    },
    {
     "name": "stderr",
     "output_type": "stream",
     "text": [
      "Submitting jobs:  18%|█▊        | 329/1785 [09:09<10:20,  2.35it/s]"
     ]
    },
    {
     "name": "stdout",
     "output_type": "stream",
     "text": [
      "Submitted batch job 4206641\n",
      "Submitted batch job 4206642\n",
      "Submitted batch job 4206643\n",
      "Submitted batch job 4206644\n"
     ]
    },
    {
     "name": "stderr",
     "output_type": "stream",
     "text": [
      "Submitting jobs:  19%|█▊        | 333/1785 [09:19<31:35,  1.31s/it]"
     ]
    },
    {
     "name": "stdout",
     "output_type": "stream",
     "text": [
      "Submitted batch job 4206645\n",
      "Submitted batch job 4206646\n",
      "Submitted batch job 4206647\n"
     ]
    },
    {
     "name": "stderr",
     "output_type": "stream",
     "text": [
      "Submitting jobs:  19%|█▉        | 337/1785 [09:21<18:46,  1.29it/s]"
     ]
    },
    {
     "name": "stdout",
     "output_type": "stream",
     "text": [
      "Submitted batch job 4206648\n",
      "Submitted batch job 4206649\n",
      "Submitted batch job 4206650\n",
      "Submitted batch job 4206651\n"
     ]
    },
    {
     "name": "stderr",
     "output_type": "stream",
     "text": [
      "Submitting jobs:  19%|█▉        | 341/1785 [09:21<09:57,  2.42it/s]"
     ]
    },
    {
     "name": "stdout",
     "output_type": "stream",
     "text": [
      "Submitted batch job 4206652\n",
      "Submitted batch job 4206653\n",
      "Submitted batch job 4206654\n",
      "Submitted batch job 4206655\n"
     ]
    },
    {
     "name": "stderr",
     "output_type": "stream",
     "text": [
      "Submitting jobs:  19%|█▉        | 343/1785 [09:31<43:36,  1.81s/it]"
     ]
    },
    {
     "name": "stdout",
     "output_type": "stream",
     "text": [
      "Submitted batch job 4206656\n",
      "Submitted batch job 4206657\n",
      "Submitted batch job 4206658\n"
     ]
    },
    {
     "name": "stderr",
     "output_type": "stream",
     "text": [
      "Submitting jobs:  19%|█▉        | 345/1785 [09:31<30:57,  1.29s/it]"
     ]
    },
    {
     "name": "stdout",
     "output_type": "stream",
     "text": [
      "Submitted batch job 4206659\n",
      "Submitted batch job 4206660\n"
     ]
    },
    {
     "name": "stderr",
     "output_type": "stream",
     "text": [
      "Submitting jobs:  20%|█▉        | 349/1785 [09:41<41:11,  1.72s/it]"
     ]
    },
    {
     "name": "stdout",
     "output_type": "stream",
     "text": [
      "Submitted batch job 4206661\n",
      "Submitted batch job 4206662\n",
      "Submitted batch job 4206663\n"
     ]
    },
    {
     "name": "stderr",
     "output_type": "stream",
     "text": [
      "Submitting jobs:  20%|█▉        | 351/1785 [09:42<29:16,  1.23s/it]"
     ]
    },
    {
     "name": "stdout",
     "output_type": "stream",
     "text": [
      "Submitted batch job 4206664\n",
      "Submitted batch job 4206665\n"
     ]
    },
    {
     "name": "stderr",
     "output_type": "stream",
     "text": [
      "Submitting jobs:  20%|█▉        | 353/1785 [09:52<57:00,  2.39s/it]"
     ]
    },
    {
     "name": "stdout",
     "output_type": "stream",
     "text": [
      "Submitted batch job 4206667\n",
      "Submitted batch job 4206668\n",
      "Submitted batch job 4206669\n"
     ]
    },
    {
     "name": "stderr",
     "output_type": "stream",
     "text": [
      "Submitting jobs:  20%|█▉        | 355/1785 [09:52<40:21,  1.69s/it]"
     ]
    },
    {
     "name": "stdout",
     "output_type": "stream",
     "text": [
      "Submitted batch job 4206670\n",
      "Submitted batch job 4206671\n"
     ]
    },
    {
     "name": "stderr",
     "output_type": "stream",
     "text": [
      "Submitting jobs:  20%|██        | 359/1785 [10:02<45:42,  1.92s/it]  "
     ]
    },
    {
     "name": "stdout",
     "output_type": "stream",
     "text": [
      "Submitted batch job 4206673\n",
      "Submitted batch job 4206674\n",
      "Submitted batch job 4206675\n"
     ]
    },
    {
     "name": "stderr",
     "output_type": "stream",
     "text": [
      "Submitting jobs:  20%|██        | 361/1785 [10:12<1:08:08,  2.87s/it]"
     ]
    },
    {
     "name": "stdout",
     "output_type": "stream",
     "text": [
      "Submitted batch job 4206676\n",
      "Submitted batch job 4206677\n",
      "Submitted batch job 4206678\n"
     ]
    },
    {
     "name": "stderr",
     "output_type": "stream",
     "text": [
      "Submitting jobs:  20%|██        | 365/1785 [10:13<34:03,  1.44s/it]  "
     ]
    },
    {
     "name": "stdout",
     "output_type": "stream",
     "text": [
      "Submitted batch job 4206679\n",
      "Submitted batch job 4206680\n",
      "Submitted batch job 4206681\n"
     ]
    },
    {
     "name": "stderr",
     "output_type": "stream",
     "text": [
      "Submitting jobs:  21%|██        | 367/1785 [10:23<59:52,  2.53s/it]"
     ]
    },
    {
     "name": "stdout",
     "output_type": "stream",
     "text": [
      "Submitted batch job 4206683\n",
      "Submitted batch job 4206684\n",
      "Submitted batch job 4206685\n",
      "Submitted batch job 4206686\n"
     ]
    },
    {
     "name": "stderr",
     "output_type": "stream",
     "text": [
      "Submitting jobs:  21%|██        | 371/1785 [10:33<1:05:34,  2.78s/it]"
     ]
    },
    {
     "name": "stdout",
     "output_type": "stream",
     "text": [
      "Submitted batch job 4206688\n",
      "Submitted batch job 4206689\n",
      "Submitted batch job 4206690\n"
     ]
    },
    {
     "name": "stderr",
     "output_type": "stream",
     "text": [
      "Submitting jobs:  21%|██        | 373/1785 [10:33<46:21,  1.97s/it]  "
     ]
    },
    {
     "name": "stdout",
     "output_type": "stream",
     "text": [
      "Submitted batch job 4206691\n"
     ]
    },
    {
     "name": "stderr",
     "output_type": "stream",
     "text": [
      "Submitting jobs:  21%|██        | 375/1785 [10:43<1:08:21,  2.91s/it]"
     ]
    },
    {
     "name": "stdout",
     "output_type": "stream",
     "text": [
      "Submitted batch job 4206692\n",
      "Submitted batch job 4206693\n",
      "Submitted batch job 4206694\n"
     ]
    },
    {
     "name": "stderr",
     "output_type": "stream",
     "text": [
      "Submitting jobs:  21%|██        | 379/1785 [10:44<34:14,  1.46s/it]  "
     ]
    },
    {
     "name": "stdout",
     "output_type": "stream",
     "text": [
      "Submitted batch job 4206695\n",
      "Submitted batch job 4206696\n",
      "Submitted batch job 4206697\n"
     ]
    },
    {
     "name": "stderr",
     "output_type": "stream",
     "text": [
      "Submitting jobs:  21%|██▏       | 381/1785 [10:54<59:36,  2.55s/it]"
     ]
    },
    {
     "name": "stdout",
     "output_type": "stream",
     "text": [
      "Submitted batch job 4206798\n",
      "Submitted batch job 4206799\n"
     ]
    },
    {
     "name": "stderr",
     "output_type": "stream",
     "text": [
      "Submitting jobs:  22%|██▏       | 384/1785 [11:04<1:00:47,  2.60s/it]"
     ]
    },
    {
     "name": "stdout",
     "output_type": "stream",
     "text": [
      "Submitted batch job 4206801\n",
      "Submitted batch job 4206802\n",
      "Submitted batch job 4206803\n"
     ]
    },
    {
     "name": "stderr",
     "output_type": "stream",
     "text": [
      "Submitting jobs:  22%|██▏       | 386/1785 [11:04<41:34,  1.78s/it]  "
     ]
    },
    {
     "name": "stdout",
     "output_type": "stream",
     "text": [
      "Submitted batch job 4206804\n",
      "Submitted batch job 4206805\n",
      "Submitted batch job 4206806\n"
     ]
    },
    {
     "name": "stderr",
     "output_type": "stream",
     "text": [
      "Submitting jobs:  22%|██▏       | 388/1785 [11:04<28:55,  1.24s/it]"
     ]
    },
    {
     "name": "stdout",
     "output_type": "stream",
     "text": [
      "Submitted batch job 4206807\n"
     ]
    },
    {
     "name": "stderr",
     "output_type": "stream",
     "text": [
      "Submitting jobs:  22%|██▏       | 390/1785 [11:15<56:45,  2.44s/it]"
     ]
    },
    {
     "name": "stdout",
     "output_type": "stream",
     "text": [
      "Submitted batch job 4206808\n",
      "Submitted batch job 4206809\n",
      "Submitted batch job 4206810\n"
     ]
    },
    {
     "name": "stderr",
     "output_type": "stream",
     "text": [
      "Submitting jobs:  22%|██▏       | 392/1785 [11:15<39:46,  1.71s/it]"
     ]
    },
    {
     "name": "stdout",
     "output_type": "stream",
     "text": [
      "Submitted batch job 4206811\n",
      "Submitted batch job 4206812\n"
     ]
    },
    {
     "name": "stderr",
     "output_type": "stream",
     "text": [
      "Submitting jobs:  22%|██▏       | 396/1785 [11:25<44:45,  1.93s/it]  "
     ]
    },
    {
     "name": "stdout",
     "output_type": "stream",
     "text": [
      "Submitted batch job 4206900\n",
      "Submitted batch job 4206901\n",
      "Submitted batch job 4206902\n"
     ]
    },
    {
     "name": "stderr",
     "output_type": "stream",
     "text": [
      "Submitting jobs:  22%|██▏       | 398/1785 [11:25<31:45,  1.37s/it]"
     ]
    },
    {
     "name": "stdout",
     "output_type": "stream",
     "text": [
      "Submitted batch job 4206903\n",
      "Submitted batch job 4206904\n",
      "Submitted batch job 4206905\n"
     ]
    },
    {
     "name": "stderr",
     "output_type": "stream",
     "text": [
      "Submitting jobs:  23%|██▎       | 402/1785 [11:26<16:26,  1.40it/s]"
     ]
    },
    {
     "name": "stdout",
     "output_type": "stream",
     "text": [
      "Submitted batch job 4206906\n",
      "Submitted batch job 4206907\n",
      "Submitted batch job 4206908\n"
     ]
    },
    {
     "name": "stderr",
     "output_type": "stream",
     "text": [
      "Submitting jobs:  23%|██▎       | 404/1785 [11:26<12:01,  1.91it/s]"
     ]
    },
    {
     "name": "stdout",
     "output_type": "stream",
     "text": [
      "Submitted batch job 4206909\n",
      "Submitted batch job 4206910\n",
      "Submitted batch job 4206911\n"
     ]
    },
    {
     "name": "stderr",
     "output_type": "stream",
     "text": [
      "Submitting jobs:  23%|██▎       | 408/1785 [11:36<30:56,  1.35s/it]"
     ]
    },
    {
     "name": "stdout",
     "output_type": "stream",
     "text": [
      "Submitted batch job 4206913\n",
      "Submitted batch job 4206914\n",
      "Submitted batch job 4206915\n"
     ]
    },
    {
     "name": "stderr",
     "output_type": "stream",
     "text": [
      "Submitting jobs:  23%|██▎       | 410/1785 [11:36<22:10,  1.03it/s]"
     ]
    },
    {
     "name": "stdout",
     "output_type": "stream",
     "text": [
      "Submitted batch job 4206916\n",
      "Submitted batch job 4206917\n"
     ]
    },
    {
     "name": "stderr",
     "output_type": "stream",
     "text": [
      "Submitting jobs:  23%|██▎       | 412/1785 [11:46<50:28,  2.21s/it]"
     ]
    },
    {
     "name": "stdout",
     "output_type": "stream",
     "text": [
      "Submitted batch job 4206918\n",
      "Submitted batch job 4206919\n"
     ]
    },
    {
     "name": "stderr",
     "output_type": "stream",
     "text": [
      "Submitting jobs:  23%|██▎       | 413/1785 [11:47<42:37,  1.86s/it]"
     ]
    },
    {
     "name": "stdout",
     "output_type": "stream",
     "text": [
      "Submitted batch job 4206920\n"
     ]
    },
    {
     "name": "stderr",
     "output_type": "stream",
     "text": [
      "Submitting jobs:  23%|██▎       | 416/1785 [11:57<51:35,  2.26s/it]  "
     ]
    },
    {
     "name": "stdout",
     "output_type": "stream",
     "text": [
      "Submitted batch job 4206921\n",
      "Submitted batch job 4206922\n",
      "Submitted batch job 4206923\n"
     ]
    },
    {
     "name": "stderr",
     "output_type": "stream",
     "text": [
      "Submitting jobs:  23%|██▎       | 418/1785 [11:57<34:22,  1.51s/it]"
     ]
    },
    {
     "name": "stdout",
     "output_type": "stream",
     "text": [
      "Submitted batch job 4206924\n",
      "Submitted batch job 4206925\n",
      "Submitted batch job 4206926\n"
     ]
    },
    {
     "name": "stderr",
     "output_type": "stream",
     "text": [
      "Submitting jobs:  24%|██▎       | 422/1785 [11:57<16:37,  1.37it/s]"
     ]
    },
    {
     "name": "stdout",
     "output_type": "stream",
     "text": [
      "Submitted batch job 4206927\n",
      "Submitted batch job 4206928\n",
      "Submitted batch job 4206929\n"
     ]
    },
    {
     "name": "stderr",
     "output_type": "stream",
     "text": [
      "Submitting jobs:  24%|██▍       | 424/1785 [12:08<47:40,  2.10s/it]"
     ]
    },
    {
     "name": "stdout",
     "output_type": "stream",
     "text": [
      "Submitted batch job 4206930\n",
      "Submitted batch job 4206931\n",
      "Submitted batch job 4206932\n"
     ]
    },
    {
     "name": "stderr",
     "output_type": "stream",
     "text": [
      "Submitting jobs:  24%|██▍       | 428/1785 [12:08<23:43,  1.05s/it]"
     ]
    },
    {
     "name": "stdout",
     "output_type": "stream",
     "text": [
      "Submitted batch job 4206933\n",
      "Submitted batch job 4206934\n",
      "Submitted batch job 4206935\n"
     ]
    },
    {
     "name": "stderr",
     "output_type": "stream",
     "text": [
      "Submitting jobs:  24%|██▍       | 430/1785 [12:18<51:32,  2.28s/it]"
     ]
    },
    {
     "name": "stdout",
     "output_type": "stream",
     "text": [
      "Submitted batch job 4206937\n",
      "Submitted batch job 4206938\n",
      "Submitted batch job 4206939\n"
     ]
    },
    {
     "name": "stderr",
     "output_type": "stream",
     "text": [
      "Submitting jobs:  24%|██▍       | 432/1785 [12:18<36:25,  1.62s/it]"
     ]
    },
    {
     "name": "stdout",
     "output_type": "stream",
     "text": [
      "Submitted batch job 4206940\n",
      "Submitted batch job 4206941\n"
     ]
    },
    {
     "name": "stderr",
     "output_type": "stream",
     "text": [
      "Submitting jobs:  24%|██▍       | 436/1785 [12:29<43:37,  1.94s/it]  "
     ]
    },
    {
     "name": "stdout",
     "output_type": "stream",
     "text": [
      "Submitted batch job 4206942\n",
      "Submitted batch job 4206943\n",
      "Submitted batch job 4206944\n"
     ]
    },
    {
     "name": "stderr",
     "output_type": "stream",
     "text": [
      "Submitting jobs:  25%|██▍       | 438/1785 [12:29<30:53,  1.38s/it]"
     ]
    },
    {
     "name": "stdout",
     "output_type": "stream",
     "text": [
      "Submitted batch job 4206945\n",
      "Submitted batch job 4206946\n",
      "Submitted batch job 4206947\n"
     ]
    },
    {
     "name": "stderr",
     "output_type": "stream",
     "text": [
      "Submitting jobs:  25%|██▍       | 440/1785 [12:29<22:02,  1.02it/s]"
     ]
    },
    {
     "name": "stdout",
     "output_type": "stream",
     "text": [
      "Submitted batch job 4206948\n",
      "Submitted batch job 4206949\n"
     ]
    },
    {
     "name": "stderr",
     "output_type": "stream",
     "text": [
      "Submitting jobs:  25%|██▍       | 444/1785 [12:40<35:08,  1.57s/it]"
     ]
    },
    {
     "name": "stdout",
     "output_type": "stream",
     "text": [
      "Submitted batch job 4206950\n",
      "Submitted batch job 4206951\n",
      "Submitted batch job 4206952\n"
     ]
    },
    {
     "name": "stderr",
     "output_type": "stream",
     "text": [
      "Submitting jobs:  25%|██▍       | 446/1785 [12:40<25:01,  1.12s/it]"
     ]
    },
    {
     "name": "stdout",
     "output_type": "stream",
     "text": [
      "Submitted batch job 4206953\n",
      "Submitted batch job 4206954\n",
      "Submitted batch job 4206955\n"
     ]
    },
    {
     "name": "stderr",
     "output_type": "stream",
     "text": [
      "Submitting jobs:  25%|██▌       | 450/1785 [12:40<13:04,  1.70it/s]"
     ]
    },
    {
     "name": "stdout",
     "output_type": "stream",
     "text": [
      "Submitted batch job 4206956\n",
      "Submitted batch job 4206957\n",
      "Submitted batch job 4206958\n",
      "Submitted batch job 4206959\n"
     ]
    },
    {
     "name": "stderr",
     "output_type": "stream",
     "text": [
      "Submitting jobs:  25%|██▌       | 454/1785 [12:51<30:37,  1.38s/it]"
     ]
    },
    {
     "name": "stdout",
     "output_type": "stream",
     "text": [
      "Submitted batch job 4206960\n",
      "Submitted batch job 4206961\n",
      "Submitted batch job 4206962\n"
     ]
    },
    {
     "name": "stderr",
     "output_type": "stream",
     "text": [
      "Submitting jobs:  26%|██▌       | 456/1785 [12:51<21:52,  1.01it/s]"
     ]
    },
    {
     "name": "stdout",
     "output_type": "stream",
     "text": [
      "Submitted batch job 4206963\n",
      "Submitted batch job 4206964\n",
      "Submitted batch job 4206965\n"
     ]
    },
    {
     "name": "stderr",
     "output_type": "stream",
     "text": [
      "Submitting jobs:  26%|██▌       | 458/1785 [12:51<15:43,  1.41it/s]"
     ]
    },
    {
     "name": "stdout",
     "output_type": "stream",
     "text": [
      "Submitted batch job 4206966\n",
      "Submitted batch job 4206967\n"
     ]
    },
    {
     "name": "stderr",
     "output_type": "stream",
     "text": [
      "Submitting jobs:  26%|██▌       | 462/1785 [13:01<32:20,  1.47s/it]"
     ]
    },
    {
     "name": "stdout",
     "output_type": "stream",
     "text": [
      "Submitted batch job 4206969\n",
      "Submitted batch job 4206970\n",
      "Submitted batch job 4206971\n",
      "Submitted batch job 4206972\n"
     ]
    },
    {
     "name": "stderr",
     "output_type": "stream",
     "text": [
      "Submitting jobs:  26%|██▌       | 464/1785 [13:02<23:05,  1.05s/it]"
     ]
    },
    {
     "name": "stdout",
     "output_type": "stream",
     "text": [
      "Submitted batch job 4206973\n"
     ]
    },
    {
     "name": "stderr",
     "output_type": "stream",
     "text": [
      "Submitting jobs:  26%|██▌       | 466/1785 [13:12<49:49,  2.27s/it]"
     ]
    },
    {
     "name": "stdout",
     "output_type": "stream",
     "text": [
      "Submitted batch job 4206974\n",
      "Submitted batch job 4206975\n",
      "Submitted batch job 4206976\n"
     ]
    },
    {
     "name": "stderr",
     "output_type": "stream",
     "text": [
      "Submitting jobs:  26%|██▋       | 470/1785 [13:12<25:16,  1.15s/it]"
     ]
    },
    {
     "name": "stdout",
     "output_type": "stream",
     "text": [
      "Submitted batch job 4206977\n",
      "Submitted batch job 4206978\n",
      "Submitted batch job 4206979\n",
      "Submitted batch job 4206980\n"
     ]
    },
    {
     "name": "stderr",
     "output_type": "stream",
     "text": [
      "Submitting jobs:  26%|██▋       | 472/1785 [13:22<51:05,  2.33s/it]"
     ]
    },
    {
     "name": "stdout",
     "output_type": "stream",
     "text": [
      "Submitted batch job 4206981\n",
      "Submitted batch job 4206982\n"
     ]
    },
    {
     "name": "stderr",
     "output_type": "stream",
     "text": [
      "Submitting jobs:  27%|██▋       | 474/1785 [13:33<1:09:07,  3.16s/it]"
     ]
    },
    {
     "name": "stdout",
     "output_type": "stream",
     "text": [
      "Submitted batch job 4206983\n"
     ]
    },
    {
     "name": "stderr",
     "output_type": "stream",
     "text": [
      "Submitting jobs:  27%|██▋       | 477/1785 [13:43<1:04:09,  2.94s/it]"
     ]
    },
    {
     "name": "stdout",
     "output_type": "stream",
     "text": [
      "Submitted batch job 4206984\n",
      "Submitted batch job 4206985\n",
      "Submitted batch job 4206986\n",
      "Submitted batch job 4206987\n"
     ]
    },
    {
     "name": "stderr",
     "output_type": "stream",
     "text": [
      "Submitting jobs:  27%|██▋       | 479/1785 [13:53<1:19:20,  3.64s/it]"
     ]
    },
    {
     "name": "stdout",
     "output_type": "stream",
     "text": [
      "Submitted batch job 4206988\n",
      "Submitted batch job 4206989\n"
     ]
    },
    {
     "name": "stderr",
     "output_type": "stream",
     "text": [
      "Submitting jobs:  27%|██▋       | 483/1785 [14:03<1:01:52,  2.85s/it]"
     ]
    },
    {
     "name": "stdout",
     "output_type": "stream",
     "text": [
      "Submitted batch job 4206991\n",
      "Submitted batch job 4206992\n",
      "Submitted batch job 4206993\n"
     ]
    },
    {
     "name": "stderr",
     "output_type": "stream",
     "text": [
      "Submitting jobs:  27%|██▋       | 485/1785 [14:03<43:13,  1.99s/it]  "
     ]
    },
    {
     "name": "stdout",
     "output_type": "stream",
     "text": [
      "Submitted batch job 4206994\n",
      "Submitted batch job 4206995\n"
     ]
    },
    {
     "name": "stderr",
     "output_type": "stream",
     "text": [
      "Submitting jobs:  27%|██▋       | 487/1785 [14:14<1:03:36,  2.94s/it]"
     ]
    },
    {
     "name": "stdout",
     "output_type": "stream",
     "text": [
      "Submitted batch job 4206996\n",
      "Submitted batch job 4206997\n",
      "Submitted batch job 4206998\n"
     ]
    },
    {
     "name": "stderr",
     "output_type": "stream",
     "text": [
      "Submitting jobs:  28%|██▊       | 491/1785 [14:14<31:34,  1.46s/it]  "
     ]
    },
    {
     "name": "stdout",
     "output_type": "stream",
     "text": [
      "Submitted batch job 4206999\n",
      "Submitted batch job 4207000\n",
      "Submitted batch job 4207001\n"
     ]
    },
    {
     "name": "stderr",
     "output_type": "stream",
     "text": [
      "Submitting jobs:  28%|██▊       | 493/1785 [14:14<22:30,  1.05s/it]"
     ]
    },
    {
     "name": "stdout",
     "output_type": "stream",
     "text": [
      "Submitted batch job 4207002\n",
      "Submitted batch job 4207003\n",
      "Submitted batch job 4207004\n"
     ]
    },
    {
     "name": "stderr",
     "output_type": "stream",
     "text": [
      "Submitting jobs:  28%|██▊       | 497/1785 [14:24<34:30,  1.61s/it]"
     ]
    },
    {
     "name": "stdout",
     "output_type": "stream",
     "text": [
      "Submitted batch job 4207006\n",
      "Submitted batch job 4207007\n",
      "Submitted batch job 4207008\n"
     ]
    },
    {
     "name": "stderr",
     "output_type": "stream",
     "text": [
      "Submitting jobs:  28%|██▊       | 499/1785 [14:35<56:53,  2.65s/it]"
     ]
    },
    {
     "name": "stdout",
     "output_type": "stream",
     "text": [
      "Submitted batch job 4207009\n",
      "Submitted batch job 4207010\n",
      "Submitted batch job 4207011\n"
     ]
    },
    {
     "name": "stderr",
     "output_type": "stream",
     "text": [
      "Submitting jobs:  28%|██▊       | 503/1785 [14:35<28:30,  1.33s/it]"
     ]
    },
    {
     "name": "stdout",
     "output_type": "stream",
     "text": [
      "Submitted batch job 4207012\n",
      "Submitted batch job 4207013\n",
      "Submitted batch job 4207014\n",
      "Submitted batch job 4207015\n"
     ]
    },
    {
     "name": "stderr",
     "output_type": "stream",
     "text": [
      "Submitting jobs:  28%|██▊       | 505/1785 [14:35<20:20,  1.05it/s]"
     ]
    },
    {
     "name": "stdout",
     "output_type": "stream",
     "text": [
      "Submitted batch job 4207016\n"
     ]
    },
    {
     "name": "stderr",
     "output_type": "stream",
     "text": [
      "Submitting jobs:  28%|██▊       | 508/1785 [14:45<38:52,  1.83s/it]"
     ]
    },
    {
     "name": "stdout",
     "output_type": "stream",
     "text": [
      "Submitted batch job 4207034\n",
      "Submitted batch job 4207035\n",
      "Submitted batch job 4207036\n",
      "Submitted batch job 4207037\n"
     ]
    },
    {
     "name": "stderr",
     "output_type": "stream",
     "text": [
      "Submitting jobs:  29%|██▊       | 512/1785 [14:56<42:24,  2.00s/it]  "
     ]
    },
    {
     "name": "stdout",
     "output_type": "stream",
     "text": [
      "Submitted batch job 4207039\n",
      "Submitted batch job 4207040\n",
      "Submitted batch job 4207041\n"
     ]
    },
    {
     "name": "stderr",
     "output_type": "stream",
     "text": [
      "Submitting jobs:  29%|██▉       | 514/1785 [14:56<29:28,  1.39s/it]"
     ]
    },
    {
     "name": "stdout",
     "output_type": "stream",
     "text": [
      "Submitted batch job 4207042\n",
      "Submitted batch job 4207043\n",
      "Submitted batch job 4207044\n"
     ]
    },
    {
     "name": "stderr",
     "output_type": "stream",
     "text": [
      "Submitting jobs:  29%|██▉       | 518/1785 [14:56<14:53,  1.42it/s]"
     ]
    },
    {
     "name": "stdout",
     "output_type": "stream",
     "text": [
      "Submitted batch job 4207045\n",
      "Submitted batch job 4207046\n",
      "Submitted batch job 4207047\n",
      "Submitted batch job 4207048\n"
     ]
    },
    {
     "name": "stderr",
     "output_type": "stream",
     "text": [
      "Submitting jobs:  29%|██▉       | 522/1785 [15:06<30:33,  1.45s/it]"
     ]
    },
    {
     "name": "stdout",
     "output_type": "stream",
     "text": [
      "Submitted batch job 4207049\n",
      "Submitted batch job 4207050\n",
      "Submitted batch job 4207051\n"
     ]
    },
    {
     "name": "stderr",
     "output_type": "stream",
     "text": [
      "Submitting jobs:  29%|██▉       | 524/1785 [15:07<21:42,  1.03s/it]"
     ]
    },
    {
     "name": "stdout",
     "output_type": "stream",
     "text": [
      "Submitted batch job 4207052\n",
      "Submitted batch job 4207053\n",
      "Submitted batch job 4207054\n"
     ]
    },
    {
     "name": "stderr",
     "output_type": "stream",
     "text": [
      "Submitting jobs:  30%|██▉       | 528/1785 [15:07<11:24,  1.84it/s]"
     ]
    },
    {
     "name": "stdout",
     "output_type": "stream",
     "text": [
      "Submitted batch job 4207055\n",
      "Submitted batch job 4207056\n",
      "Submitted batch job 4207057\n"
     ]
    },
    {
     "name": "stderr",
     "output_type": "stream",
     "text": [
      "Submitting jobs:  30%|██▉       | 530/1785 [15:07<08:27,  2.47it/s]"
     ]
    },
    {
     "name": "stdout",
     "output_type": "stream",
     "text": [
      "Submitted batch job 4207058\n",
      "Submitted batch job 4207059\n",
      "Submitted batch job 4207060\n"
     ]
    },
    {
     "name": "stderr",
     "output_type": "stream",
     "text": [
      "Submitting jobs:  30%|██▉       | 534/1785 [15:17<26:58,  1.29s/it]"
     ]
    },
    {
     "name": "stdout",
     "output_type": "stream",
     "text": [
      "Submitted batch job 4207061\n",
      "Submitted batch job 4207062\n",
      "Submitted batch job 4207063\n"
     ]
    },
    {
     "name": "stderr",
     "output_type": "stream",
     "text": [
      "Submitting jobs:  30%|███       | 536/1785 [15:18<19:14,  1.08it/s]"
     ]
    },
    {
     "name": "stdout",
     "output_type": "stream",
     "text": [
      "Submitted batch job 4207064\n",
      "Submitted batch job 4207065\n"
     ]
    },
    {
     "name": "stderr",
     "output_type": "stream",
     "text": [
      "Submitting jobs:  30%|███       | 538/1785 [15:28<45:13,  2.18s/it]"
     ]
    },
    {
     "name": "stdout",
     "output_type": "stream",
     "text": [
      "Submitted batch job 4207123\n",
      "Submitted batch job 4207124\n",
      "Submitted batch job 4207125\n"
     ]
    },
    {
     "name": "stderr",
     "output_type": "stream",
     "text": [
      "Submitting jobs:  30%|███       | 542/1785 [15:28<22:51,  1.10s/it]"
     ]
    },
    {
     "name": "stdout",
     "output_type": "stream",
     "text": [
      "Submitted batch job 4207126\n",
      "Submitted batch job 4207127\n",
      "Submitted batch job 4207128\n"
     ]
    },
    {
     "name": "stderr",
     "output_type": "stream",
     "text": [
      "Submitting jobs:  30%|███       | 544/1785 [15:28<16:24,  1.26it/s]"
     ]
    },
    {
     "name": "stdout",
     "output_type": "stream",
     "text": [
      "Submitted batch job 4207129\n",
      "Submitted batch job 4207130\n"
     ]
    },
    {
     "name": "stderr",
     "output_type": "stream",
     "text": [
      "Submitting jobs:  31%|███       | 546/1785 [15:38<43:04,  2.09s/it]"
     ]
    },
    {
     "name": "stdout",
     "output_type": "stream",
     "text": [
      "Submitted batch job 4207131\n",
      "Submitted batch job 4207132\n",
      "Submitted batch job 4207133\n"
     ]
    },
    {
     "name": "stderr",
     "output_type": "stream",
     "text": [
      "Submitting jobs:  31%|███       | 550/1785 [15:49<43:32,  2.12s/it]  "
     ]
    },
    {
     "name": "stdout",
     "output_type": "stream",
     "text": [
      "Submitted batch job 4207134\n",
      "Submitted batch job 4207135\n",
      "Submitted batch job 4207136\n"
     ]
    },
    {
     "name": "stderr",
     "output_type": "stream",
     "text": [
      "Submitting jobs:  31%|███       | 552/1785 [15:49<30:52,  1.50s/it]"
     ]
    },
    {
     "name": "stdout",
     "output_type": "stream",
     "text": [
      "Submitted batch job 4207137\n",
      "Submitted batch job 4207138\n",
      "Submitted batch job 4207139\n"
     ]
    },
    {
     "name": "stderr",
     "output_type": "stream",
     "text": [
      "Submitting jobs:  31%|███       | 556/1785 [15:59<37:27,  1.83s/it]"
     ]
    },
    {
     "name": "stdout",
     "output_type": "stream",
     "text": [
      "Submitted batch job 4207199\n",
      "Submitted batch job 4207200\n",
      "Submitted batch job 4207201\n"
     ]
    },
    {
     "name": "stderr",
     "output_type": "stream",
     "text": [
      "Submitting jobs:  31%|███▏      | 558/1785 [16:09<57:27,  2.81s/it]"
     ]
    },
    {
     "name": "stdout",
     "output_type": "stream",
     "text": [
      "Submitted batch job 4207202\n",
      "Submitted batch job 4207203\n",
      "Submitted batch job 4207204\n"
     ]
    },
    {
     "name": "stderr",
     "output_type": "stream",
     "text": [
      "Submitting jobs:  31%|███▏      | 562/1785 [16:10<28:48,  1.41s/it]"
     ]
    },
    {
     "name": "stdout",
     "output_type": "stream",
     "text": [
      "Submitted batch job 4207205\n",
      "Submitted batch job 4207206\n",
      "Submitted batch job 4207207\n"
     ]
    },
    {
     "name": "stderr",
     "output_type": "stream",
     "text": [
      "Submitting jobs:  32%|███▏      | 564/1785 [16:20<51:11,  2.52s/it]"
     ]
    },
    {
     "name": "stdout",
     "output_type": "stream",
     "text": [
      "Submitted batch job 4207208\n",
      "Submitted batch job 4207209\n",
      "Submitted batch job 4207210\n"
     ]
    },
    {
     "name": "stderr",
     "output_type": "stream",
     "text": [
      "Submitting jobs:  32%|███▏      | 566/1785 [16:30<1:06:48,  3.29s/it]"
     ]
    },
    {
     "name": "stdout",
     "output_type": "stream",
     "text": [
      "Submitted batch job 4207248\n",
      "Submitted batch job 4207249\n"
     ]
    },
    {
     "name": "stderr",
     "output_type": "stream",
     "text": [
      "Submitting jobs:  32%|███▏      | 570/1785 [16:40<54:40,  2.70s/it]  "
     ]
    },
    {
     "name": "stdout",
     "output_type": "stream",
     "text": [
      "Submitted batch job 4207250\n",
      "Submitted batch job 4207251\n",
      "Submitted batch job 4207252\n"
     ]
    },
    {
     "name": "stderr",
     "output_type": "stream",
     "text": [
      "Submitting jobs:  32%|███▏      | 572/1785 [16:41<38:35,  1.91s/it]"
     ]
    },
    {
     "name": "stdout",
     "output_type": "stream",
     "text": [
      "Submitted batch job 4207253\n",
      "Submitted batch job 4207254\n",
      "Submitted batch job 4207255\n"
     ]
    },
    {
     "name": "stderr",
     "output_type": "stream",
     "text": [
      "Submitting jobs:  32%|███▏      | 574/1785 [16:41<27:32,  1.36s/it]"
     ]
    },
    {
     "name": "stdout",
     "output_type": "stream",
     "text": [
      "Submitted batch job 4207256\n",
      "Submitted batch job 4207257\n"
     ]
    },
    {
     "name": "stderr",
     "output_type": "stream",
     "text": [
      "Submitting jobs:  32%|███▏      | 578/1785 [16:51<35:25,  1.76s/it]"
     ]
    },
    {
     "name": "stdout",
     "output_type": "stream",
     "text": [
      "Submitted batch job 4207258\n",
      "Submitted batch job 4207259\n",
      "Submitted batch job 4207260\n",
      "Submitted batch job 4207261\n"
     ]
    },
    {
     "name": "stderr",
     "output_type": "stream",
     "text": [
      "Submitting jobs:  33%|███▎      | 582/1785 [17:01<39:11,  1.95s/it]"
     ]
    },
    {
     "name": "stdout",
     "output_type": "stream",
     "text": [
      "Submitted batch job 4207271\n",
      "Submitted batch job 4207272\n",
      "Submitted batch job 4207273\n"
     ]
    },
    {
     "name": "stderr",
     "output_type": "stream",
     "text": [
      "Submitting jobs:  33%|███▎      | 584/1785 [17:02<27:49,  1.39s/it]"
     ]
    },
    {
     "name": "stdout",
     "output_type": "stream",
     "text": [
      "Submitted batch job 4207274\n",
      "Submitted batch job 4207275\n",
      "Submitted batch job 4207276\n"
     ]
    },
    {
     "name": "stderr",
     "output_type": "stream",
     "text": [
      "Submitting jobs:  33%|███▎      | 586/1785 [17:02<19:55,  1.00it/s]"
     ]
    },
    {
     "name": "stdout",
     "output_type": "stream",
     "text": [
      "Submitted batch job 4207277\n",
      "Submitted batch job 4207278\n"
     ]
    },
    {
     "name": "stderr",
     "output_type": "stream",
     "text": [
      "Submitting jobs:  33%|███▎      | 590/1785 [17:12<31:31,  1.58s/it]"
     ]
    },
    {
     "name": "stdout",
     "output_type": "stream",
     "text": [
      "Submitted batch job 4207279\n",
      "Submitted batch job 4207280\n",
      "Submitted batch job 4207281\n"
     ]
    },
    {
     "name": "stderr",
     "output_type": "stream",
     "text": [
      "Submitting jobs:  33%|███▎      | 592/1785 [17:12<22:27,  1.13s/it]"
     ]
    },
    {
     "name": "stdout",
     "output_type": "stream",
     "text": [
      "Submitted batch job 4207282\n",
      "Submitted batch job 4207283\n",
      "Submitted batch job 4207284\n"
     ]
    },
    {
     "name": "stderr",
     "output_type": "stream",
     "text": [
      "Submitting jobs:  33%|███▎      | 596/1785 [17:12<11:42,  1.69it/s]"
     ]
    },
    {
     "name": "stdout",
     "output_type": "stream",
     "text": [
      "Submitted batch job 4207285\n",
      "Submitted batch job 4207286\n",
      "Submitted batch job 4207287\n"
     ]
    },
    {
     "name": "stderr",
     "output_type": "stream",
     "text": [
      "Submitting jobs:  34%|███▎      | 598/1785 [17:23<38:21,  1.94s/it]"
     ]
    },
    {
     "name": "stdout",
     "output_type": "stream",
     "text": [
      "Submitted batch job 4207288\n",
      "Submitted batch job 4207289\n",
      "Submitted batch job 4207290\n"
     ]
    },
    {
     "name": "stderr",
     "output_type": "stream",
     "text": [
      "Submitting jobs:  34%|███▎      | 600/1785 [17:23<27:15,  1.38s/it]"
     ]
    },
    {
     "name": "stdout",
     "output_type": "stream",
     "text": [
      "Submitted batch job 4207291\n"
     ]
    },
    {
     "name": "stderr",
     "output_type": "stream",
     "text": [
      "Submitting jobs:  34%|███▎      | 602/1785 [17:33<49:11,  2.50s/it]"
     ]
    },
    {
     "name": "stdout",
     "output_type": "stream",
     "text": [
      "Submitted batch job 4207295\n",
      "Submitted batch job 4207296\n",
      "Submitted batch job 4207297\n"
     ]
    },
    {
     "name": "stderr",
     "output_type": "stream",
     "text": [
      "Submitting jobs:  34%|███▍      | 606/1785 [17:33<24:51,  1.26s/it]"
     ]
    },
    {
     "name": "stdout",
     "output_type": "stream",
     "text": [
      "Submitted batch job 4207298\n",
      "Submitted batch job 4207299\n",
      "Submitted batch job 4207300\n"
     ]
    },
    {
     "name": "stderr",
     "output_type": "stream",
     "text": [
      "Submitting jobs:  34%|███▍      | 608/1785 [17:33<17:45,  1.11it/s]"
     ]
    },
    {
     "name": "stdout",
     "output_type": "stream",
     "text": [
      "Submitted batch job 4207301\n",
      "Submitted batch job 4207302\n"
     ]
    },
    {
     "name": "stderr",
     "output_type": "stream",
     "text": [
      "Submitting jobs:  34%|███▍      | 610/1785 [17:44<42:17,  2.16s/it]"
     ]
    },
    {
     "name": "stdout",
     "output_type": "stream",
     "text": [
      "Submitted batch job 4207303\n",
      "Submitted batch job 4207304\n",
      "Submitted batch job 4207305\n"
     ]
    },
    {
     "name": "stderr",
     "output_type": "stream",
     "text": [
      "Submitting jobs:  34%|███▍      | 614/1785 [17:44<21:19,  1.09s/it]"
     ]
    },
    {
     "name": "stdout",
     "output_type": "stream",
     "text": [
      "Submitted batch job 4207306\n",
      "Submitted batch job 4207307\n",
      "Submitted batch job 4207308\n"
     ]
    },
    {
     "name": "stderr",
     "output_type": "stream",
     "text": [
      "Submitting jobs:  35%|███▍      | 618/1785 [17:44<11:04,  1.76it/s]"
     ]
    },
    {
     "name": "stdout",
     "output_type": "stream",
     "text": [
      "Submitted batch job 4207309\n",
      "Submitted batch job 4207310\n",
      "Submitted batch job 4207311\n",
      "Submitted batch job 4207312\n"
     ]
    },
    {
     "name": "stderr",
     "output_type": "stream",
     "text": [
      "Submitting jobs:  35%|███▍      | 620/1785 [17:44<08:14,  2.36it/s]"
     ]
    },
    {
     "name": "stdout",
     "output_type": "stream",
     "text": [
      "Submitted batch job 4207313\n",
      "Submitted batch job 4207314\n"
     ]
    },
    {
     "name": "stderr",
     "output_type": "stream",
     "text": [
      "Submitting jobs:  35%|███▍      | 622/1785 [17:54<35:18,  1.82s/it]"
     ]
    },
    {
     "name": "stdout",
     "output_type": "stream",
     "text": [
      "Submitted batch job 4207315\n",
      "Submitted batch job 4207316\n",
      "Submitted batch job 4207317\n"
     ]
    },
    {
     "name": "stderr",
     "output_type": "stream",
     "text": [
      "Submitting jobs:  35%|███▍      | 624/1785 [17:55<25:03,  1.30s/it]"
     ]
    },
    {
     "name": "stdout",
     "output_type": "stream",
     "text": [
      "Submitted batch job 4207318\n",
      "Submitted batch job 4207319\n"
     ]
    },
    {
     "name": "stderr",
     "output_type": "stream",
     "text": [
      "Submitting jobs:  35%|███▌      | 628/1785 [18:05<33:13,  1.72s/it]"
     ]
    },
    {
     "name": "stdout",
     "output_type": "stream",
     "text": [
      "Submitted batch job 4207321\n",
      "Submitted batch job 4207322\n",
      "Submitted batch job 4207323\n"
     ]
    },
    {
     "name": "stderr",
     "output_type": "stream",
     "text": [
      "Submitting jobs:  35%|███▌      | 630/1785 [18:05<23:39,  1.23s/it]"
     ]
    },
    {
     "name": "stdout",
     "output_type": "stream",
     "text": [
      "Submitted batch job 4207324\n",
      "Submitted batch job 4207325\n",
      "Submitted batch job 4207326\n"
     ]
    },
    {
     "name": "stderr",
     "output_type": "stream",
     "text": [
      "Submitting jobs:  36%|███▌      | 634/1785 [18:05<12:15,  1.56it/s]"
     ]
    },
    {
     "name": "stdout",
     "output_type": "stream",
     "text": [
      "Submitted batch job 4207327\n",
      "Submitted batch job 4207328\n",
      "Submitted batch job 4207329\n"
     ]
    },
    {
     "name": "stderr",
     "output_type": "stream",
     "text": [
      "Submitting jobs:  36%|███▌      | 636/1785 [18:16<38:25,  2.01s/it]"
     ]
    },
    {
     "name": "stdout",
     "output_type": "stream",
     "text": [
      "Submitted batch job 4207330\n",
      "Submitted batch job 4207331\n",
      "Submitted batch job 4207332\n"
     ]
    },
    {
     "name": "stderr",
     "output_type": "stream",
     "text": [
      "Submitting jobs:  36%|███▌      | 640/1785 [18:16<19:29,  1.02s/it]"
     ]
    },
    {
     "name": "stdout",
     "output_type": "stream",
     "text": [
      "Submitted batch job 4207333\n",
      "Submitted batch job 4207334\n",
      "Submitted batch job 4207335\n"
     ]
    },
    {
     "name": "stderr",
     "output_type": "stream",
     "text": [
      "Submitting jobs:  36%|███▌      | 642/1785 [18:16<14:04,  1.35it/s]"
     ]
    },
    {
     "name": "stdout",
     "output_type": "stream",
     "text": [
      "Submitted batch job 4207336\n",
      "Submitted batch job 4207337\n"
     ]
    },
    {
     "name": "stderr",
     "output_type": "stream",
     "text": [
      "Submitting jobs:  36%|███▌      | 644/1785 [18:26<38:53,  2.05s/it]"
     ]
    },
    {
     "name": "stdout",
     "output_type": "stream",
     "text": [
      "Submitted batch job 4207339\n",
      "Submitted batch job 4207340\n",
      "Submitted batch job 4207341\n"
     ]
    },
    {
     "name": "stderr",
     "output_type": "stream",
     "text": [
      "Submitting jobs:  36%|███▌      | 646/1785 [18:27<27:40,  1.46s/it]"
     ]
    },
    {
     "name": "stdout",
     "output_type": "stream",
     "text": [
      "Submitted batch job 4207342\n",
      "Submitted batch job 4207343\n"
     ]
    },
    {
     "name": "stderr",
     "output_type": "stream",
     "text": [
      "Submitting jobs:  36%|███▋      | 648/1785 [18:37<48:15,  2.55s/it]"
     ]
    },
    {
     "name": "stdout",
     "output_type": "stream",
     "text": [
      "Submitted batch job 4207349\n",
      "Submitted batch job 4207350\n"
     ]
    },
    {
     "name": "stderr",
     "output_type": "stream",
     "text": [
      "Submitting jobs:  36%|███▋      | 650/1785 [18:47<1:02:38,  3.31s/it]"
     ]
    },
    {
     "name": "stdout",
     "output_type": "stream",
     "text": [
      "Submitted batch job 4207351\n"
     ]
    },
    {
     "name": "stderr",
     "output_type": "stream",
     "text": [
      "Submitting jobs:  36%|███▋      | 651/1785 [18:47<52:28,  2.78s/it]  "
     ]
    },
    {
     "name": "stdout",
     "output_type": "stream",
     "text": [
      "Submitted batch job 4207352\n",
      "Submitted batch job 4207353\n"
     ]
    },
    {
     "name": "stderr",
     "output_type": "stream",
     "text": [
      "Submitting jobs:  37%|███▋      | 655/1785 [19:08<1:07:09,  3.57s/it]"
     ]
    },
    {
     "name": "stdout",
     "output_type": "stream",
     "text": [
      "Submitted batch job 4207354\n",
      "Submitted batch job 4207355\n",
      "Submitted batch job 4207356\n"
     ]
    },
    {
     "name": "stderr",
     "output_type": "stream",
     "text": [
      "Submitting jobs:  37%|███▋      | 657/1785 [19:08<46:18,  2.46s/it]  "
     ]
    },
    {
     "name": "stdout",
     "output_type": "stream",
     "text": [
      "Submitted batch job 4207357\n",
      "Submitted batch job 4207358\n",
      "Submitted batch job 4207359\n"
     ]
    },
    {
     "name": "stderr",
     "output_type": "stream",
     "text": [
      "Submitting jobs:  37%|███▋      | 661/1785 [19:18<43:03,  2.30s/it]  "
     ]
    },
    {
     "name": "stdout",
     "output_type": "stream",
     "text": [
      "Submitted batch job 4207376\n",
      "Submitted batch job 4207377\n",
      "Submitted batch job 4207378\n"
     ]
    },
    {
     "name": "stderr",
     "output_type": "stream",
     "text": [
      "Submitting jobs:  37%|███▋      | 663/1785 [19:18<30:23,  1.63s/it]"
     ]
    },
    {
     "name": "stdout",
     "output_type": "stream",
     "text": [
      "Submitted batch job 4207379\n",
      "Submitted batch job 4207380\n"
     ]
    },
    {
     "name": "stderr",
     "output_type": "stream",
     "text": [
      "Submitting jobs:  37%|███▋      | 665/1785 [19:18<21:35,  1.16s/it]"
     ]
    },
    {
     "name": "stdout",
     "output_type": "stream",
     "text": [
      "Submitted batch job 4207381\n",
      "Submitted batch job 4207382\n",
      "Submitted batch job 4207383\n"
     ]
    },
    {
     "name": "stderr",
     "output_type": "stream",
     "text": [
      "Submitting jobs:  37%|███▋      | 669/1785 [19:19<11:07,  1.67it/s]"
     ]
    },
    {
     "name": "stdout",
     "output_type": "stream",
     "text": [
      "Submitted batch job 4207384\n",
      "Submitted batch job 4207385\n",
      "Submitted batch job 4207386\n"
     ]
    },
    {
     "name": "stderr",
     "output_type": "stream",
     "text": [
      "Submitting jobs:  38%|███▊      | 671/1785 [19:19<08:12,  2.26it/s]"
     ]
    },
    {
     "name": "stdout",
     "output_type": "stream",
     "text": [
      "Submitted batch job 4207387\n",
      "Submitted batch job 4207388\n",
      "Submitted batch job 4207389\n"
     ]
    },
    {
     "name": "stderr",
     "output_type": "stream",
     "text": [
      "Submitting jobs:  38%|███▊      | 675/1785 [19:29<24:17,  1.31s/it]"
     ]
    },
    {
     "name": "stdout",
     "output_type": "stream",
     "text": [
      "Submitted batch job 4207390\n",
      "Submitted batch job 4207391\n",
      "Submitted batch job 4207392\n",
      "Submitted batch job 4207393\n"
     ]
    },
    {
     "name": "stderr",
     "output_type": "stream",
     "text": [
      "Submitting jobs:  38%|███▊      | 679/1785 [19:40<31:59,  1.74s/it]"
     ]
    },
    {
     "name": "stdout",
     "output_type": "stream",
     "text": [
      "Submitted batch job 4207394\n",
      "Submitted batch job 4207395\n",
      "Submitted batch job 4207396\n"
     ]
    },
    {
     "name": "stderr",
     "output_type": "stream",
     "text": [
      "Submitting jobs:  38%|███▊      | 681/1785 [19:40<22:45,  1.24s/it]"
     ]
    },
    {
     "name": "stdout",
     "output_type": "stream",
     "text": [
      "Submitted batch job 4207397\n",
      "Submitted batch job 4207398\n"
     ]
    },
    {
     "name": "stderr",
     "output_type": "stream",
     "text": [
      "Submitting jobs:  38%|███▊      | 683/1785 [19:40<16:51,  1.09it/s]"
     ]
    },
    {
     "name": "stdout",
     "output_type": "stream",
     "text": [
      "Submitted batch job 4207399\n",
      "Submitted batch job 4207400\n",
      "Submitted batch job 4207401\n"
     ]
    },
    {
     "name": "stderr",
     "output_type": "stream",
     "text": [
      "Submitting jobs:  38%|███▊      | 685/1785 [19:40<12:09,  1.51it/s]"
     ]
    },
    {
     "name": "stdout",
     "output_type": "stream",
     "text": [
      "Submitted batch job 4207402\n",
      "Submitted batch job 4207403\n"
     ]
    },
    {
     "name": "stderr",
     "output_type": "stream",
     "text": [
      "Submitting jobs:  39%|███▊      | 689/1785 [19:51<25:53,  1.42s/it]"
     ]
    },
    {
     "name": "stdout",
     "output_type": "stream",
     "text": [
      "Submitted batch job 4207442\n",
      "Submitted batch job 4207443\n",
      "Submitted batch job 4207444\n"
     ]
    },
    {
     "name": "stderr",
     "output_type": "stream",
     "text": [
      "Submitting jobs:  39%|███▊      | 691/1785 [19:51<18:29,  1.01s/it]"
     ]
    },
    {
     "name": "stdout",
     "output_type": "stream",
     "text": [
      "Submitted batch job 4207445\n",
      "Submitted batch job 4207446\n",
      "Submitted batch job 4207447\n"
     ]
    },
    {
     "name": "stderr",
     "output_type": "stream",
     "text": [
      "Submitting jobs:  39%|███▉      | 693/1785 [19:51<13:17,  1.37it/s]"
     ]
    },
    {
     "name": "stdout",
     "output_type": "stream",
     "text": [
      "Submitted batch job 4207448\n",
      "Submitted batch job 4207449\n"
     ]
    },
    {
     "name": "stderr",
     "output_type": "stream",
     "text": [
      "Submitting jobs:  39%|███▉      | 695/1785 [20:01<37:16,  2.05s/it]"
     ]
    },
    {
     "name": "stdout",
     "output_type": "stream",
     "text": [
      "Submitted batch job 4207450\n"
     ]
    },
    {
     "name": "stderr",
     "output_type": "stream",
     "text": [
      "Submitting jobs:  39%|███▉      | 696/1785 [20:01<31:20,  1.73s/it]"
     ]
    },
    {
     "name": "stdout",
     "output_type": "stream",
     "text": [
      "Submitted batch job 4207451\n",
      "Submitted batch job 4207452\n"
     ]
    },
    {
     "name": "stderr",
     "output_type": "stream",
     "text": [
      "Submitting jobs:  39%|███▉      | 700/1785 [20:02<14:55,  1.21it/s]"
     ]
    },
    {
     "name": "stdout",
     "output_type": "stream",
     "text": [
      "Submitted batch job 4207453\n",
      "Submitted batch job 4207454\n",
      "Submitted batch job 4207455\n"
     ]
    },
    {
     "name": "stderr",
     "output_type": "stream",
     "text": [
      "Submitting jobs:  39%|███▉      | 702/1785 [20:02<10:34,  1.71it/s]"
     ]
    },
    {
     "name": "stdout",
     "output_type": "stream",
     "text": [
      "Submitted batch job 4207456\n",
      "Submitted batch job 4207457\n"
     ]
    },
    {
     "name": "stderr",
     "output_type": "stream",
     "text": [
      "Submitting jobs:  39%|███▉      | 704/1785 [20:12<35:49,  1.99s/it]"
     ]
    },
    {
     "name": "stdout",
     "output_type": "stream",
     "text": [
      "Submitted batch job 4207458\n",
      "Submitted batch job 4207459\n",
      "Submitted batch job 4207460\n"
     ]
    },
    {
     "name": "stderr",
     "output_type": "stream",
     "text": [
      "Submitting jobs:  40%|███▉      | 706/1785 [20:12<25:08,  1.40s/it]"
     ]
    },
    {
     "name": "stdout",
     "output_type": "stream",
     "text": [
      "Submitted batch job 4207461\n"
     ]
    },
    {
     "name": "stderr",
     "output_type": "stream",
     "text": [
      "Submitting jobs:  40%|███▉      | 708/1785 [20:22<45:23,  2.53s/it]"
     ]
    },
    {
     "name": "stdout",
     "output_type": "stream",
     "text": [
      "Submitted batch job 4207494\n",
      "Submitted batch job 4207495\n",
      "Submitted batch job 4207496\n"
     ]
    },
    {
     "name": "stderr",
     "output_type": "stream",
     "text": [
      "Submitting jobs:  40%|███▉      | 712/1785 [20:23<22:33,  1.26s/it]"
     ]
    },
    {
     "name": "stdout",
     "output_type": "stream",
     "text": [
      "Submitted batch job 4207497\n",
      "Submitted batch job 4207498\n",
      "Submitted batch job 4207499\n"
     ]
    },
    {
     "name": "stderr",
     "output_type": "stream",
     "text": [
      "Submitting jobs:  40%|████      | 714/1785 [20:33<43:07,  2.42s/it]"
     ]
    },
    {
     "name": "stdout",
     "output_type": "stream",
     "text": [
      "Submitted batch job 4207500\n",
      "Submitted batch job 4207501\n",
      "Submitted batch job 4207502\n"
     ]
    },
    {
     "name": "stderr",
     "output_type": "stream",
     "text": [
      "Submitting jobs:  40%|████      | 718/1785 [20:33<21:40,  1.22s/it]"
     ]
    },
    {
     "name": "stdout",
     "output_type": "stream",
     "text": [
      "Submitted batch job 4207503\n",
      "Submitted batch job 4207504\n",
      "Submitted batch job 4207505\n"
     ]
    },
    {
     "name": "stderr",
     "output_type": "stream",
     "text": [
      "Submitting jobs:  40%|████      | 720/1785 [20:33<15:30,  1.14it/s]"
     ]
    },
    {
     "name": "stdout",
     "output_type": "stream",
     "text": [
      "Submitted batch job 4207506\n",
      "Submitted batch job 4207507\n",
      "Submitted batch job 4207508\n"
     ]
    },
    {
     "name": "stderr",
     "output_type": "stream",
     "text": [
      "Submitting jobs:  41%|████      | 724/1785 [20:44<26:56,  1.52s/it]"
     ]
    },
    {
     "name": "stdout",
     "output_type": "stream",
     "text": [
      "Submitted batch job 4207509\n",
      "Submitted batch job 4207510\n",
      "Submitted batch job 4207511\n"
     ]
    },
    {
     "name": "stderr",
     "output_type": "stream",
     "text": [
      "Submitting jobs:  41%|████      | 726/1785 [20:44<19:15,  1.09s/it]"
     ]
    },
    {
     "name": "stdout",
     "output_type": "stream",
     "text": [
      "Submitted batch job 4207512\n",
      "Submitted batch job 4207513\n"
     ]
    },
    {
     "name": "stderr",
     "output_type": "stream",
     "text": [
      "Submitting jobs:  41%|████      | 730/1785 [20:54<28:32,  1.62s/it]"
     ]
    },
    {
     "name": "stdout",
     "output_type": "stream",
     "text": [
      "Submitted batch job 4207541\n",
      "Submitted batch job 4207542\n",
      "Submitted batch job 4207543\n",
      "Submitted batch job 4207544\n"
     ]
    },
    {
     "name": "stderr",
     "output_type": "stream",
     "text": [
      "Submitting jobs:  41%|████      | 732/1785 [21:04<46:49,  2.67s/it]"
     ]
    },
    {
     "name": "stdout",
     "output_type": "stream",
     "text": [
      "Submitted batch job 4207545\n",
      "Submitted batch job 4207546\n"
     ]
    },
    {
     "name": "stderr",
     "output_type": "stream",
     "text": [
      "Submitting jobs:  41%|████      | 735/1785 [21:15<46:43,  2.67s/it]  "
     ]
    },
    {
     "name": "stdout",
     "output_type": "stream",
     "text": [
      "Submitted batch job 4207547\n",
      "Submitted batch job 4207548\n",
      "Submitted batch job 4207549\n",
      "Submitted batch job 4207550\n"
     ]
    },
    {
     "name": "stderr",
     "output_type": "stream",
     "text": [
      "Submitting jobs:  41%|████▏     | 739/1785 [21:25<41:35,  2.39s/it]  "
     ]
    },
    {
     "name": "stdout",
     "output_type": "stream",
     "text": [
      "Submitted batch job 4207574\n",
      "Submitted batch job 4207575\n",
      "Submitted batch job 4207576\n"
     ]
    },
    {
     "name": "stderr",
     "output_type": "stream",
     "text": [
      "Submitting jobs:  42%|████▏     | 741/1785 [21:25<28:57,  1.66s/it]"
     ]
    },
    {
     "name": "stdout",
     "output_type": "stream",
     "text": [
      "Submitted batch job 4207577\n",
      "Submitted batch job 4207578\n"
     ]
    },
    {
     "name": "stderr",
     "output_type": "stream",
     "text": [
      "Submitting jobs:  42%|████▏     | 743/1785 [21:35<47:16,  2.72s/it]"
     ]
    },
    {
     "name": "stdout",
     "output_type": "stream",
     "text": [
      "Submitted batch job 4207579\n",
      "Submitted batch job 4207580\n"
     ]
    },
    {
     "name": "stderr",
     "output_type": "stream",
     "text": [
      "Submitting jobs:  42%|████▏     | 745/1785 [21:45<56:20,  3.25s/it]  "
     ]
    },
    {
     "name": "stdout",
     "output_type": "stream",
     "text": [
      "Submitted batch job 4207581\n",
      "Submitted batch job 4207582\n"
     ]
    },
    {
     "name": "stderr",
     "output_type": "stream",
     "text": [
      "Submitting jobs:  42%|████▏     | 747/1785 [21:46<36:02,  2.08s/it]"
     ]
    },
    {
     "name": "stdout",
     "output_type": "stream",
     "text": [
      "Submitted batch job 4207583\n",
      "Submitted batch job 4207584\n",
      "Submitted batch job 4207585\n"
     ]
    },
    {
     "name": "stderr",
     "output_type": "stream",
     "text": [
      "Submitting jobs:  42%|████▏     | 751/1785 [22:06<56:25,  3.27s/it]  "
     ]
    },
    {
     "name": "stdout",
     "output_type": "stream",
     "text": [
      "Submitted batch job 4207586\n",
      "Submitted batch job 4207587\n",
      "Submitted batch job 4207588\n",
      "Submitted batch job 4207589\n"
     ]
    },
    {
     "name": "stderr",
     "output_type": "stream",
     "text": [
      "Submitting jobs:  42%|████▏     | 755/1785 [22:06<26:49,  1.56s/it]"
     ]
    },
    {
     "name": "stdout",
     "output_type": "stream",
     "text": [
      "Submitted batch job 4207590\n",
      "Submitted batch job 4207591\n",
      "Submitted batch job 4207592\n"
     ]
    },
    {
     "name": "stderr",
     "output_type": "stream",
     "text": [
      "Submitting jobs:  43%|████▎     | 759/1785 [22:07<13:44,  1.24it/s]"
     ]
    },
    {
     "name": "stdout",
     "output_type": "stream",
     "text": [
      "Submitted batch job 4207593\n",
      "Submitted batch job 4207594\n",
      "Submitted batch job 4207595\n",
      "Submitted batch job 4207596\n",
      "Submitted batch job 4207597\n"
     ]
    },
    {
     "name": "stderr",
     "output_type": "stream",
     "text": [
      "Submitting jobs:  43%|████▎     | 763/1785 [22:17<25:24,  1.49s/it]"
     ]
    },
    {
     "name": "stdout",
     "output_type": "stream",
     "text": [
      "Submitted batch job 4207614\n",
      "Submitted batch job 4207615\n",
      "Submitted batch job 4207616\n",
      "Submitted batch job 4207617\n"
     ]
    },
    {
     "name": "stderr",
     "output_type": "stream",
     "text": [
      "Submitting jobs:  43%|████▎     | 765/1785 [22:17<18:30,  1.09s/it]"
     ]
    },
    {
     "name": "stdout",
     "output_type": "stream",
     "text": [
      "Submitted batch job 4207618\n",
      "Submitted batch job 4207619\n"
     ]
    },
    {
     "name": "stderr",
     "output_type": "stream",
     "text": [
      "Submitting jobs:  43%|████▎     | 769/1785 [22:39<46:54,  2.77s/it]  "
     ]
    },
    {
     "name": "stdout",
     "output_type": "stream",
     "text": [
      "Submitted batch job 4207620\n",
      "Submitted batch job 4207621\n",
      "Submitted batch job 4207622\n"
     ]
    },
    {
     "name": "stderr",
     "output_type": "stream",
     "text": [
      "Submitting jobs:  43%|████▎     | 771/1785 [22:39<33:36,  1.99s/it]"
     ]
    },
    {
     "name": "stdout",
     "output_type": "stream",
     "text": [
      "Submitted batch job 4207623\n",
      "Submitted batch job 4207624\n",
      "Submitted batch job 4207625\n"
     ]
    },
    {
     "name": "stderr",
     "output_type": "stream",
     "text": [
      "Submitting jobs:  43%|████▎     | 775/1785 [22:39<17:02,  1.01s/it]"
     ]
    },
    {
     "name": "stdout",
     "output_type": "stream",
     "text": [
      "Submitted batch job 4207626\n",
      "Submitted batch job 4207627\n",
      "Submitted batch job 4207628\n"
     ]
    },
    {
     "name": "stderr",
     "output_type": "stream",
     "text": [
      "Submitting jobs:  44%|████▎     | 777/1785 [22:39<12:17,  1.37it/s]"
     ]
    },
    {
     "name": "stdout",
     "output_type": "stream",
     "text": [
      "Submitted batch job 4207629\n",
      "Submitted batch job 4207630\n",
      "Submitted batch job 4207631\n"
     ]
    },
    {
     "name": "stderr",
     "output_type": "stream",
     "text": [
      "Submitting jobs:  44%|████▍     | 781/1785 [22:40<06:41,  2.50it/s]"
     ]
    },
    {
     "name": "stdout",
     "output_type": "stream",
     "text": [
      "Submitted batch job 4207632\n",
      "Submitted batch job 4207633\n",
      "Submitted batch job 4207634\n",
      "Submitted batch job 4207635\n"
     ]
    },
    {
     "name": "stderr",
     "output_type": "stream",
     "text": [
      "Submitting jobs:  44%|████▍     | 785/1785 [22:50<21:32,  1.29s/it]"
     ]
    },
    {
     "name": "stdout",
     "output_type": "stream",
     "text": [
      "Submitted batch job 4207636\n",
      "Submitted batch job 4207637\n",
      "Submitted batch job 4207638\n"
     ]
    },
    {
     "name": "stderr",
     "output_type": "stream",
     "text": [
      "Submitting jobs:  44%|████▍     | 787/1785 [22:50<15:25,  1.08it/s]"
     ]
    },
    {
     "name": "stdout",
     "output_type": "stream",
     "text": [
      "Submitted batch job 4207639\n",
      "Submitted batch job 4207640\n",
      "Submitted batch job 4207641\n"
     ]
    },
    {
     "name": "stderr",
     "output_type": "stream",
     "text": [
      "Submitting jobs:  44%|████▍     | 791/1785 [22:50<08:08,  2.04it/s]"
     ]
    },
    {
     "name": "stdout",
     "output_type": "stream",
     "text": [
      "Submitted batch job 4207642\n",
      "Submitted batch job 4207643\n",
      "Submitted batch job 4207644\n"
     ]
    },
    {
     "name": "stderr",
     "output_type": "stream",
     "text": [
      "Submitting jobs:  44%|████▍     | 793/1785 [22:52<08:34,  1.93it/s]"
     ]
    },
    {
     "name": "stdout",
     "output_type": "stream",
     "text": [
      "Submitted batch job 4207655\n",
      "Submitted batch job 4207656\n",
      "Submitted batch job 4207657\n"
     ]
    },
    {
     "name": "stderr",
     "output_type": "stream",
     "text": [
      "Submitting jobs:  45%|████▍     | 795/1785 [22:52<06:21,  2.59it/s]"
     ]
    },
    {
     "name": "stdout",
     "output_type": "stream",
     "text": [
      "Submitted batch job 4207658\n",
      "Submitted batch job 4207659\n"
     ]
    },
    {
     "name": "stderr",
     "output_type": "stream",
     "text": [
      "Submitting jobs:  45%|████▍     | 799/1785 [23:02<21:00,  1.28s/it]"
     ]
    },
    {
     "name": "stdout",
     "output_type": "stream",
     "text": [
      "Submitted batch job 4207660\n",
      "Submitted batch job 4207661\n",
      "Submitted batch job 4207662\n"
     ]
    },
    {
     "name": "stderr",
     "output_type": "stream",
     "text": [
      "Submitting jobs:  45%|████▍     | 801/1785 [23:02<15:00,  1.09it/s]"
     ]
    },
    {
     "name": "stdout",
     "output_type": "stream",
     "text": [
      "Submitted batch job 4207663\n",
      "Submitted batch job 4207664\n",
      "Submitted batch job 4207665\n"
     ]
    },
    {
     "name": "stderr",
     "output_type": "stream",
     "text": [
      "Submitting jobs:  45%|████▌     | 805/1785 [23:13<25:50,  1.58s/it]"
     ]
    },
    {
     "name": "stdout",
     "output_type": "stream",
     "text": [
      "Submitted batch job 4207666\n",
      "Submitted batch job 4207667\n",
      "Submitted batch job 4207668\n",
      "Submitted batch job 4207669\n"
     ]
    },
    {
     "name": "stderr",
     "output_type": "stream",
     "text": [
      "Submitting jobs:  45%|████▌     | 809/1785 [23:24<31:18,  1.92s/it]"
     ]
    },
    {
     "name": "stdout",
     "output_type": "stream",
     "text": [
      "Submitted batch job 4207679\n",
      "Submitted batch job 4207680\n",
      "Submitted batch job 4207681\n"
     ]
    },
    {
     "name": "stderr",
     "output_type": "stream",
     "text": [
      "Submitting jobs:  45%|████▌     | 811/1785 [23:24<22:13,  1.37s/it]"
     ]
    },
    {
     "name": "stdout",
     "output_type": "stream",
     "text": [
      "Submitted batch job 4207682\n",
      "Submitted batch job 4207683\n"
     ]
    },
    {
     "name": "stderr",
     "output_type": "stream",
     "text": [
      "Submitting jobs:  46%|████▌     | 813/1785 [23:34<40:15,  2.49s/it]"
     ]
    },
    {
     "name": "stdout",
     "output_type": "stream",
     "text": [
      "Submitted batch job 4207684\n",
      "Submitted batch job 4207685\n",
      "Submitted batch job 4207686\n"
     ]
    },
    {
     "name": "stderr",
     "output_type": "stream",
     "text": [
      "Submitting jobs:  46%|████▌     | 815/1785 [23:34<28:29,  1.76s/it]"
     ]
    },
    {
     "name": "stdout",
     "output_type": "stream",
     "text": [
      "Submitted batch job 4207687\n"
     ]
    },
    {
     "name": "stderr",
     "output_type": "stream",
     "text": [
      "Submitting jobs:  46%|████▌     | 817/1785 [23:45<44:33,  2.76s/it]"
     ]
    },
    {
     "name": "stdout",
     "output_type": "stream",
     "text": [
      "Submitted batch job 4207688\n",
      "Submitted batch job 4207689\n",
      "Submitted batch job 4207690\n"
     ]
    },
    {
     "name": "stderr",
     "output_type": "stream",
     "text": [
      "Submitting jobs:  46%|████▌     | 819/1785 [23:45<31:28,  1.95s/it]"
     ]
    },
    {
     "name": "stdout",
     "output_type": "stream",
     "text": [
      "Submitted batch job 4207691\n"
     ]
    },
    {
     "name": "stderr",
     "output_type": "stream",
     "text": [
      "Submitting jobs:  46%|████▌     | 821/1785 [23:56<48:56,  3.05s/it]"
     ]
    },
    {
     "name": "stdout",
     "output_type": "stream",
     "text": [
      "Submitted batch job 4207700\n",
      "Submitted batch job 4207701\n",
      "Submitted batch job 4207702\n"
     ]
    },
    {
     "name": "stderr",
     "output_type": "stream",
     "text": [
      "Submitting jobs:  46%|████▌     | 823/1785 [23:56<34:32,  2.15s/it]"
     ]
    },
    {
     "name": "stdout",
     "output_type": "stream",
     "text": [
      "Submitted batch job 4207703\n"
     ]
    },
    {
     "name": "stderr",
     "output_type": "stream",
     "text": [
      "Submitting jobs:  46%|████▌     | 825/1785 [24:06<48:33,  3.04s/it]"
     ]
    },
    {
     "name": "stdout",
     "output_type": "stream",
     "text": [
      "Submitted batch job 4207704\n",
      "Submitted batch job 4207705\n",
      "Submitted batch job 4207706\n"
     ]
    },
    {
     "name": "stderr",
     "output_type": "stream",
     "text": [
      "Submitting jobs:  46%|████▋     | 829/1785 [24:07<24:20,  1.53s/it]"
     ]
    },
    {
     "name": "stdout",
     "output_type": "stream",
     "text": [
      "Submitted batch job 4207707\n",
      "Submitted batch job 4207708\n",
      "Submitted batch job 4207709\n"
     ]
    },
    {
     "name": "stderr",
     "output_type": "stream",
     "text": [
      "Submitting jobs:  47%|████▋     | 831/1785 [24:17<41:15,  2.60s/it]"
     ]
    },
    {
     "name": "stdout",
     "output_type": "stream",
     "text": [
      "Submitted batch job 4207711\n",
      "Submitted batch job 4207712\n",
      "Submitted batch job 4207713\n"
     ]
    },
    {
     "name": "stderr",
     "output_type": "stream",
     "text": [
      "Submitting jobs:  47%|████▋     | 835/1785 [24:17<20:43,  1.31s/it]"
     ]
    },
    {
     "name": "stdout",
     "output_type": "stream",
     "text": [
      "Submitted batch job 4207714\n",
      "Submitted batch job 4207715\n",
      "Submitted batch job 4207716\n"
     ]
    },
    {
     "name": "stderr",
     "output_type": "stream",
     "text": [
      "Submitting jobs:  47%|████▋     | 837/1785 [24:17<14:48,  1.07it/s]"
     ]
    },
    {
     "name": "stdout",
     "output_type": "stream",
     "text": [
      "Submitted batch job 4207717\n",
      "Submitted batch job 4207718\n",
      "Submitted batch job 4207719\n"
     ]
    },
    {
     "name": "stderr",
     "output_type": "stream",
     "text": [
      "Submitting jobs:  47%|████▋     | 841/1785 [24:17<07:46,  2.02it/s]"
     ]
    },
    {
     "name": "stdout",
     "output_type": "stream",
     "text": [
      "Submitted batch job 4207720\n",
      "Submitted batch job 4207721\n",
      "Submitted batch job 4207722\n"
     ]
    },
    {
     "name": "stderr",
     "output_type": "stream",
     "text": [
      "Submitting jobs:  47%|████▋     | 845/1785 [24:28<20:49,  1.33s/it]"
     ]
    },
    {
     "name": "stdout",
     "output_type": "stream",
     "text": [
      "Submitted batch job 4207723\n",
      "Submitted batch job 4207724\n",
      "Submitted batch job 4207725\n",
      "Submitted batch job 4207726\n",
      "Submitted batch job 4207727\n"
     ]
    },
    {
     "name": "stderr",
     "output_type": "stream",
     "text": [
      "Submitting jobs:  48%|████▊     | 849/1785 [24:38<27:11,  1.74s/it]"
     ]
    },
    {
     "name": "stdout",
     "output_type": "stream",
     "text": [
      "Submitted batch job 4207728\n",
      "Submitted batch job 4207729\n",
      "Submitted batch job 4207730\n"
     ]
    },
    {
     "name": "stderr",
     "output_type": "stream",
     "text": [
      "Submitting jobs:  48%|████▊     | 851/1785 [24:38<19:21,  1.24s/it]"
     ]
    },
    {
     "name": "stdout",
     "output_type": "stream",
     "text": [
      "Submitted batch job 4207731\n",
      "Submitted batch job 4207732\n",
      "Submitted batch job 4207733\n"
     ]
    },
    {
     "name": "stderr",
     "output_type": "stream",
     "text": [
      "Submitting jobs:  48%|████▊     | 855/1785 [24:38<10:02,  1.54it/s]"
     ]
    },
    {
     "name": "stdout",
     "output_type": "stream",
     "text": [
      "Submitted batch job 4207734\n",
      "Submitted batch job 4207735\n",
      "Submitted batch job 4207736\n"
     ]
    },
    {
     "name": "stderr",
     "output_type": "stream",
     "text": [
      "Submitting jobs:  48%|████▊     | 857/1785 [24:49<30:37,  1.98s/it]"
     ]
    },
    {
     "name": "stdout",
     "output_type": "stream",
     "text": [
      "Submitted batch job 4207737\n",
      "Submitted batch job 4207738\n",
      "Submitted batch job 4207739\n"
     ]
    },
    {
     "name": "stderr",
     "output_type": "stream",
     "text": [
      "Submitting jobs:  48%|████▊     | 861/1785 [24:49<15:34,  1.01s/it]"
     ]
    },
    {
     "name": "stdout",
     "output_type": "stream",
     "text": [
      "Submitted batch job 4207740\n",
      "Submitted batch job 4207741\n",
      "Submitted batch job 4207742\n"
     ]
    },
    {
     "name": "stderr",
     "output_type": "stream",
     "text": [
      "Submitting jobs:  48%|████▊     | 863/1785 [24:49<11:14,  1.37it/s]"
     ]
    },
    {
     "name": "stdout",
     "output_type": "stream",
     "text": [
      "Submitted batch job 4207743\n",
      "Submitted batch job 4207744\n",
      "Submitted batch job 4207745\n"
     ]
    },
    {
     "name": "stderr",
     "output_type": "stream",
     "text": [
      "Submitting jobs:  48%|████▊     | 865/1785 [25:00<31:47,  2.07s/it]"
     ]
    },
    {
     "name": "stdout",
     "output_type": "stream",
     "text": [
      "Submitted batch job 4207746\n"
     ]
    },
    {
     "name": "stderr",
     "output_type": "stream",
     "text": [
      "Submitting jobs:  49%|████▊     | 866/1785 [25:00<27:21,  1.79s/it]"
     ]
    },
    {
     "name": "stdout",
     "output_type": "stream",
     "text": [
      "Submitted batch job 4207747\n"
     ]
    },
    {
     "name": "stderr",
     "output_type": "stream",
     "text": [
      "Submitting jobs:  49%|████▊     | 867/1785 [25:00<22:29,  1.47s/it]"
     ]
    },
    {
     "name": "stdout",
     "output_type": "stream",
     "text": [
      "Submitted batch job 4207748\n"
     ]
    },
    {
     "name": "stderr",
     "output_type": "stream",
     "text": [
      "Submitting jobs:  49%|████▊     | 869/1785 [25:01<14:16,  1.07it/s]"
     ]
    },
    {
     "name": "stdout",
     "output_type": "stream",
     "text": [
      "Submitted batch job 4207749\n",
      "Submitted batch job 4207750\n"
     ]
    },
    {
     "name": "stderr",
     "output_type": "stream",
     "text": [
      "Submitting jobs:  49%|████▉     | 871/1785 [25:01<09:00,  1.69it/s]"
     ]
    },
    {
     "name": "stdout",
     "output_type": "stream",
     "text": [
      "Submitted batch job 4207751\n",
      "Submitted batch job 4207752\n",
      "Submitted batch job 4207753\n"
     ]
    },
    {
     "name": "stderr",
     "output_type": "stream",
     "text": [
      "Submitting jobs:  49%|████▉     | 873/1785 [25:01<06:10,  2.46it/s]"
     ]
    },
    {
     "name": "stdout",
     "output_type": "stream",
     "text": [
      "Submitted batch job 4207754\n"
     ]
    },
    {
     "name": "stderr",
     "output_type": "stream",
     "text": [
      "Submitting jobs:  49%|████▉     | 876/1785 [25:11<23:27,  1.55s/it]"
     ]
    },
    {
     "name": "stdout",
     "output_type": "stream",
     "text": [
      "Submitted batch job 4207755\n",
      "Submitted batch job 4207756\n",
      "Submitted batch job 4207757\n"
     ]
    },
    {
     "name": "stderr",
     "output_type": "stream",
     "text": [
      "Submitting jobs:  49%|████▉     | 878/1785 [25:12<16:11,  1.07s/it]"
     ]
    },
    {
     "name": "stdout",
     "output_type": "stream",
     "text": [
      "Submitted batch job 4207758\n",
      "Submitted batch job 4207759\n"
     ]
    },
    {
     "name": "stderr",
     "output_type": "stream",
     "text": [
      "Submitting jobs:  49%|████▉     | 881/1785 [25:22<27:59,  1.86s/it]"
     ]
    },
    {
     "name": "stdout",
     "output_type": "stream",
     "text": [
      "Submitted batch job 4207760\n",
      "Submitted batch job 4207761\n",
      "Submitted batch job 4207762\n",
      "Submitted batch job 4207763\n"
     ]
    },
    {
     "name": "stderr",
     "output_type": "stream",
     "text": [
      "Submitting jobs:  50%|████▉     | 885/1785 [25:32<30:08,  2.01s/it]"
     ]
    },
    {
     "name": "stdout",
     "output_type": "stream",
     "text": [
      "Submitted batch job 4207765\n",
      "Submitted batch job 4207766\n",
      "Submitted batch job 4207767\n",
      "Submitted batch job 4207768\n"
     ]
    },
    {
     "name": "stderr",
     "output_type": "stream",
     "text": [
      "Submitting jobs:  50%|████▉     | 888/1785 [25:42<36:42,  2.46s/it]"
     ]
    },
    {
     "name": "stdout",
     "output_type": "stream",
     "text": [
      "Submitted batch job 4207769\n",
      "Submitted batch job 4207770\n",
      "Submitted batch job 4207771\n"
     ]
    },
    {
     "name": "stderr",
     "output_type": "stream",
     "text": [
      "Submitting jobs:  50%|████▉     | 892/1785 [25:43<16:37,  1.12s/it]"
     ]
    },
    {
     "name": "stdout",
     "output_type": "stream",
     "text": [
      "Submitted batch job 4207772\n",
      "Submitted batch job 4207773\n",
      "Submitted batch job 4207774\n"
     ]
    },
    {
     "name": "stderr",
     "output_type": "stream",
     "text": [
      "Submitting jobs:  50%|█████     | 894/1785 [25:53<36:02,  2.43s/it]"
     ]
    },
    {
     "name": "stdout",
     "output_type": "stream",
     "text": [
      "Submitted batch job 4207775\n",
      "Submitted batch job 4207776\n",
      "Submitted batch job 4207777\n"
     ]
    },
    {
     "name": "stderr",
     "output_type": "stream",
     "text": [
      "Submitting jobs:  50%|█████     | 896/1785 [25:53<25:00,  1.69s/it]"
     ]
    },
    {
     "name": "stdout",
     "output_type": "stream",
     "text": [
      "Submitted batch job 4207778\n",
      "Submitted batch job 4207779\n"
     ]
    },
    {
     "name": "stderr",
     "output_type": "stream",
     "text": [
      "Submitting jobs:  50%|█████     | 900/1785 [26:04<28:21,  1.92s/it]"
     ]
    },
    {
     "name": "stdout",
     "output_type": "stream",
     "text": [
      "Submitted batch job 4207780\n",
      "Submitted batch job 4207781\n",
      "Submitted batch job 4207782\n",
      "Submitted batch job 4207783\n"
     ]
    },
    {
     "name": "stderr",
     "output_type": "stream",
     "text": [
      "Submitting jobs:  51%|█████     | 904/1785 [26:14<29:51,  2.03s/it]"
     ]
    },
    {
     "name": "stdout",
     "output_type": "stream",
     "text": [
      "Submitted batch job 4207784\n",
      "Submitted batch job 4207785\n",
      "Submitted batch job 4207786\n"
     ]
    },
    {
     "name": "stderr",
     "output_type": "stream",
     "text": [
      "Submitting jobs:  51%|█████     | 906/1785 [26:14<21:07,  1.44s/it]"
     ]
    },
    {
     "name": "stdout",
     "output_type": "stream",
     "text": [
      "Submitted batch job 4207787\n",
      "Submitted batch job 4207788\n"
     ]
    },
    {
     "name": "stderr",
     "output_type": "stream",
     "text": [
      "Submitting jobs:  51%|█████     | 908/1785 [26:24<37:11,  2.54s/it]"
     ]
    },
    {
     "name": "stdout",
     "output_type": "stream",
     "text": [
      "Submitted batch job 4207789\n",
      "Submitted batch job 4207790\n",
      "Submitted batch job 4207791\n"
     ]
    },
    {
     "name": "stderr",
     "output_type": "stream",
     "text": [
      "Submitting jobs:  51%|█████     | 910/1785 [26:24<26:16,  1.80s/it]"
     ]
    },
    {
     "name": "stdout",
     "output_type": "stream",
     "text": [
      "Submitted batch job 4207792\n"
     ]
    },
    {
     "name": "stderr",
     "output_type": "stream",
     "text": [
      "Submitting jobs:  51%|█████     | 912/1785 [26:35<40:35,  2.79s/it]"
     ]
    },
    {
     "name": "stdout",
     "output_type": "stream",
     "text": [
      "Submitted batch job 4207793\n",
      "Submitted batch job 4207794\n",
      "Submitted batch job 4207795\n"
     ]
    },
    {
     "name": "stderr",
     "output_type": "stream",
     "text": [
      "Submitting jobs:  51%|█████     | 914/1785 [26:45<50:32,  3.48s/it]"
     ]
    },
    {
     "name": "stdout",
     "output_type": "stream",
     "text": [
      "Submitted batch job 4207796\n",
      "Submitted batch job 4207797\n"
     ]
    },
    {
     "name": "stderr",
     "output_type": "stream",
     "text": [
      "Submitting jobs:  51%|█████▏    | 916/1785 [26:45<36:28,  2.52s/it]"
     ]
    },
    {
     "name": "stdout",
     "output_type": "stream",
     "text": [
      "Submitted batch job 4207799\n",
      "Submitted batch job 4207800\n"
     ]
    },
    {
     "name": "stderr",
     "output_type": "stream",
     "text": [
      "Submitting jobs:  52%|█████▏    | 920/1785 [26:56<33:32,  2.33s/it]"
     ]
    },
    {
     "name": "stdout",
     "output_type": "stream",
     "text": [
      "Submitted batch job 4207801\n",
      "Submitted batch job 4207802\n",
      "Submitted batch job 4207803\n"
     ]
    },
    {
     "name": "stderr",
     "output_type": "stream",
     "text": [
      "Submitting jobs:  52%|█████▏    | 922/1785 [26:56<23:45,  1.65s/it]"
     ]
    },
    {
     "name": "stdout",
     "output_type": "stream",
     "text": [
      "Submitted batch job 4207804\n",
      "Submitted batch job 4207805\n",
      "Submitted batch job 4207806\n"
     ]
    },
    {
     "name": "stderr",
     "output_type": "stream",
     "text": [
      "Submitting jobs:  52%|█████▏    | 926/1785 [26:56<12:07,  1.18it/s]"
     ]
    },
    {
     "name": "stdout",
     "output_type": "stream",
     "text": [
      "Submitted batch job 4207807\n",
      "Submitted batch job 4207808\n",
      "Submitted batch job 4207809\n"
     ]
    },
    {
     "name": "stderr",
     "output_type": "stream",
     "text": [
      "Submitting jobs:  52%|█████▏    | 928/1785 [27:06<30:17,  2.12s/it]"
     ]
    },
    {
     "name": "stdout",
     "output_type": "stream",
     "text": [
      "Submitted batch job 4207810\n",
      "Submitted batch job 4207811\n",
      "Submitted batch job 4207812\n"
     ]
    },
    {
     "name": "stderr",
     "output_type": "stream",
     "text": [
      "Submitting jobs:  52%|█████▏    | 932/1785 [27:07<15:21,  1.08s/it]"
     ]
    },
    {
     "name": "stdout",
     "output_type": "stream",
     "text": [
      "Submitted batch job 4207813\n",
      "Submitted batch job 4207814\n",
      "Submitted batch job 4207815\n"
     ]
    },
    {
     "name": "stderr",
     "output_type": "stream",
     "text": [
      "Submitting jobs:  52%|█████▏    | 934/1785 [27:07<11:01,  1.29it/s]"
     ]
    },
    {
     "name": "stdout",
     "output_type": "stream",
     "text": [
      "Submitted batch job 4207816\n",
      "Submitted batch job 4207817\n",
      "Submitted batch job 4207818\n"
     ]
    },
    {
     "name": "stderr",
     "output_type": "stream",
     "text": [
      "Submitting jobs:  52%|█████▏    | 936/1785 [27:07<07:59,  1.77it/s]"
     ]
    },
    {
     "name": "stdout",
     "output_type": "stream",
     "text": [
      "Submitted batch job 4207819\n"
     ]
    },
    {
     "name": "stderr",
     "output_type": "stream",
     "text": [
      "Submitting jobs:  53%|█████▎    | 938/1785 [27:17<27:39,  1.96s/it]"
     ]
    },
    {
     "name": "stdout",
     "output_type": "stream",
     "text": [
      "Submitted batch job 4207820\n",
      "Submitted batch job 4207821\n",
      "Submitted batch job 4207822\n"
     ]
    },
    {
     "name": "stderr",
     "output_type": "stream",
     "text": [
      "Submitting jobs:  53%|█████▎    | 942/1785 [27:18<14:00,  1.00it/s]"
     ]
    },
    {
     "name": "stdout",
     "output_type": "stream",
     "text": [
      "Submitted batch job 4207823\n",
      "Submitted batch job 4207824\n",
      "Submitted batch job 4207825\n",
      "Submitted batch job 4207826\n"
     ]
    },
    {
     "name": "stderr",
     "output_type": "stream",
     "text": [
      "Submitting jobs:  53%|█████▎    | 946/1785 [27:28<22:02,  1.58s/it]"
     ]
    },
    {
     "name": "stdout",
     "output_type": "stream",
     "text": [
      "Submitted batch job 4207827\n",
      "Submitted batch job 4207828\n",
      "Submitted batch job 4207829\n"
     ]
    },
    {
     "name": "stderr",
     "output_type": "stream",
     "text": [
      "Submitting jobs:  53%|█████▎    | 948/1785 [27:28<15:40,  1.12s/it]"
     ]
    },
    {
     "name": "stdout",
     "output_type": "stream",
     "text": [
      "Submitted batch job 4207830\n",
      "Submitted batch job 4207831\n",
      "Submitted batch job 4207832\n"
     ]
    },
    {
     "name": "stderr",
     "output_type": "stream",
     "text": [
      "Submitting jobs:  53%|█████▎    | 950/1785 [27:28<11:14,  1.24it/s]"
     ]
    },
    {
     "name": "stdout",
     "output_type": "stream",
     "text": [
      "Submitted batch job 4207833\n"
     ]
    },
    {
     "name": "stderr",
     "output_type": "stream",
     "text": [
      "Submitting jobs:  53%|█████▎    | 952/1785 [27:38<29:03,  2.09s/it]"
     ]
    },
    {
     "name": "stdout",
     "output_type": "stream",
     "text": [
      "Submitted batch job 4207834\n",
      "Submitted batch job 4207835\n",
      "Submitted batch job 4207836\n"
     ]
    },
    {
     "name": "stderr",
     "output_type": "stream",
     "text": [
      "Submitting jobs:  53%|█████▎    | 954/1785 [27:38<20:33,  1.48s/it]"
     ]
    },
    {
     "name": "stdout",
     "output_type": "stream",
     "text": [
      "Submitted batch job 4207837\n",
      "Submitted batch job 4207838\n"
     ]
    },
    {
     "name": "stderr",
     "output_type": "stream",
     "text": [
      "Submitting jobs:  54%|█████▎    | 958/1785 [27:49<25:53,  1.88s/it]"
     ]
    },
    {
     "name": "stdout",
     "output_type": "stream",
     "text": [
      "Submitted batch job 4207839\n",
      "Submitted batch job 4207840\n",
      "Submitted batch job 4207841\n"
     ]
    },
    {
     "name": "stderr",
     "output_type": "stream",
     "text": [
      "Submitting jobs:  54%|█████▍    | 960/1785 [27:50<18:23,  1.34s/it]"
     ]
    },
    {
     "name": "stdout",
     "output_type": "stream",
     "text": [
      "Submitted batch job 4207842\n",
      "Submitted batch job 4207843\n",
      "Submitted batch job 4207844\n"
     ]
    },
    {
     "name": "stderr",
     "output_type": "stream",
     "text": [
      "Submitting jobs:  54%|█████▍    | 962/1785 [27:50<13:08,  1.04it/s]"
     ]
    },
    {
     "name": "stdout",
     "output_type": "stream",
     "text": [
      "Submitted batch job 4207845\n"
     ]
    },
    {
     "name": "stderr",
     "output_type": "stream",
     "text": [
      "Submitting jobs:  54%|█████▍    | 964/1785 [27:50<10:17,  1.33it/s]"
     ]
    },
    {
     "name": "stdout",
     "output_type": "stream",
     "text": [
      "Submitted batch job 4207846\n",
      "Submitted batch job 4207847\n",
      "Submitted batch job 4207848\n"
     ]
    },
    {
     "name": "stderr",
     "output_type": "stream",
     "text": [
      "Submitting jobs:  54%|█████▍    | 966/1785 [27:50<07:30,  1.82it/s]"
     ]
    },
    {
     "name": "stdout",
     "output_type": "stream",
     "text": [
      "Submitted batch job 4207849\n"
     ]
    },
    {
     "name": "stderr",
     "output_type": "stream",
     "text": [
      "Submitting jobs:  54%|█████▍    | 968/1785 [28:01<26:04,  1.91s/it]"
     ]
    },
    {
     "name": "stdout",
     "output_type": "stream",
     "text": [
      "Submitted batch job 4207850\n",
      "Submitted batch job 4207851\n",
      "Submitted batch job 4207852\n"
     ]
    },
    {
     "name": "stderr",
     "output_type": "stream",
     "text": [
      "Submitting jobs:  54%|█████▍    | 972/1785 [28:01<13:14,  1.02it/s]"
     ]
    },
    {
     "name": "stdout",
     "output_type": "stream",
     "text": [
      "Submitted batch job 4207853\n",
      "Submitted batch job 4207854\n",
      "Submitted batch job 4207855\n"
     ]
    },
    {
     "name": "stderr",
     "output_type": "stream",
     "text": [
      "Submitting jobs:  55%|█████▍    | 974/1785 [28:01<09:32,  1.42it/s]"
     ]
    },
    {
     "name": "stdout",
     "output_type": "stream",
     "text": [
      "Submitted batch job 4207856\n",
      "Submitted batch job 4207857\n",
      "Submitted batch job 4207858\n"
     ]
    },
    {
     "name": "stderr",
     "output_type": "stream",
     "text": [
      "Submitting jobs:  55%|█████▍    | 978/1785 [28:11<19:23,  1.44s/it]"
     ]
    },
    {
     "name": "stdout",
     "output_type": "stream",
     "text": [
      "Submitted batch job 4207859\n",
      "Submitted batch job 4207860\n",
      "Submitted batch job 4207861\n"
     ]
    },
    {
     "name": "stderr",
     "output_type": "stream",
     "text": [
      "Submitting jobs:  55%|█████▍    | 980/1785 [28:12<13:48,  1.03s/it]"
     ]
    },
    {
     "name": "stdout",
     "output_type": "stream",
     "text": [
      "Submitted batch job 4207862\n",
      "Submitted batch job 4207863\n"
     ]
    },
    {
     "name": "stderr",
     "output_type": "stream",
     "text": [
      "Submitting jobs:  55%|█████▌    | 982/1785 [28:22<30:54,  2.31s/it]"
     ]
    },
    {
     "name": "stdout",
     "output_type": "stream",
     "text": [
      "Submitted batch job 4207864\n",
      "Submitted batch job 4207865\n",
      "Submitted batch job 4207866\n"
     ]
    },
    {
     "name": "stderr",
     "output_type": "stream",
     "text": [
      "Submitting jobs:  55%|█████▌    | 986/1785 [28:22<15:36,  1.17s/it]"
     ]
    },
    {
     "name": "stdout",
     "output_type": "stream",
     "text": [
      "Submitted batch job 4207867\n",
      "Submitted batch job 4207868\n",
      "Submitted batch job 4207869\n"
     ]
    },
    {
     "name": "stderr",
     "output_type": "stream",
     "text": [
      "Submitting jobs:  55%|█████▌    | 988/1785 [28:23<11:10,  1.19it/s]"
     ]
    },
    {
     "name": "stdout",
     "output_type": "stream",
     "text": [
      "Submitted batch job 4207870\n",
      "Submitted batch job 4207871\n",
      "Submitted batch job 4207872\n"
     ]
    },
    {
     "name": "stderr",
     "output_type": "stream",
     "text": [
      "Submitting jobs:  56%|█████▌    | 992/1785 [28:43<33:47,  2.56s/it]"
     ]
    },
    {
     "name": "stdout",
     "output_type": "stream",
     "text": [
      "Submitted batch job 4207873\n",
      "Submitted batch job 4207874\n",
      "Submitted batch job 4207875\n",
      "Submitted batch job 4207876\n"
     ]
    },
    {
     "name": "stderr",
     "output_type": "stream",
     "text": [
      "Submitting jobs:  56%|█████▌    | 996/1785 [28:54<32:10,  2.45s/it]"
     ]
    },
    {
     "name": "stdout",
     "output_type": "stream",
     "text": [
      "Submitted batch job 4207877\n",
      "Submitted batch job 4207878\n",
      "Submitted batch job 4207879\n",
      "Submitted batch job 4207880\n"
     ]
    },
    {
     "name": "stderr",
     "output_type": "stream",
     "text": [
      "Submitting jobs:  56%|█████▌    | 1000/1785 [29:05<29:55,  2.29s/it]"
     ]
    },
    {
     "name": "stdout",
     "output_type": "stream",
     "text": [
      "Submitted batch job 4207881\n",
      "Submitted batch job 4207882\n",
      "Submitted batch job 4207883\n"
     ]
    },
    {
     "name": "stderr",
     "output_type": "stream",
     "text": [
      "Submitting jobs:  56%|█████▌    | 1002/1785 [29:05<21:10,  1.62s/it]"
     ]
    },
    {
     "name": "stdout",
     "output_type": "stream",
     "text": [
      "Submitted batch job 4207884\n",
      "Submitted batch job 4207885\n",
      "Submitted batch job 4207886\n"
     ]
    },
    {
     "name": "stderr",
     "output_type": "stream",
     "text": [
      "Submitting jobs:  56%|█████▌    | 1004/1785 [29:05<15:04,  1.16s/it]"
     ]
    },
    {
     "name": "stdout",
     "output_type": "stream",
     "text": [
      "Submitted batch job 4207887\n",
      "Submitted batch job 4207888\n"
     ]
    },
    {
     "name": "stderr",
     "output_type": "stream",
     "text": [
      "Submitting jobs:  56%|█████▋    | 1008/1785 [29:15<21:30,  1.66s/it]"
     ]
    },
    {
     "name": "stdout",
     "output_type": "stream",
     "text": [
      "Submitted batch job 4207889\n",
      "Submitted batch job 4207890\n",
      "Submitted batch job 4207891\n"
     ]
    },
    {
     "name": "stderr",
     "output_type": "stream",
     "text": [
      "Submitting jobs:  57%|█████▋    | 1010/1785 [29:15<15:18,  1.19s/it]"
     ]
    },
    {
     "name": "stdout",
     "output_type": "stream",
     "text": [
      "Submitted batch job 4207892\n",
      "Submitted batch job 4207893\n"
     ]
    },
    {
     "name": "stderr",
     "output_type": "stream",
     "text": [
      "Submitting jobs:  57%|█████▋    | 1012/1785 [29:26<31:21,  2.43s/it]"
     ]
    },
    {
     "name": "stdout",
     "output_type": "stream",
     "text": [
      "Submitted batch job 4207894\n",
      "Submitted batch job 4207895\n",
      "Submitted batch job 4207896\n"
     ]
    },
    {
     "name": "stderr",
     "output_type": "stream",
     "text": [
      "Submitting jobs:  57%|█████▋    | 1016/1785 [29:26<15:47,  1.23s/it]"
     ]
    },
    {
     "name": "stdout",
     "output_type": "stream",
     "text": [
      "Submitted batch job 4207897\n",
      "Submitted batch job 4207898\n",
      "Submitted batch job 4207899\n"
     ]
    },
    {
     "name": "stderr",
     "output_type": "stream",
     "text": [
      "Submitting jobs:  57%|█████▋    | 1018/1785 [29:27<12:05,  1.06it/s]"
     ]
    },
    {
     "name": "stdout",
     "output_type": "stream",
     "text": [
      "Submitted batch job 4207900\n",
      "Submitted batch job 4207901\n"
     ]
    },
    {
     "name": "stderr",
     "output_type": "stream",
     "text": [
      "Submitting jobs:  57%|█████▋    | 1021/1785 [29:37<23:11,  1.82s/it]"
     ]
    },
    {
     "name": "stdout",
     "output_type": "stream",
     "text": [
      "Submitted batch job 4207902\n",
      "Submitted batch job 4207903\n",
      "Submitted batch job 4207904\n"
     ]
    },
    {
     "name": "stderr",
     "output_type": "stream",
     "text": [
      "Submitting jobs:  57%|█████▋    | 1023/1785 [29:37<15:42,  1.24s/it]"
     ]
    },
    {
     "name": "stdout",
     "output_type": "stream",
     "text": [
      "Submitted batch job 4207905\n",
      "Submitted batch job 4207906\n"
     ]
    },
    {
     "name": "stderr",
     "output_type": "stream",
     "text": [
      "Submitting jobs:  57%|█████▋    | 1025/1785 [29:48<31:30,  2.49s/it]"
     ]
    },
    {
     "name": "stdout",
     "output_type": "stream",
     "text": [
      "Submitted batch job 4207907\n",
      "Submitted batch job 4207908\n",
      "Submitted batch job 4207909\n"
     ]
    },
    {
     "name": "stderr",
     "output_type": "stream",
     "text": [
      "Submitting jobs:  58%|█████▊    | 1029/1785 [29:48<15:14,  1.21s/it]"
     ]
    },
    {
     "name": "stdout",
     "output_type": "stream",
     "text": [
      "Submitted batch job 4207910\n",
      "Submitted batch job 4207911\n",
      "Submitted batch job 4207912\n"
     ]
    },
    {
     "name": "stderr",
     "output_type": "stream",
     "text": [
      "Submitting jobs:  58%|█████▊    | 1031/1785 [29:48<10:55,  1.15it/s]"
     ]
    },
    {
     "name": "stdout",
     "output_type": "stream",
     "text": [
      "Submitted batch job 4207913\n",
      "Submitted batch job 4207914\n"
     ]
    },
    {
     "name": "stderr",
     "output_type": "stream",
     "text": [
      "Submitting jobs:  58%|█████▊    | 1033/1785 [30:01<32:24,  2.59s/it]"
     ]
    },
    {
     "name": "stdout",
     "output_type": "stream",
     "text": [
      "Submitted batch job 4207915\n",
      "Submitted batch job 4207916\n"
     ]
    },
    {
     "name": "stderr",
     "output_type": "stream",
     "text": [
      "Submitting jobs:  58%|█████▊    | 1034/1785 [30:01<26:57,  2.15s/it]"
     ]
    },
    {
     "name": "stdout",
     "output_type": "stream",
     "text": [
      "Submitted batch job 4207917\n",
      "Submitted batch job 4207918\n"
     ]
    },
    {
     "name": "stderr",
     "output_type": "stream",
     "text": [
      "Submitting jobs:  58%|█████▊    | 1038/1785 [30:11<26:41,  2.14s/it]"
     ]
    },
    {
     "name": "stdout",
     "output_type": "stream",
     "text": [
      "Submitted batch job 4207919\n",
      "Submitted batch job 4207920\n",
      "Submitted batch job 4207921\n"
     ]
    },
    {
     "name": "stderr",
     "output_type": "stream",
     "text": [
      "Submitting jobs:  58%|█████▊    | 1042/1785 [30:12<12:55,  1.04s/it]"
     ]
    },
    {
     "name": "stdout",
     "output_type": "stream",
     "text": [
      "Submitted batch job 4207922\n",
      "Submitted batch job 4207923\n",
      "Submitted batch job 4207924\n",
      "Submitted batch job 4207925\n"
     ]
    },
    {
     "name": "stderr",
     "output_type": "stream",
     "text": [
      "Submitting jobs:  58%|█████▊    | 1044/1785 [30:12<09:10,  1.35it/s]"
     ]
    },
    {
     "name": "stdout",
     "output_type": "stream",
     "text": [
      "Submitted batch job 4207926\n",
      "Submitted batch job 4207927\n"
     ]
    },
    {
     "name": "stderr",
     "output_type": "stream",
     "text": [
      "Submitting jobs:  59%|█████▊    | 1046/1785 [30:22<25:29,  2.07s/it]"
     ]
    },
    {
     "name": "stdout",
     "output_type": "stream",
     "text": [
      "Submitted batch job 4207928\n",
      "Submitted batch job 4207929\n",
      "Submitted batch job 4207930\n"
     ]
    },
    {
     "name": "stderr",
     "output_type": "stream",
     "text": [
      "Submitting jobs:  59%|█████▊    | 1048/1785 [30:22<17:57,  1.46s/it]"
     ]
    },
    {
     "name": "stdout",
     "output_type": "stream",
     "text": [
      "Submitted batch job 4207931\n",
      "Submitted batch job 4207932\n"
     ]
    },
    {
     "name": "stderr",
     "output_type": "stream",
     "text": [
      "Submitting jobs:  59%|█████▉    | 1050/1785 [30:32<31:20,  2.56s/it]"
     ]
    },
    {
     "name": "stdout",
     "output_type": "stream",
     "text": [
      "Submitted batch job 4207934\n"
     ]
    },
    {
     "name": "stderr",
     "output_type": "stream",
     "text": [
      "Submitting jobs:  59%|█████▉    | 1053/1785 [30:33<17:43,  1.45s/it]"
     ]
    },
    {
     "name": "stdout",
     "output_type": "stream",
     "text": [
      "Submitted batch job 4207935\n",
      "Submitted batch job 4207936\n",
      "Submitted batch job 4207937\n"
     ]
    },
    {
     "name": "stderr",
     "output_type": "stream",
     "text": [
      "Submitting jobs:  59%|█████▉    | 1055/1785 [30:43<32:02,  2.63s/it]"
     ]
    },
    {
     "name": "stdout",
     "output_type": "stream",
     "text": [
      "Submitted batch job 4207938\n",
      "Submitted batch job 4207939\n",
      "Submitted batch job 4207940\n"
     ]
    },
    {
     "name": "stderr",
     "output_type": "stream",
     "text": [
      "Submitting jobs:  59%|█████▉    | 1057/1785 [30:43<22:11,  1.83s/it]"
     ]
    },
    {
     "name": "stdout",
     "output_type": "stream",
     "text": [
      "Submitted batch job 4207941\n",
      "Submitted batch job 4207942\n"
     ]
    },
    {
     "name": "stderr",
     "output_type": "stream",
     "text": [
      "Submitting jobs:  59%|█████▉    | 1061/1785 [30:53<24:01,  1.99s/it]"
     ]
    },
    {
     "name": "stdout",
     "output_type": "stream",
     "text": [
      "Submitted batch job 4207943\n",
      "Submitted batch job 4207944\n",
      "Submitted batch job 4207945\n",
      "Submitted batch job 4207946\n"
     ]
    },
    {
     "name": "stderr",
     "output_type": "stream",
     "text": [
      "Submitting jobs:  60%|█████▉    | 1064/1785 [31:04<29:11,  2.43s/it]"
     ]
    },
    {
     "name": "stdout",
     "output_type": "stream",
     "text": [
      "Submitted batch job 4207947\n",
      "Submitted batch job 4207948\n"
     ]
    },
    {
     "name": "stderr",
     "output_type": "stream",
     "text": [
      "Submitting jobs:  60%|█████▉    | 1066/1785 [31:14<39:52,  3.33s/it]"
     ]
    },
    {
     "name": "stdout",
     "output_type": "stream",
     "text": [
      "Submitted batch job 4207949\n",
      "Submitted batch job 4207950\n",
      "Submitted batch job 4207951\n",
      "Submitted batch job 4207952\n"
     ]
    },
    {
     "name": "stderr",
     "output_type": "stream",
     "text": [
      "Submitting jobs:  60%|█████▉    | 1068/1785 [31:14<27:04,  2.27s/it]"
     ]
    },
    {
     "name": "stdout",
     "output_type": "stream",
     "text": [
      "Submitted batch job 4207953\n"
     ]
    },
    {
     "name": "stderr",
     "output_type": "stream",
     "text": [
      "Submitting jobs:  60%|█████▉    | 1070/1785 [31:24<37:41,  3.16s/it]"
     ]
    },
    {
     "name": "stdout",
     "output_type": "stream",
     "text": [
      "Submitted batch job 4207954\n"
     ]
    },
    {
     "name": "stderr",
     "output_type": "stream",
     "text": [
      "Submitting jobs:  60%|██████    | 1073/1785 [31:25<20:41,  1.74s/it]"
     ]
    },
    {
     "name": "stdout",
     "output_type": "stream",
     "text": [
      "Submitted batch job 4207955\n",
      "Submitted batch job 4207956\n",
      "Submitted batch job 4207957\n",
      "Submitted batch job 4207958\n"
     ]
    },
    {
     "name": "stderr",
     "output_type": "stream",
     "text": [
      "Submitting jobs:  60%|██████    | 1077/1785 [31:25<10:05,  1.17it/s]"
     ]
    },
    {
     "name": "stdout",
     "output_type": "stream",
     "text": [
      "Submitted batch job 4207959\n",
      "Submitted batch job 4207960\n",
      "Submitted batch job 4207961\n"
     ]
    },
    {
     "name": "stderr",
     "output_type": "stream",
     "text": [
      "Submitting jobs:  60%|██████    | 1079/1785 [31:25<07:10,  1.64it/s]"
     ]
    },
    {
     "name": "stdout",
     "output_type": "stream",
     "text": [
      "Submitted batch job 4207962\n",
      "Submitted batch job 4207963\n"
     ]
    },
    {
     "name": "stderr",
     "output_type": "stream",
     "text": [
      "Submitting jobs:  61%|██████    | 1081/1785 [31:36<23:28,  2.00s/it]"
     ]
    },
    {
     "name": "stdout",
     "output_type": "stream",
     "text": [
      "Submitted batch job 4207965\n",
      "Submitted batch job 4207966\n",
      "Submitted batch job 4207967\n"
     ]
    },
    {
     "name": "stderr",
     "output_type": "stream",
     "text": [
      "Submitting jobs:  61%|██████    | 1085/1785 [31:36<11:41,  1.00s/it]"
     ]
    },
    {
     "name": "stdout",
     "output_type": "stream",
     "text": [
      "Submitted batch job 4207968\n",
      "Submitted batch job 4207969\n",
      "Submitted batch job 4207970\n"
     ]
    },
    {
     "name": "stderr",
     "output_type": "stream",
     "text": [
      "Submitting jobs:  61%|██████    | 1087/1785 [31:36<08:22,  1.39it/s]"
     ]
    },
    {
     "name": "stdout",
     "output_type": "stream",
     "text": [
      "Submitted batch job 4207971\n",
      "Submitted batch job 4207972\n",
      "Submitted batch job 4207973\n"
     ]
    },
    {
     "name": "stderr",
     "output_type": "stream",
     "text": [
      "Submitting jobs:  61%|██████    | 1089/1785 [31:36<06:05,  1.90it/s]"
     ]
    },
    {
     "name": "stdout",
     "output_type": "stream",
     "text": [
      "Submitted batch job 4207974\n"
     ]
    },
    {
     "name": "stderr",
     "output_type": "stream",
     "text": [
      "Submitting jobs:  61%|██████    | 1091/1785 [31:46<22:00,  1.90s/it]"
     ]
    },
    {
     "name": "stdout",
     "output_type": "stream",
     "text": [
      "Submitted batch job 4207975\n",
      "Submitted batch job 4207976\n",
      "Submitted batch job 4207977\n"
     ]
    },
    {
     "name": "stderr",
     "output_type": "stream",
     "text": [
      "Submitting jobs:  61%|██████    | 1093/1785 [31:46<15:36,  1.35s/it]"
     ]
    },
    {
     "name": "stdout",
     "output_type": "stream",
     "text": [
      "Submitted batch job 4207978\n",
      "Submitted batch job 4207979\n"
     ]
    },
    {
     "name": "stderr",
     "output_type": "stream",
     "text": [
      "Submitting jobs:  61%|██████▏   | 1095/1785 [31:47<11:34,  1.01s/it]"
     ]
    },
    {
     "name": "stdout",
     "output_type": "stream",
     "text": [
      "Submitted batch job 4207980\n",
      "Submitted batch job 4207981\n"
     ]
    },
    {
     "name": "stderr",
     "output_type": "stream",
     "text": [
      "Submitting jobs:  62%|██████▏   | 1099/1785 [31:57<18:21,  1.60s/it]"
     ]
    },
    {
     "name": "stdout",
     "output_type": "stream",
     "text": [
      "Submitted batch job 4207982\n",
      "Submitted batch job 4207983\n",
      "Submitted batch job 4207984\n"
     ]
    },
    {
     "name": "stderr",
     "output_type": "stream",
     "text": [
      "Submitting jobs:  62%|██████▏   | 1101/1785 [31:57<13:01,  1.14s/it]"
     ]
    },
    {
     "name": "stdout",
     "output_type": "stream",
     "text": [
      "Submitted batch job 4207985\n",
      "Submitted batch job 4207986\n"
     ]
    },
    {
     "name": "stderr",
     "output_type": "stream",
     "text": [
      "Submitting jobs:  62%|██████▏   | 1103/1785 [32:08<26:27,  2.33s/it]"
     ]
    },
    {
     "name": "stdout",
     "output_type": "stream",
     "text": [
      "Submitted batch job 4207987\n",
      "Submitted batch job 4207988\n",
      "Submitted batch job 4207989\n"
     ]
    },
    {
     "name": "stderr",
     "output_type": "stream",
     "text": [
      "Submitting jobs:  62%|██████▏   | 1107/1785 [32:08<13:18,  1.18s/it]"
     ]
    },
    {
     "name": "stdout",
     "output_type": "stream",
     "text": [
      "Submitted batch job 4207990\n",
      "Submitted batch job 4207991\n",
      "Submitted batch job 4207992\n"
     ]
    },
    {
     "name": "stderr",
     "output_type": "stream",
     "text": [
      "Submitting jobs:  62%|██████▏   | 1109/1785 [32:08<09:32,  1.18it/s]"
     ]
    },
    {
     "name": "stdout",
     "output_type": "stream",
     "text": [
      "Submitted batch job 4207993\n",
      "Submitted batch job 4207994\n"
     ]
    },
    {
     "name": "stderr",
     "output_type": "stream",
     "text": [
      "Submitting jobs:  62%|██████▏   | 1111/1785 [32:18<23:47,  2.12s/it]"
     ]
    },
    {
     "name": "stdout",
     "output_type": "stream",
     "text": [
      "Submitted batch job 4207995\n",
      "Submitted batch job 4207996\n",
      "Submitted batch job 4207997\n"
     ]
    },
    {
     "name": "stderr",
     "output_type": "stream",
     "text": [
      "Submitting jobs:  62%|██████▏   | 1115/1785 [32:19<12:01,  1.08s/it]"
     ]
    },
    {
     "name": "stdout",
     "output_type": "stream",
     "text": [
      "Submitted batch job 4207998\n",
      "Submitted batch job 4207999\n",
      "Submitted batch job 4208000\n"
     ]
    },
    {
     "name": "stderr",
     "output_type": "stream",
     "text": [
      "Submitting jobs:  63%|██████▎   | 1117/1785 [32:29<25:25,  2.28s/it]"
     ]
    },
    {
     "name": "stdout",
     "output_type": "stream",
     "text": [
      "Submitted batch job 4208001\n",
      "Submitted batch job 4208002\n",
      "Submitted batch job 4208003\n"
     ]
    },
    {
     "name": "stderr",
     "output_type": "stream",
     "text": [
      "Submitting jobs:  63%|██████▎   | 1119/1785 [32:29<17:57,  1.62s/it]"
     ]
    },
    {
     "name": "stdout",
     "output_type": "stream",
     "text": [
      "Submitted batch job 4208004\n"
     ]
    },
    {
     "name": "stderr",
     "output_type": "stream",
     "text": [
      "Submitting jobs:  63%|██████▎   | 1121/1785 [32:39<29:59,  2.71s/it]"
     ]
    },
    {
     "name": "stdout",
     "output_type": "stream",
     "text": [
      "Submitted batch job 4208005\n",
      "Submitted batch job 4208006\n",
      "Submitted batch job 4208007\n"
     ]
    },
    {
     "name": "stderr",
     "output_type": "stream",
     "text": [
      "Submitting jobs:  63%|██████▎   | 1125/1785 [32:50<26:34,  2.42s/it]"
     ]
    },
    {
     "name": "stdout",
     "output_type": "stream",
     "text": [
      "Submitted batch job 4208008\n",
      "Submitted batch job 4208009\n",
      "Submitted batch job 4208010\n"
     ]
    },
    {
     "name": "stderr",
     "output_type": "stream",
     "text": [
      "Submitting jobs:  63%|██████▎   | 1127/1785 [32:50<18:48,  1.72s/it]"
     ]
    },
    {
     "name": "stdout",
     "output_type": "stream",
     "text": [
      "Submitted batch job 4208011\n",
      "Submitted batch job 4208012\n",
      "Submitted batch job 4208013\n"
     ]
    },
    {
     "name": "stderr",
     "output_type": "stream",
     "text": [
      "Submitting jobs:  63%|██████▎   | 1129/1785 [32:50<13:20,  1.22s/it]"
     ]
    },
    {
     "name": "stdout",
     "output_type": "stream",
     "text": [
      "Submitted batch job 4208014\n",
      "Submitted batch job 4208015\n"
     ]
    },
    {
     "name": "stderr",
     "output_type": "stream",
     "text": [
      "Submitting jobs:  63%|██████▎   | 1133/1785 [33:00<18:20,  1.69s/it]"
     ]
    },
    {
     "name": "stdout",
     "output_type": "stream",
     "text": [
      "Submitted batch job 4208016\n",
      "Submitted batch job 4208017\n",
      "Submitted batch job 4208018\n"
     ]
    },
    {
     "name": "stderr",
     "output_type": "stream",
     "text": [
      "Submitting jobs:  64%|██████▎   | 1135/1785 [33:00<13:01,  1.20s/it]"
     ]
    },
    {
     "name": "stdout",
     "output_type": "stream",
     "text": [
      "Submitted batch job 4208019\n",
      "Submitted batch job 4208020\n",
      "Submitted batch job 4208021\n"
     ]
    },
    {
     "name": "stderr",
     "output_type": "stream",
     "text": [
      "Submitting jobs:  64%|██████▍   | 1139/1785 [33:01<06:46,  1.59it/s]"
     ]
    },
    {
     "name": "stdout",
     "output_type": "stream",
     "text": [
      "Submitted batch job 4208022\n",
      "Submitted batch job 4208023\n",
      "Submitted batch job 4208024\n"
     ]
    },
    {
     "name": "stderr",
     "output_type": "stream",
     "text": [
      "Submitting jobs:  64%|██████▍   | 1141/1785 [33:11<21:39,  2.02s/it]"
     ]
    },
    {
     "name": "stdout",
     "output_type": "stream",
     "text": [
      "Submitted batch job 4208025\n",
      "Submitted batch job 4208026\n",
      "Submitted batch job 4208027\n"
     ]
    },
    {
     "name": "stderr",
     "output_type": "stream",
     "text": [
      "Submitting jobs:  64%|██████▍   | 1145/1785 [33:12<10:55,  1.02s/it]"
     ]
    },
    {
     "name": "stdout",
     "output_type": "stream",
     "text": [
      "Submitted batch job 4208028\n",
      "Submitted batch job 4208029\n",
      "Submitted batch job 4208030\n"
     ]
    },
    {
     "name": "stderr",
     "output_type": "stream",
     "text": [
      "Submitting jobs:  64%|██████▍   | 1147/1785 [33:22<23:50,  2.24s/it]"
     ]
    },
    {
     "name": "stdout",
     "output_type": "stream",
     "text": [
      "Submitted batch job 4208032\n",
      "Submitted batch job 4208033\n",
      "Submitted batch job 4208034\n"
     ]
    },
    {
     "name": "stderr",
     "output_type": "stream",
     "text": [
      "Submitting jobs:  64%|██████▍   | 1151/1785 [33:22<12:02,  1.14s/it]"
     ]
    },
    {
     "name": "stdout",
     "output_type": "stream",
     "text": [
      "Submitted batch job 4208035\n",
      "Submitted batch job 4208036\n",
      "Submitted batch job 4208037\n"
     ]
    },
    {
     "name": "stderr",
     "output_type": "stream",
     "text": [
      "Submitting jobs:  65%|██████▍   | 1153/1785 [33:22<08:38,  1.22it/s]"
     ]
    },
    {
     "name": "stdout",
     "output_type": "stream",
     "text": [
      "Submitted batch job 4208038\n",
      "Submitted batch job 4208039\n",
      "Submitted batch job 4208040\n"
     ]
    },
    {
     "name": "stderr",
     "output_type": "stream",
     "text": [
      "Submitting jobs:  65%|██████▍   | 1155/1785 [33:32<22:04,  2.10s/it]"
     ]
    },
    {
     "name": "stdout",
     "output_type": "stream",
     "text": [
      "Submitted batch job 4208041\n",
      "Submitted batch job 4208042\n"
     ]
    },
    {
     "name": "stderr",
     "output_type": "stream",
     "text": [
      "Submitting jobs:  65%|██████▍   | 1157/1785 [33:43<31:23,  3.00s/it]"
     ]
    },
    {
     "name": "stdout",
     "output_type": "stream",
     "text": [
      "Submitted batch job 4208044\n",
      "Submitted batch job 4208045\n"
     ]
    },
    {
     "name": "stderr",
     "output_type": "stream",
     "text": [
      "Submitting jobs:  65%|██████▌   | 1161/1785 [33:43<16:03,  1.54s/it]"
     ]
    },
    {
     "name": "stdout",
     "output_type": "stream",
     "text": [
      "Submitted batch job 4208046\n",
      "Submitted batch job 4208047\n",
      "Submitted batch job 4208048\n",
      "Submitted batch job 4208049\n"
     ]
    },
    {
     "name": "stderr",
     "output_type": "stream",
     "text": [
      "Submitting jobs:  65%|██████▌   | 1165/1785 [33:54<19:04,  1.85s/it]"
     ]
    },
    {
     "name": "stdout",
     "output_type": "stream",
     "text": [
      "Submitted batch job 4208050\n",
      "Submitted batch job 4208051\n",
      "Submitted batch job 4208052\n"
     ]
    },
    {
     "name": "stderr",
     "output_type": "stream",
     "text": [
      "Submitting jobs:  65%|██████▌   | 1167/1785 [33:54<13:31,  1.31s/it]"
     ]
    },
    {
     "name": "stdout",
     "output_type": "stream",
     "text": [
      "Submitted batch job 4208053\n",
      "Submitted batch job 4208054\n"
     ]
    },
    {
     "name": "stderr",
     "output_type": "stream",
     "text": [
      "Submitting jobs:  65%|██████▌   | 1169/1785 [34:04<25:08,  2.45s/it]"
     ]
    },
    {
     "name": "stdout",
     "output_type": "stream",
     "text": [
      "Submitted batch job 4208055\n",
      "Submitted batch job 4208056\n",
      "Submitted batch job 4208057\n"
     ]
    },
    {
     "name": "stderr",
     "output_type": "stream",
     "text": [
      "Submitting jobs:  66%|██████▌   | 1173/1785 [34:04<12:38,  1.24s/it]"
     ]
    },
    {
     "name": "stdout",
     "output_type": "stream",
     "text": [
      "Submitted batch job 4208058\n",
      "Submitted batch job 4208059\n",
      "Submitted batch job 4208060\n"
     ]
    },
    {
     "name": "stderr",
     "output_type": "stream",
     "text": [
      "Submitting jobs:  66%|██████▌   | 1175/1785 [34:04<09:01,  1.13it/s]"
     ]
    },
    {
     "name": "stdout",
     "output_type": "stream",
     "text": [
      "Submitted batch job 4208061\n",
      "Submitted batch job 4208062\n",
      "Submitted batch job 4208063\n"
     ]
    },
    {
     "name": "stderr",
     "output_type": "stream",
     "text": [
      "Submitting jobs:  66%|██████▌   | 1177/1785 [34:04<06:30,  1.56it/s]"
     ]
    },
    {
     "name": "stdout",
     "output_type": "stream",
     "text": [
      "Submitted batch job 4208064\n"
     ]
    },
    {
     "name": "stderr",
     "output_type": "stream",
     "text": [
      "Submitting jobs:  66%|██████▌   | 1179/1785 [34:15<19:58,  1.98s/it]"
     ]
    },
    {
     "name": "stdout",
     "output_type": "stream",
     "text": [
      "Submitted batch job 4208065\n",
      "Submitted batch job 4208066\n",
      "Submitted batch job 4208067\n"
     ]
    },
    {
     "name": "stderr",
     "output_type": "stream",
     "text": [
      "Submitting jobs:  66%|██████▌   | 1181/1785 [34:15<14:09,  1.41s/it]"
     ]
    },
    {
     "name": "stdout",
     "output_type": "stream",
     "text": [
      "Submitted batch job 4208068\n",
      "Submitted batch job 4208069\n"
     ]
    },
    {
     "name": "stderr",
     "output_type": "stream",
     "text": [
      "Submitting jobs:  66%|██████▋   | 1185/1785 [34:25<17:48,  1.78s/it]"
     ]
    },
    {
     "name": "stdout",
     "output_type": "stream",
     "text": [
      "Submitted batch job 4208070\n",
      "Submitted batch job 4208071\n",
      "Submitted batch job 4208072\n"
     ]
    },
    {
     "name": "stderr",
     "output_type": "stream",
     "text": [
      "Submitting jobs:  66%|██████▋   | 1187/1785 [34:25<12:39,  1.27s/it]"
     ]
    },
    {
     "name": "stdout",
     "output_type": "stream",
     "text": [
      "Submitted batch job 4208073\n",
      "Submitted batch job 4208074\n"
     ]
    },
    {
     "name": "stderr",
     "output_type": "stream",
     "text": [
      "Submitting jobs:  67%|██████▋   | 1189/1785 [34:36<24:01,  2.42s/it]"
     ]
    },
    {
     "name": "stdout",
     "output_type": "stream",
     "text": [
      "Submitted batch job 4208075\n",
      "Submitted batch job 4208076\n",
      "Submitted batch job 4208077\n"
     ]
    },
    {
     "name": "stderr",
     "output_type": "stream",
     "text": [
      "Submitting jobs:  67%|██████▋   | 1191/1785 [34:36<16:58,  1.71s/it]"
     ]
    },
    {
     "name": "stdout",
     "output_type": "stream",
     "text": [
      "Submitted batch job 4208078\n"
     ]
    },
    {
     "name": "stderr",
     "output_type": "stream",
     "text": [
      "Submitting jobs:  67%|██████▋   | 1193/1785 [34:46<26:54,  2.73s/it]"
     ]
    },
    {
     "name": "stdout",
     "output_type": "stream",
     "text": [
      "Submitted batch job 4208079\n",
      "Submitted batch job 4208080\n",
      "Submitted batch job 4208081\n"
     ]
    },
    {
     "name": "stderr",
     "output_type": "stream",
     "text": [
      "Submitting jobs:  67%|██████▋   | 1197/1785 [34:46<13:29,  1.38s/it]"
     ]
    },
    {
     "name": "stdout",
     "output_type": "stream",
     "text": [
      "Submitted batch job 4208082\n",
      "Submitted batch job 4208083\n",
      "Submitted batch job 4208084\n"
     ]
    },
    {
     "name": "stderr",
     "output_type": "stream",
     "text": [
      "Submitting jobs:  67%|██████▋   | 1199/1785 [34:56<24:18,  2.49s/it]"
     ]
    },
    {
     "name": "stdout",
     "output_type": "stream",
     "text": [
      "Submitted batch job 4208085\n",
      "Submitted batch job 4208086\n",
      "Submitted batch job 4208087\n"
     ]
    },
    {
     "name": "stderr",
     "output_type": "stream",
     "text": [
      "Submitting jobs:  67%|██████▋   | 1201/1785 [35:07<31:50,  3.27s/it]"
     ]
    },
    {
     "name": "stdout",
     "output_type": "stream",
     "text": [
      "Submitted batch job 4208088\n",
      "Submitted batch job 4208089\n"
     ]
    },
    {
     "name": "stderr",
     "output_type": "stream",
     "text": [
      "Submitting jobs:  68%|██████▊   | 1205/1785 [35:08<16:54,  1.75s/it]"
     ]
    },
    {
     "name": "stdout",
     "output_type": "stream",
     "text": [
      "Submitted batch job 4208090\n",
      "Submitted batch job 4208091\n",
      "Submitted batch job 4208092\n"
     ]
    },
    {
     "name": "stderr",
     "output_type": "stream",
     "text": [
      "Submitting jobs:  68%|██████▊   | 1207/1785 [35:08<12:02,  1.25s/it]"
     ]
    },
    {
     "name": "stdout",
     "output_type": "stream",
     "text": [
      "Submitted batch job 4208093\n",
      "Submitted batch job 4208094\n",
      "Submitted batch job 4208095\n"
     ]
    },
    {
     "name": "stderr",
     "output_type": "stream",
     "text": [
      "Submitting jobs:  68%|██████▊   | 1209/1785 [35:08<08:37,  1.11it/s]"
     ]
    },
    {
     "name": "stdout",
     "output_type": "stream",
     "text": [
      "Submitted batch job 4208096\n",
      "Submitted batch job 4208097\n"
     ]
    },
    {
     "name": "stderr",
     "output_type": "stream",
     "text": [
      "Submitting jobs:  68%|██████▊   | 1213/1785 [35:19<14:36,  1.53s/it]"
     ]
    },
    {
     "name": "stdout",
     "output_type": "stream",
     "text": [
      "Submitted batch job 4208098\n",
      "Submitted batch job 4208099\n",
      "Submitted batch job 4208100\n"
     ]
    },
    {
     "name": "stderr",
     "output_type": "stream",
     "text": [
      "Submitting jobs:  68%|██████▊   | 1215/1785 [35:19<10:23,  1.09s/it]"
     ]
    },
    {
     "name": "stdout",
     "output_type": "stream",
     "text": [
      "Submitted batch job 4208101\n",
      "Submitted batch job 4208102\n",
      "Submitted batch job 4208103\n"
     ]
    },
    {
     "name": "stderr",
     "output_type": "stream",
     "text": [
      "Submitting jobs:  68%|██████▊   | 1219/1785 [35:19<05:26,  1.74it/s]"
     ]
    },
    {
     "name": "stdout",
     "output_type": "stream",
     "text": [
      "Submitted batch job 4208104\n",
      "Submitted batch job 4208105\n",
      "Submitted batch job 4208106\n",
      "Submitted batch job 4208107\n"
     ]
    },
    {
     "name": "stderr",
     "output_type": "stream",
     "text": [
      "Submitting jobs:  69%|██████▊   | 1223/1785 [35:29<12:52,  1.37s/it]"
     ]
    },
    {
     "name": "stdout",
     "output_type": "stream",
     "text": [
      "Submitted batch job 4208109\n",
      "Submitted batch job 4208110\n",
      "Submitted batch job 4208111\n",
      "Submitted batch job 4208112\n"
     ]
    },
    {
     "name": "stderr",
     "output_type": "stream",
     "text": [
      "Submitting jobs:  69%|██████▊   | 1225/1785 [35:39<23:13,  2.49s/it]"
     ]
    },
    {
     "name": "stdout",
     "output_type": "stream",
     "text": [
      "Submitted batch job 4208113\n",
      "Submitted batch job 4208114\n"
     ]
    },
    {
     "name": "stderr",
     "output_type": "stream",
     "text": [
      "Submitting jobs:  69%|██████▉   | 1229/1785 [35:40<11:50,  1.28s/it]"
     ]
    },
    {
     "name": "stdout",
     "output_type": "stream",
     "text": [
      "Submitted batch job 4208115\n",
      "Submitted batch job 4208116\n",
      "Submitted batch job 4208117\n",
      "Submitted batch job 4208118\n"
     ]
    },
    {
     "name": "stderr",
     "output_type": "stream",
     "text": [
      "Submitting jobs:  69%|██████▉   | 1233/1785 [35:50<15:47,  1.72s/it]"
     ]
    },
    {
     "name": "stdout",
     "output_type": "stream",
     "text": [
      "Submitted batch job 4208119\n",
      "Submitted batch job 4208120\n",
      "Submitted batch job 4208121\n"
     ]
    },
    {
     "name": "stderr",
     "output_type": "stream",
     "text": [
      "Submitting jobs:  69%|██████▉   | 1235/1785 [35:50<11:14,  1.23s/it]"
     ]
    },
    {
     "name": "stdout",
     "output_type": "stream",
     "text": [
      "Submitted batch job 4208122\n",
      "Submitted batch job 4208123\n"
     ]
    },
    {
     "name": "stderr",
     "output_type": "stream",
     "text": [
      "Submitting jobs:  69%|██████▉   | 1237/1785 [36:01<21:48,  2.39s/it]"
     ]
    },
    {
     "name": "stdout",
     "output_type": "stream",
     "text": [
      "Submitted batch job 4208124\n",
      "Submitted batch job 4208125\n",
      "Submitted batch job 4208126\n"
     ]
    },
    {
     "name": "stderr",
     "output_type": "stream",
     "text": [
      "Submitting jobs:  70%|██████▉   | 1241/1785 [36:01<10:56,  1.21s/it]"
     ]
    },
    {
     "name": "stdout",
     "output_type": "stream",
     "text": [
      "Submitted batch job 4208127\n",
      "Submitted batch job 4208128\n",
      "Submitted batch job 4208129\n"
     ]
    },
    {
     "name": "stderr",
     "output_type": "stream",
     "text": [
      "Submitting jobs:  70%|██████▉   | 1243/1785 [36:01<07:50,  1.15it/s]"
     ]
    },
    {
     "name": "stdout",
     "output_type": "stream",
     "text": [
      "Submitted batch job 4208130\n",
      "Submitted batch job 4208131\n"
     ]
    },
    {
     "name": "stderr",
     "output_type": "stream",
     "text": [
      "Submitting jobs:  70%|██████▉   | 1245/1785 [36:11<19:11,  2.13s/it]"
     ]
    },
    {
     "name": "stdout",
     "output_type": "stream",
     "text": [
      "Submitted batch job 4208132\n",
      "Submitted batch job 4208133\n",
      "Submitted batch job 4208134\n"
     ]
    },
    {
     "name": "stderr",
     "output_type": "stream",
     "text": [
      "Submitting jobs:  70%|██████▉   | 1249/1785 [36:22<19:05,  2.14s/it]"
     ]
    },
    {
     "name": "stdout",
     "output_type": "stream",
     "text": [
      "Submitted batch job 4208135\n",
      "Submitted batch job 4208136\n",
      "Submitted batch job 4208137\n"
     ]
    },
    {
     "name": "stderr",
     "output_type": "stream",
     "text": [
      "Submitting jobs:  70%|███████   | 1251/1785 [36:22<13:29,  1.52s/it]"
     ]
    },
    {
     "name": "stdout",
     "output_type": "stream",
     "text": [
      "Submitted batch job 4208138\n",
      "Submitted batch job 4208139\n"
     ]
    },
    {
     "name": "stderr",
     "output_type": "stream",
     "text": [
      "Submitting jobs:  70%|███████   | 1253/1785 [36:32<22:56,  2.59s/it]"
     ]
    },
    {
     "name": "stdout",
     "output_type": "stream",
     "text": [
      "Submitted batch job 4208140\n",
      "Submitted batch job 4208141\n",
      "Submitted batch job 4208142\n"
     ]
    },
    {
     "name": "stderr",
     "output_type": "stream",
     "text": [
      "Submitting jobs:  70%|███████   | 1257/1785 [36:32<11:30,  1.31s/it]"
     ]
    },
    {
     "name": "stdout",
     "output_type": "stream",
     "text": [
      "Submitted batch job 4208143\n",
      "Submitted batch job 4208144\n",
      "Submitted batch job 4208145\n"
     ]
    },
    {
     "name": "stderr",
     "output_type": "stream",
     "text": [
      "Submitting jobs:  71%|███████   | 1259/1785 [36:32<08:15,  1.06it/s]"
     ]
    },
    {
     "name": "stdout",
     "output_type": "stream",
     "text": [
      "Submitted batch job 4208146\n",
      "Submitted batch job 4208147\n",
      "Submitted batch job 4208148\n"
     ]
    },
    {
     "name": "stderr",
     "output_type": "stream",
     "text": [
      "Submitting jobs:  71%|███████   | 1261/1785 [36:33<05:57,  1.46it/s]"
     ]
    },
    {
     "name": "stdout",
     "output_type": "stream",
     "text": [
      "Submitted batch job 4208149\n"
     ]
    },
    {
     "name": "stderr",
     "output_type": "stream",
     "text": [
      "Submitting jobs:  71%|███████   | 1263/1785 [36:43<17:29,  2.01s/it]"
     ]
    },
    {
     "name": "stdout",
     "output_type": "stream",
     "text": [
      "Submitted batch job 4208150\n",
      "Submitted batch job 4208151\n",
      "Submitted batch job 4208152\n"
     ]
    },
    {
     "name": "stderr",
     "output_type": "stream",
     "text": [
      "Submitting jobs:  71%|███████   | 1267/1785 [36:43<08:50,  1.02s/it]"
     ]
    },
    {
     "name": "stdout",
     "output_type": "stream",
     "text": [
      "Submitted batch job 4208153\n",
      "Submitted batch job 4208154\n",
      "Submitted batch job 4208155\n"
     ]
    },
    {
     "name": "stderr",
     "output_type": "stream",
     "text": [
      "Submitting jobs:  71%|███████   | 1269/1785 [36:43<06:22,  1.35it/s]"
     ]
    },
    {
     "name": "stdout",
     "output_type": "stream",
     "text": [
      "Submitted batch job 4208156\n",
      "Submitted batch job 4208157\n",
      "Submitted batch job 4208158\n"
     ]
    },
    {
     "name": "stderr",
     "output_type": "stream",
     "text": [
      "Submitting jobs:  71%|███████▏  | 1273/1785 [36:54<12:23,  1.45s/it]"
     ]
    },
    {
     "name": "stdout",
     "output_type": "stream",
     "text": [
      "Submitted batch job 4208159\n",
      "Submitted batch job 4208160\n",
      "Submitted batch job 4208161\n",
      "Submitted batch job 4208162\n"
     ]
    },
    {
     "name": "stderr",
     "output_type": "stream",
     "text": [
      "Submitting jobs:  72%|███████▏  | 1277/1785 [36:54<06:18,  1.34it/s]"
     ]
    },
    {
     "name": "stdout",
     "output_type": "stream",
     "text": [
      "Submitted batch job 4208163\n",
      "Submitted batch job 4208164\n",
      "Submitted batch job 4208165\n"
     ]
    },
    {
     "name": "stderr",
     "output_type": "stream",
     "text": [
      "Submitting jobs:  72%|███████▏  | 1279/1785 [37:04<17:17,  2.05s/it]"
     ]
    },
    {
     "name": "stdout",
     "output_type": "stream",
     "text": [
      "Submitted batch job 4208166\n",
      "Submitted batch job 4208167\n",
      "Submitted batch job 4208168\n"
     ]
    },
    {
     "name": "stderr",
     "output_type": "stream",
     "text": [
      "Submitting jobs:  72%|███████▏  | 1281/1785 [37:04<12:12,  1.45s/it]"
     ]
    },
    {
     "name": "stdout",
     "output_type": "stream",
     "text": [
      "Submitted batch job 4208169\n"
     ]
    },
    {
     "name": "stderr",
     "output_type": "stream",
     "text": [
      "Submitting jobs:  72%|███████▏  | 1283/1785 [37:14<21:19,  2.55s/it]"
     ]
    },
    {
     "name": "stdout",
     "output_type": "stream",
     "text": [
      "Submitted batch job 4208170\n",
      "Submitted batch job 4208171\n",
      "Submitted batch job 4208172\n"
     ]
    },
    {
     "name": "stderr",
     "output_type": "stream",
     "text": [
      "Submitting jobs:  72%|███████▏  | 1285/1785 [37:14<15:02,  1.80s/it]"
     ]
    },
    {
     "name": "stdout",
     "output_type": "stream",
     "text": [
      "Submitted batch job 4208173\n",
      "Submitted batch job 4208174\n"
     ]
    },
    {
     "name": "stderr",
     "output_type": "stream",
     "text": [
      "Submitting jobs:  72%|███████▏  | 1289/1785 [37:25<16:19,  1.97s/it]"
     ]
    },
    {
     "name": "stdout",
     "output_type": "stream",
     "text": [
      "Submitted batch job 4208175\n",
      "Submitted batch job 4208176\n",
      "Submitted batch job 4208177\n",
      "Submitted batch job 4208178\n"
     ]
    },
    {
     "name": "stderr",
     "output_type": "stream",
     "text": [
      "Submitting jobs:  72%|███████▏  | 1293/1785 [37:35<16:55,  2.06s/it]"
     ]
    },
    {
     "name": "stdout",
     "output_type": "stream",
     "text": [
      "Submitted batch job 4208179\n",
      "Submitted batch job 4208180\n",
      "Submitted batch job 4208181\n"
     ]
    },
    {
     "name": "stderr",
     "output_type": "stream",
     "text": [
      "Submitting jobs:  73%|███████▎  | 1295/1785 [37:35<12:00,  1.47s/it]"
     ]
    },
    {
     "name": "stdout",
     "output_type": "stream",
     "text": [
      "Submitted batch job 4208182\n",
      "Submitted batch job 4208183\n",
      "Submitted batch job 4208184\n"
     ]
    },
    {
     "name": "stderr",
     "output_type": "stream",
     "text": [
      "Submitting jobs:  73%|███████▎  | 1297/1785 [37:36<08:34,  1.06s/it]"
     ]
    },
    {
     "name": "stdout",
     "output_type": "stream",
     "text": [
      "Submitted batch job 4208185\n"
     ]
    },
    {
     "name": "stderr",
     "output_type": "stream",
     "text": [
      "Submitting jobs:  73%|███████▎  | 1299/1785 [37:46<18:20,  2.26s/it]"
     ]
    },
    {
     "name": "stdout",
     "output_type": "stream",
     "text": [
      "Submitted batch job 4208186\n",
      "Submitted batch job 4208187\n",
      "Submitted batch job 4208188\n"
     ]
    },
    {
     "name": "stderr",
     "output_type": "stream",
     "text": [
      "Submitting jobs:  73%|███████▎  | 1301/1785 [37:46<12:57,  1.61s/it]"
     ]
    },
    {
     "name": "stdout",
     "output_type": "stream",
     "text": [
      "Submitted batch job 4208189\n",
      "Submitted batch job 4208190\n"
     ]
    },
    {
     "name": "stderr",
     "output_type": "stream",
     "text": [
      "Submitting jobs:  73%|███████▎  | 1305/1785 [37:56<15:02,  1.88s/it]"
     ]
    },
    {
     "name": "stdout",
     "output_type": "stream",
     "text": [
      "Submitted batch job 4208191\n",
      "Submitted batch job 4208192\n",
      "Submitted batch job 4208193\n"
     ]
    },
    {
     "name": "stderr",
     "output_type": "stream",
     "text": [
      "Submitting jobs:  73%|███████▎  | 1307/1785 [37:56<10:40,  1.34s/it]"
     ]
    },
    {
     "name": "stdout",
     "output_type": "stream",
     "text": [
      "Submitted batch job 4208194\n",
      "Submitted batch job 4208195\n",
      "Submitted batch job 4208196\n"
     ]
    },
    {
     "name": "stderr",
     "output_type": "stream",
     "text": [
      "Submitting jobs:  73%|███████▎  | 1309/1785 [37:56<07:37,  1.04it/s]"
     ]
    },
    {
     "name": "stdout",
     "output_type": "stream",
     "text": [
      "Submitted batch job 4208197\n",
      "Submitted batch job 4208198\n"
     ]
    },
    {
     "name": "stderr",
     "output_type": "stream",
     "text": [
      "Submitting jobs:  74%|███████▎  | 1313/1785 [38:07<12:19,  1.57s/it]"
     ]
    },
    {
     "name": "stdout",
     "output_type": "stream",
     "text": [
      "Submitted batch job 4208199\n",
      "Submitted batch job 4208200\n",
      "Submitted batch job 4208201\n"
     ]
    },
    {
     "name": "stderr",
     "output_type": "stream",
     "text": [
      "Submitting jobs:  74%|███████▎  | 1315/1785 [38:07<08:45,  1.12s/it]"
     ]
    },
    {
     "name": "stdout",
     "output_type": "stream",
     "text": [
      "Submitted batch job 4208202\n",
      "Submitted batch job 4208203\n",
      "Submitted batch job 4208204\n"
     ]
    },
    {
     "name": "stderr",
     "output_type": "stream",
     "text": [
      "Submitting jobs:  74%|███████▍  | 1317/1785 [38:07<06:16,  1.24it/s]"
     ]
    },
    {
     "name": "stdout",
     "output_type": "stream",
     "text": [
      "Submitted batch job 4208205\n"
     ]
    },
    {
     "name": "stderr",
     "output_type": "stream",
     "text": [
      "Submitting jobs:  74%|███████▍  | 1319/1785 [38:17<16:13,  2.09s/it]"
     ]
    },
    {
     "name": "stdout",
     "output_type": "stream",
     "text": [
      "Submitted batch job 4208206\n",
      "Submitted batch job 4208207\n",
      "Submitted batch job 4208208\n"
     ]
    },
    {
     "name": "stderr",
     "output_type": "stream",
     "text": [
      "Submitting jobs:  74%|███████▍  | 1321/1785 [38:17<11:29,  1.49s/it]"
     ]
    },
    {
     "name": "stdout",
     "output_type": "stream",
     "text": [
      "Submitted batch job 4208209\n",
      "Submitted batch job 4208210\n"
     ]
    },
    {
     "name": "stderr",
     "output_type": "stream",
     "text": [
      "Submitting jobs:  74%|███████▍  | 1325/1785 [38:28<13:57,  1.82s/it]"
     ]
    },
    {
     "name": "stdout",
     "output_type": "stream",
     "text": [
      "Submitted batch job 4208211\n",
      "Submitted batch job 4208212\n",
      "Submitted batch job 4208213\n"
     ]
    },
    {
     "name": "stderr",
     "output_type": "stream",
     "text": [
      "Submitting jobs:  74%|███████▍  | 1327/1785 [38:28<09:53,  1.30s/it]"
     ]
    },
    {
     "name": "stdout",
     "output_type": "stream",
     "text": [
      "Submitted batch job 4208214\n",
      "Submitted batch job 4208215\n",
      "Submitted batch job 4208216\n"
     ]
    },
    {
     "name": "stderr",
     "output_type": "stream",
     "text": [
      "Submitting jobs:  74%|███████▍  | 1329/1785 [38:28<07:02,  1.08it/s]"
     ]
    },
    {
     "name": "stdout",
     "output_type": "stream",
     "text": [
      "Submitted batch job 4208217\n",
      "Submitted batch job 4208218\n"
     ]
    },
    {
     "name": "stderr",
     "output_type": "stream",
     "text": [
      "Submitting jobs:  75%|███████▍  | 1333/1785 [38:38<11:41,  1.55s/it]"
     ]
    },
    {
     "name": "stdout",
     "output_type": "stream",
     "text": [
      "Submitted batch job 4208219\n",
      "Submitted batch job 4208220\n",
      "Submitted batch job 4208221\n"
     ]
    },
    {
     "name": "stderr",
     "output_type": "stream",
     "text": [
      "Submitting jobs:  75%|███████▍  | 1335/1785 [38:39<08:19,  1.11s/it]"
     ]
    },
    {
     "name": "stdout",
     "output_type": "stream",
     "text": [
      "Submitted batch job 4208222\n",
      "Submitted batch job 4208223\n",
      "Submitted batch job 4208224\n"
     ]
    },
    {
     "name": "stderr",
     "output_type": "stream",
     "text": [
      "Submitting jobs:  75%|███████▍  | 1337/1785 [38:39<05:56,  1.26it/s]"
     ]
    },
    {
     "name": "stdout",
     "output_type": "stream",
     "text": [
      "Submitted batch job 4208225\n"
     ]
    },
    {
     "name": "stderr",
     "output_type": "stream",
     "text": [
      "Submitting jobs:  75%|███████▌  | 1339/1785 [38:49<15:30,  2.09s/it]"
     ]
    },
    {
     "name": "stdout",
     "output_type": "stream",
     "text": [
      "Submitted batch job 4208226\n",
      "Submitted batch job 4208227\n"
     ]
    },
    {
     "name": "stderr",
     "output_type": "stream",
     "text": [
      "Submitting jobs:  75%|███████▌  | 1342/1785 [38:59<17:21,  2.35s/it]"
     ]
    },
    {
     "name": "stdout",
     "output_type": "stream",
     "text": [
      "Submitted batch job 4208228\n",
      "Submitted batch job 4208229\n",
      "Submitted batch job 4208230\n"
     ]
    },
    {
     "name": "stderr",
     "output_type": "stream",
     "text": [
      "Submitting jobs:  75%|███████▌  | 1344/1785 [38:59<11:50,  1.61s/it]"
     ]
    },
    {
     "name": "stdout",
     "output_type": "stream",
     "text": [
      "Submitted batch job 4208231\n",
      "Submitted batch job 4208232\n"
     ]
    },
    {
     "name": "stderr",
     "output_type": "stream",
     "text": [
      "Submitting jobs:  75%|███████▌  | 1346/1785 [39:10<19:50,  2.71s/it]"
     ]
    },
    {
     "name": "stdout",
     "output_type": "stream",
     "text": [
      "Submitted batch job 4208233\n",
      "Submitted batch job 4208234\n",
      "Submitted batch job 4208235\n"
     ]
    },
    {
     "name": "stderr",
     "output_type": "stream",
     "text": [
      "Submitting jobs:  76%|███████▌  | 1350/1785 [39:10<09:38,  1.33s/it]"
     ]
    },
    {
     "name": "stdout",
     "output_type": "stream",
     "text": [
      "Submitted batch job 4208236\n",
      "Submitted batch job 4208237\n",
      "Submitted batch job 4208238\n"
     ]
    },
    {
     "name": "stderr",
     "output_type": "stream",
     "text": [
      "Submitting jobs:  76%|███████▌  | 1352/1785 [39:20<17:52,  2.48s/it]"
     ]
    },
    {
     "name": "stdout",
     "output_type": "stream",
     "text": [
      "Submitted batch job 4208239\n",
      "Submitted batch job 4208240\n",
      "Submitted batch job 4208241\n"
     ]
    },
    {
     "name": "stderr",
     "output_type": "stream",
     "text": [
      "Submitting jobs:  76%|███████▌  | 1356/1785 [39:20<08:52,  1.24s/it]"
     ]
    },
    {
     "name": "stdout",
     "output_type": "stream",
     "text": [
      "Submitted batch job 4208242\n",
      "Submitted batch job 4208243\n",
      "Submitted batch job 4208244\n"
     ]
    },
    {
     "name": "stderr",
     "output_type": "stream",
     "text": [
      "Submitting jobs:  76%|███████▌  | 1358/1785 [39:20<06:19,  1.13it/s]"
     ]
    },
    {
     "name": "stdout",
     "output_type": "stream",
     "text": [
      "Submitted batch job 4208245\n",
      "Submitted batch job 4208246\n",
      "Submitted batch job 4208247\n"
     ]
    },
    {
     "name": "stderr",
     "output_type": "stream",
     "text": [
      "Submitting jobs:  76%|███████▌  | 1360/1785 [39:21<04:33,  1.56it/s]"
     ]
    },
    {
     "name": "stdout",
     "output_type": "stream",
     "text": [
      "Submitted batch job 4208248\n"
     ]
    },
    {
     "name": "stderr",
     "output_type": "stream",
     "text": [
      "Submitting jobs:  76%|███████▋  | 1362/1785 [39:31<13:57,  1.98s/it]"
     ]
    },
    {
     "name": "stdout",
     "output_type": "stream",
     "text": [
      "Submitted batch job 4208249\n",
      "Submitted batch job 4208250\n",
      "Submitted batch job 4208251\n"
     ]
    },
    {
     "name": "stderr",
     "output_type": "stream",
     "text": [
      "Submitting jobs:  77%|███████▋  | 1366/1785 [39:31<07:00,  1.00s/it]"
     ]
    },
    {
     "name": "stdout",
     "output_type": "stream",
     "text": [
      "Submitted batch job 4208252\n",
      "Submitted batch job 4208253\n",
      "Submitted batch job 4208254\n"
     ]
    },
    {
     "name": "stderr",
     "output_type": "stream",
     "text": [
      "Submitting jobs:  77%|███████▋  | 1368/1785 [39:31<05:01,  1.38it/s]"
     ]
    },
    {
     "name": "stdout",
     "output_type": "stream",
     "text": [
      "Submitted batch job 4208255\n",
      "Submitted batch job 4208256\n"
     ]
    },
    {
     "name": "stderr",
     "output_type": "stream",
     "text": [
      "Submitting jobs:  77%|███████▋  | 1370/1785 [39:41<14:06,  2.04s/it]"
     ]
    },
    {
     "name": "stdout",
     "output_type": "stream",
     "text": [
      "Submitted batch job 4208257\n",
      "Submitted batch job 4208258\n",
      "Submitted batch job 4208259\n"
     ]
    },
    {
     "name": "stderr",
     "output_type": "stream",
     "text": [
      "Submitting jobs:  77%|███████▋  | 1374/1785 [39:42<07:05,  1.04s/it]"
     ]
    },
    {
     "name": "stdout",
     "output_type": "stream",
     "text": [
      "Submitted batch job 4208260\n",
      "Submitted batch job 4208261\n",
      "Submitted batch job 4208262\n"
     ]
    },
    {
     "name": "stderr",
     "output_type": "stream",
     "text": [
      "Submitting jobs:  77%|███████▋  | 1376/1785 [39:52<15:21,  2.25s/it]"
     ]
    },
    {
     "name": "stdout",
     "output_type": "stream",
     "text": [
      "Submitted batch job 4208263\n",
      "Submitted batch job 4208264\n",
      "Submitted batch job 4208265\n"
     ]
    },
    {
     "name": "stderr",
     "output_type": "stream",
     "text": [
      "Submitting jobs:  77%|███████▋  | 1378/1785 [39:52<10:50,  1.60s/it]"
     ]
    },
    {
     "name": "stdout",
     "output_type": "stream",
     "text": [
      "Submitted batch job 4208266\n"
     ]
    },
    {
     "name": "stderr",
     "output_type": "stream",
     "text": [
      "Submitting jobs:  77%|███████▋  | 1380/1785 [40:02<17:51,  2.65s/it]"
     ]
    },
    {
     "name": "stdout",
     "output_type": "stream",
     "text": [
      "Submitted batch job 4208267\n",
      "Submitted batch job 4208268\n",
      "Submitted batch job 4208269\n"
     ]
    },
    {
     "name": "stderr",
     "output_type": "stream",
     "text": [
      "Submitting jobs:  77%|███████▋  | 1382/1785 [40:02<12:35,  1.88s/it]"
     ]
    },
    {
     "name": "stdout",
     "output_type": "stream",
     "text": [
      "Submitted batch job 4208270\n",
      "Submitted batch job 4208271\n"
     ]
    },
    {
     "name": "stderr",
     "output_type": "stream",
     "text": [
      "Submitting jobs:  78%|███████▊  | 1386/1785 [40:13<13:20,  2.01s/it]"
     ]
    },
    {
     "name": "stdout",
     "output_type": "stream",
     "text": [
      "Submitted batch job 4208272\n",
      "Submitted batch job 4208273\n",
      "Submitted batch job 4208274\n",
      "Submitted batch job 4208275\n"
     ]
    },
    {
     "name": "stderr",
     "output_type": "stream",
     "text": [
      "Submitting jobs:  78%|███████▊  | 1390/1785 [40:13<06:45,  1.03s/it]"
     ]
    },
    {
     "name": "stdout",
     "output_type": "stream",
     "text": [
      "Submitted batch job 4208276\n",
      "Submitted batch job 4208277\n",
      "Submitted batch job 4208278\n"
     ]
    },
    {
     "name": "stderr",
     "output_type": "stream",
     "text": [
      "Submitting jobs:  78%|███████▊  | 1392/1785 [40:23<14:46,  2.25s/it]"
     ]
    },
    {
     "name": "stdout",
     "output_type": "stream",
     "text": [
      "Submitted batch job 4208280\n",
      "Submitted batch job 4208281\n",
      "Submitted batch job 4208282\n"
     ]
    },
    {
     "name": "stderr",
     "output_type": "stream",
     "text": [
      "Submitting jobs:  78%|███████▊  | 1396/1785 [40:24<07:26,  1.15s/it]"
     ]
    },
    {
     "name": "stdout",
     "output_type": "stream",
     "text": [
      "Submitted batch job 4208283\n",
      "Submitted batch job 4208284\n",
      "Submitted batch job 4208285\n"
     ]
    },
    {
     "name": "stderr",
     "output_type": "stream",
     "text": [
      "Submitting jobs:  78%|███████▊  | 1398/1785 [40:24<05:20,  1.21it/s]"
     ]
    },
    {
     "name": "stdout",
     "output_type": "stream",
     "text": [
      "Submitted batch job 4208286\n",
      "Submitted batch job 4208287\n",
      "Submitted batch job 4208288\n"
     ]
    },
    {
     "name": "stderr",
     "output_type": "stream",
     "text": [
      "Submitting jobs:  79%|███████▊  | 1402/1785 [40:34<09:33,  1.50s/it]"
     ]
    },
    {
     "name": "stdout",
     "output_type": "stream",
     "text": [
      "Submitted batch job 4208289\n",
      "Submitted batch job 4208290\n",
      "Submitted batch job 4208291\n"
     ]
    },
    {
     "name": "stderr",
     "output_type": "stream",
     "text": [
      "Submitting jobs:  79%|███████▊  | 1404/1785 [40:34<06:47,  1.07s/it]"
     ]
    },
    {
     "name": "stdout",
     "output_type": "stream",
     "text": [
      "Submitted batch job 4208292\n",
      "Submitted batch job 4208293\n"
     ]
    },
    {
     "name": "stderr",
     "output_type": "stream",
     "text": [
      "Submitting jobs:  79%|███████▉  | 1406/1785 [40:44<14:23,  2.28s/it]"
     ]
    },
    {
     "name": "stdout",
     "output_type": "stream",
     "text": [
      "Submitted batch job 4208294\n",
      "Submitted batch job 4208295\n",
      "Submitted batch job 4208296\n"
     ]
    },
    {
     "name": "stderr",
     "output_type": "stream",
     "text": [
      "Submitting jobs:  79%|███████▉  | 1410/1785 [40:45<07:12,  1.15s/it]"
     ]
    },
    {
     "name": "stdout",
     "output_type": "stream",
     "text": [
      "Submitted batch job 4208297\n",
      "Submitted batch job 4208298\n",
      "Submitted batch job 4208299\n"
     ]
    },
    {
     "name": "stderr",
     "output_type": "stream",
     "text": [
      "Submitting jobs:  79%|███████▉  | 1412/1785 [40:55<14:31,  2.34s/it]"
     ]
    },
    {
     "name": "stdout",
     "output_type": "stream",
     "text": [
      "Submitted batch job 4208300\n",
      "Submitted batch job 4208301\n",
      "Submitted batch job 4208302\n"
     ]
    },
    {
     "name": "stderr",
     "output_type": "stream",
     "text": [
      "Submitting jobs:  79%|███████▉  | 1414/1785 [40:55<10:14,  1.66s/it]"
     ]
    },
    {
     "name": "stdout",
     "output_type": "stream",
     "text": [
      "Submitted batch job 4208303\n",
      "Submitted batch job 4208304\n"
     ]
    },
    {
     "name": "stderr",
     "output_type": "stream",
     "text": [
      "Submitting jobs:  79%|███████▉  | 1418/1785 [41:05<11:38,  1.90s/it]"
     ]
    },
    {
     "name": "stdout",
     "output_type": "stream",
     "text": [
      "Submitted batch job 4208305\n",
      "Submitted batch job 4208306\n",
      "Submitted batch job 4208307\n"
     ]
    },
    {
     "name": "stderr",
     "output_type": "stream",
     "text": [
      "Submitting jobs:  80%|███████▉  | 1420/1785 [41:16<18:08,  2.98s/it]"
     ]
    },
    {
     "name": "stdout",
     "output_type": "stream",
     "text": [
      "Submitted batch job 4208308\n",
      "Submitted batch job 4208309\n",
      "Submitted batch job 4208310\n"
     ]
    },
    {
     "name": "stderr",
     "output_type": "stream",
     "text": [
      "Submitting jobs:  80%|███████▉  | 1424/1785 [41:17<09:00,  1.50s/it]"
     ]
    },
    {
     "name": "stdout",
     "output_type": "stream",
     "text": [
      "Submitted batch job 4208311\n",
      "Submitted batch job 4208312\n",
      "Submitted batch job 4208313\n"
     ]
    },
    {
     "name": "stderr",
     "output_type": "stream",
     "text": [
      "Submitting jobs:  80%|███████▉  | 1426/1785 [41:27<15:25,  2.58s/it]"
     ]
    },
    {
     "name": "stdout",
     "output_type": "stream",
     "text": [
      "Submitted batch job 4208314\n",
      "Submitted batch job 4208315\n",
      "Submitted batch job 4208316\n"
     ]
    },
    {
     "name": "stderr",
     "output_type": "stream",
     "text": [
      "Submitting jobs:  80%|████████  | 1428/1785 [41:27<10:53,  1.83s/it]"
     ]
    },
    {
     "name": "stdout",
     "output_type": "stream",
     "text": [
      "Submitted batch job 4208317\n",
      "Submitted batch job 4208318\n"
     ]
    },
    {
     "name": "stderr",
     "output_type": "stream",
     "text": [
      "Submitting jobs:  80%|████████  | 1430/1785 [41:37<16:37,  2.81s/it]"
     ]
    },
    {
     "name": "stdout",
     "output_type": "stream",
     "text": [
      "Submitted batch job 4208319\n",
      "Submitted batch job 4208320\n"
     ]
    },
    {
     "name": "stderr",
     "output_type": "stream",
     "text": [
      "Submitting jobs:  80%|████████  | 1434/1785 [41:38<08:19,  1.42s/it]"
     ]
    },
    {
     "name": "stdout",
     "output_type": "stream",
     "text": [
      "Submitted batch job 4208321\n",
      "Submitted batch job 4208322\n",
      "Submitted batch job 4208323\n"
     ]
    },
    {
     "name": "stderr",
     "output_type": "stream",
     "text": [
      "Submitting jobs:  80%|████████  | 1436/1785 [41:38<05:56,  1.02s/it]"
     ]
    },
    {
     "name": "stdout",
     "output_type": "stream",
     "text": [
      "Submitted batch job 4208324\n",
      "Submitted batch job 4208325\n"
     ]
    },
    {
     "name": "stderr",
     "output_type": "stream",
     "text": [
      "Submitting jobs:  81%|████████  | 1438/1785 [41:48<13:12,  2.29s/it]"
     ]
    },
    {
     "name": "stdout",
     "output_type": "stream",
     "text": [
      "Submitted batch job 4208326\n",
      "Submitted batch job 4208327\n",
      "Submitted batch job 4208328\n"
     ]
    },
    {
     "name": "stderr",
     "output_type": "stream",
     "text": [
      "Submitting jobs:  81%|████████  | 1442/1785 [41:48<06:36,  1.16s/it]"
     ]
    },
    {
     "name": "stdout",
     "output_type": "stream",
     "text": [
      "Submitted batch job 4208329\n",
      "Submitted batch job 4208330\n",
      "Submitted batch job 4208331\n",
      "Submitted batch job 4208332\n"
     ]
    },
    {
     "name": "stderr",
     "output_type": "stream",
     "text": [
      "Submitting jobs:  81%|████████  | 1446/1785 [41:49<03:36,  1.56it/s]"
     ]
    },
    {
     "name": "stdout",
     "output_type": "stream",
     "text": [
      "Submitted batch job 4208333\n",
      "Submitted batch job 4208334\n",
      "Submitted batch job 4208335\n"
     ]
    },
    {
     "name": "stderr",
     "output_type": "stream",
     "text": [
      "Submitting jobs:  81%|████████  | 1448/1785 [41:49<02:39,  2.11it/s]"
     ]
    },
    {
     "name": "stdout",
     "output_type": "stream",
     "text": [
      "Submitted batch job 4208336\n",
      "Submitted batch job 4208337\n",
      "Submitted batch job 4208338\n"
     ]
    },
    {
     "name": "stderr",
     "output_type": "stream",
     "text": [
      "Submitting jobs:  81%|████████  | 1450/1785 [41:49<01:59,  2.81it/s]"
     ]
    },
    {
     "name": "stdout",
     "output_type": "stream",
     "text": [
      "Submitted batch job 4208339\n"
     ]
    },
    {
     "name": "stderr",
     "output_type": "stream",
     "text": [
      "Submitting jobs:  81%|████████▏ | 1452/1785 [42:00<09:51,  1.78s/it]"
     ]
    },
    {
     "name": "stdout",
     "output_type": "stream",
     "text": [
      "Submitted batch job 4208340\n",
      "Submitted batch job 4208341\n",
      "Submitted batch job 4208342\n"
     ]
    },
    {
     "name": "stderr",
     "output_type": "stream",
     "text": [
      "Submitting jobs:  81%|████████▏ | 1454/1785 [42:00<06:59,  1.27s/it]"
     ]
    },
    {
     "name": "stdout",
     "output_type": "stream",
     "text": [
      "Submitted batch job 4208343\n",
      "Submitted batch job 4208344\n"
     ]
    },
    {
     "name": "stderr",
     "output_type": "stream",
     "text": [
      "Submitting jobs:  82%|████████▏ | 1458/1785 [42:10<09:20,  1.71s/it]"
     ]
    },
    {
     "name": "stdout",
     "output_type": "stream",
     "text": [
      "Submitted batch job 4208345\n",
      "Submitted batch job 4208346\n",
      "Submitted batch job 4208347\n",
      "Submitted batch job 4208348\n"
     ]
    },
    {
     "name": "stderr",
     "output_type": "stream",
     "text": [
      "Submitting jobs:  82%|████████▏ | 1460/1785 [42:20<14:45,  2.73s/it]"
     ]
    },
    {
     "name": "stdout",
     "output_type": "stream",
     "text": [
      "Submitted batch job 4208349\n",
      "Submitted batch job 4208350\n"
     ]
    },
    {
     "name": "stderr",
     "output_type": "stream",
     "text": [
      "Submitting jobs:  82%|████████▏ | 1464/1785 [42:21<07:32,  1.41s/it]"
     ]
    },
    {
     "name": "stdout",
     "output_type": "stream",
     "text": [
      "Submitted batch job 4208351\n",
      "Submitted batch job 4208352\n",
      "Submitted batch job 4208353\n"
     ]
    },
    {
     "name": "stderr",
     "output_type": "stream",
     "text": [
      "Submitting jobs:  82%|████████▏ | 1466/1785 [42:31<13:22,  2.52s/it]"
     ]
    },
    {
     "name": "stdout",
     "output_type": "stream",
     "text": [
      "Submitted batch job 4208354\n",
      "Submitted batch job 4208355\n",
      "Submitted batch job 4208356\n"
     ]
    },
    {
     "name": "stderr",
     "output_type": "stream",
     "text": [
      "Submitting jobs:  82%|████████▏ | 1470/1785 [42:31<06:41,  1.27s/it]"
     ]
    },
    {
     "name": "stdout",
     "output_type": "stream",
     "text": [
      "Submitted batch job 4208357\n",
      "Submitted batch job 4208358\n",
      "Submitted batch job 4208359\n"
     ]
    },
    {
     "name": "stderr",
     "output_type": "stream",
     "text": [
      "Submitting jobs:  82%|████████▏ | 1472/1785 [42:32<04:46,  1.09it/s]"
     ]
    },
    {
     "name": "stdout",
     "output_type": "stream",
     "text": [
      "Submitted batch job 4208360\n",
      "Submitted batch job 4208361\n",
      "Submitted batch job 4208362\n"
     ]
    },
    {
     "name": "stderr",
     "output_type": "stream",
     "text": [
      "Submitting jobs:  83%|████████▎ | 1475/1785 [42:32<03:05,  1.67it/s]"
     ]
    },
    {
     "name": "stdout",
     "output_type": "stream",
     "text": [
      "Submitted batch job 4208363\n",
      "Submitted batch job 4208364\n"
     ]
    },
    {
     "name": "stderr",
     "output_type": "stream",
     "text": [
      "Submitting jobs:  83%|████████▎ | 1476/1785 [42:32<02:35,  1.98it/s]"
     ]
    },
    {
     "name": "stdout",
     "output_type": "stream",
     "text": [
      "Submitted batch job 4208365\n"
     ]
    },
    {
     "name": "stderr",
     "output_type": "stream",
     "text": [
      "Submitting jobs:  83%|████████▎ | 1479/1785 [42:43<08:26,  1.65s/it]"
     ]
    },
    {
     "name": "stdout",
     "output_type": "stream",
     "text": [
      "Submitted batch job 4208366\n",
      "Submitted batch job 4208367\n",
      "Submitted batch job 4208368\n"
     ]
    },
    {
     "name": "stderr",
     "output_type": "stream",
     "text": [
      "Submitting jobs:  83%|████████▎ | 1481/1785 [42:43<05:31,  1.09s/it]"
     ]
    },
    {
     "name": "stdout",
     "output_type": "stream",
     "text": [
      "Submitted batch job 4208369\n",
      "Submitted batch job 4208370\n",
      "Submitted batch job 4208371\n"
     ]
    },
    {
     "name": "stderr",
     "output_type": "stream",
     "text": [
      "Submitting jobs:  83%|████████▎ | 1485/1785 [42:53<08:23,  1.68s/it]"
     ]
    },
    {
     "name": "stdout",
     "output_type": "stream",
     "text": [
      "Submitted batch job 4208372\n",
      "Submitted batch job 4208373\n",
      "Submitted batch job 4208374\n",
      "Submitted batch job 4208375\n"
     ]
    },
    {
     "name": "stderr",
     "output_type": "stream",
     "text": [
      "Submitting jobs:  83%|████████▎ | 1487/1785 [42:54<06:06,  1.23s/it]"
     ]
    },
    {
     "name": "stdout",
     "output_type": "stream",
     "text": [
      "Submitted batch job 4208376\n"
     ]
    },
    {
     "name": "stderr",
     "output_type": "stream",
     "text": [
      "Submitting jobs:  83%|████████▎ | 1490/1785 [43:04<09:20,  1.90s/it]"
     ]
    },
    {
     "name": "stdout",
     "output_type": "stream",
     "text": [
      "Submitted batch job 4208377\n",
      "Submitted batch job 4208378\n",
      "Submitted batch job 4208379\n"
     ]
    },
    {
     "name": "stderr",
     "output_type": "stream",
     "text": [
      "Submitting jobs:  84%|████████▎ | 1492/1785 [43:04<06:19,  1.29s/it]"
     ]
    },
    {
     "name": "stdout",
     "output_type": "stream",
     "text": [
      "Submitted batch job 4208380\n",
      "Submitted batch job 4208381\n",
      "Submitted batch job 4208382\n"
     ]
    },
    {
     "name": "stderr",
     "output_type": "stream",
     "text": [
      "Submitting jobs:  84%|████████▍ | 1496/1785 [43:14<08:25,  1.75s/it]"
     ]
    },
    {
     "name": "stdout",
     "output_type": "stream",
     "text": [
      "Submitted batch job 4208383\n",
      "Submitted batch job 4208384\n",
      "Submitted batch job 4208385\n"
     ]
    },
    {
     "name": "stderr",
     "output_type": "stream",
     "text": [
      "Submitting jobs:  84%|████████▍ | 1498/1785 [43:25<13:18,  2.78s/it]"
     ]
    },
    {
     "name": "stdout",
     "output_type": "stream",
     "text": [
      "Submitted batch job 4208386\n",
      "Submitted batch job 4208387\n",
      "Submitted batch job 4208388\n"
     ]
    },
    {
     "name": "stderr",
     "output_type": "stream",
     "text": [
      "Submitting jobs:  84%|████████▍ | 1502/1785 [43:26<06:59,  1.48s/it]"
     ]
    },
    {
     "name": "stdout",
     "output_type": "stream",
     "text": [
      "Submitted batch job 4208389\n",
      "Submitted batch job 4208390\n",
      "Submitted batch job 4208391\n"
     ]
    },
    {
     "name": "stderr",
     "output_type": "stream",
     "text": [
      "Submitting jobs:  84%|████████▍ | 1504/1785 [43:36<12:03,  2.58s/it]"
     ]
    },
    {
     "name": "stdout",
     "output_type": "stream",
     "text": [
      "Submitted batch job 4208392\n",
      "Submitted batch job 4208393\n",
      "Submitted batch job 4208394\n"
     ]
    },
    {
     "name": "stderr",
     "output_type": "stream",
     "text": [
      "Submitting jobs:  84%|████████▍ | 1508/1785 [43:36<05:57,  1.29s/it]"
     ]
    },
    {
     "name": "stdout",
     "output_type": "stream",
     "text": [
      "Submitted batch job 4208395\n",
      "Submitted batch job 4208396\n",
      "Submitted batch job 4208397\n"
     ]
    },
    {
     "name": "stderr",
     "output_type": "stream",
     "text": [
      "Submitting jobs:  85%|████████▍ | 1510/1785 [43:46<11:09,  2.43s/it]"
     ]
    },
    {
     "name": "stdout",
     "output_type": "stream",
     "text": [
      "Submitted batch job 4208398\n",
      "Submitted batch job 4208399\n",
      "Submitted batch job 4208400\n"
     ]
    },
    {
     "name": "stderr",
     "output_type": "stream",
     "text": [
      "Submitting jobs:  85%|████████▍ | 1514/1785 [43:47<05:33,  1.23s/it]"
     ]
    },
    {
     "name": "stdout",
     "output_type": "stream",
     "text": [
      "Submitted batch job 4208401\n",
      "Submitted batch job 4208402\n",
      "Submitted batch job 4208403\n",
      "Submitted batch job 4208404\n"
     ]
    },
    {
     "name": "stderr",
     "output_type": "stream",
     "text": [
      "Submitting jobs:  85%|████████▌ | 1518/1785 [43:58<07:48,  1.75s/it]"
     ]
    },
    {
     "name": "stdout",
     "output_type": "stream",
     "text": [
      "Submitted batch job 4208405\n",
      "Submitted batch job 4208406\n",
      "Submitted batch job 4208407\n"
     ]
    },
    {
     "name": "stderr",
     "output_type": "stream",
     "text": [
      "Submitting jobs:  85%|████████▌ | 1520/1785 [43:58<05:31,  1.25s/it]"
     ]
    },
    {
     "name": "stdout",
     "output_type": "stream",
     "text": [
      "Submitted batch job 4208408\n",
      "Submitted batch job 4208409\n",
      "Submitted batch job 4208410\n"
     ]
    },
    {
     "name": "stderr",
     "output_type": "stream",
     "text": [
      "Submitting jobs:  85%|████████▌ | 1522/1785 [43:58<03:55,  1.12it/s]"
     ]
    },
    {
     "name": "stdout",
     "output_type": "stream",
     "text": [
      "Submitted batch job 4208411\n",
      "Submitted batch job 4208412\n"
     ]
    },
    {
     "name": "stderr",
     "output_type": "stream",
     "text": [
      "Submitting jobs:  85%|████████▌ | 1526/1785 [44:09<06:44,  1.56s/it]"
     ]
    },
    {
     "name": "stdout",
     "output_type": "stream",
     "text": [
      "Submitted batch job 4208413\n",
      "Submitted batch job 4208414\n",
      "Submitted batch job 4208415\n"
     ]
    },
    {
     "name": "stderr",
     "output_type": "stream",
     "text": [
      "Submitting jobs:  86%|████████▌ | 1530/1785 [44:09<03:23,  1.25it/s]"
     ]
    },
    {
     "name": "stdout",
     "output_type": "stream",
     "text": [
      "Submitted batch job 4208416\n",
      "Submitted batch job 4208417\n",
      "Submitted batch job 4208418\n",
      "Submitted batch job 4208419\n"
     ]
    },
    {
     "name": "stderr",
     "output_type": "stream",
     "text": [
      "Submitting jobs:  86%|████████▌ | 1532/1785 [44:09<02:34,  1.64it/s]"
     ]
    },
    {
     "name": "stdout",
     "output_type": "stream",
     "text": [
      "Submitted batch job 4208420\n",
      "Submitted batch job 4208421\n"
     ]
    },
    {
     "name": "stderr",
     "output_type": "stream",
     "text": [
      "Submitting jobs:  86%|████████▌ | 1534/1785 [44:19<08:10,  1.95s/it]"
     ]
    },
    {
     "name": "stdout",
     "output_type": "stream",
     "text": [
      "Submitted batch job 4208422\n",
      "Submitted batch job 4208423\n",
      "Submitted batch job 4208424\n"
     ]
    },
    {
     "name": "stderr",
     "output_type": "stream",
     "text": [
      "Submitting jobs:  86%|████████▌ | 1538/1785 [44:20<04:06,  1.00it/s]"
     ]
    },
    {
     "name": "stdout",
     "output_type": "stream",
     "text": [
      "Submitted batch job 4208425\n",
      "Submitted batch job 4208426\n",
      "Submitted batch job 4208427\n"
     ]
    },
    {
     "name": "stderr",
     "output_type": "stream",
     "text": [
      "Submitting jobs:  86%|████████▋ | 1540/1785 [44:20<02:56,  1.39it/s]"
     ]
    },
    {
     "name": "stdout",
     "output_type": "stream",
     "text": [
      "Submitted batch job 4208428\n",
      "Submitted batch job 4208429\n",
      "Submitted batch job 4208430\n"
     ]
    },
    {
     "name": "stderr",
     "output_type": "stream",
     "text": [
      "Submitting jobs:  86%|████████▋ | 1544/1785 [44:20<01:35,  2.53it/s]"
     ]
    },
    {
     "name": "stdout",
     "output_type": "stream",
     "text": [
      "Submitted batch job 4208431\n",
      "Submitted batch job 4208432\n",
      "Submitted batch job 4208433\n",
      "Submitted batch job 4208434\n"
     ]
    },
    {
     "name": "stderr",
     "output_type": "stream",
     "text": [
      "Submitting jobs:  87%|████████▋ | 1548/1785 [44:30<05:03,  1.28s/it]"
     ]
    },
    {
     "name": "stdout",
     "output_type": "stream",
     "text": [
      "Submitted batch job 4208435\n",
      "Submitted batch job 4208436\n",
      "Submitted batch job 4208437\n"
     ]
    },
    {
     "name": "stderr",
     "output_type": "stream",
     "text": [
      "Submitting jobs:  87%|████████▋ | 1550/1785 [44:31<03:35,  1.09it/s]"
     ]
    },
    {
     "name": "stdout",
     "output_type": "stream",
     "text": [
      "Submitted batch job 4208438\n",
      "Submitted batch job 4208439\n",
      "Submitted batch job 4208440\n"
     ]
    },
    {
     "name": "stderr",
     "output_type": "stream",
     "text": [
      "Submitting jobs:  87%|████████▋ | 1554/1785 [44:41<05:55,  1.54s/it]"
     ]
    },
    {
     "name": "stdout",
     "output_type": "stream",
     "text": [
      "Submitted batch job 4208442\n",
      "Submitted batch job 4208443\n",
      "Submitted batch job 4208444\n"
     ]
    },
    {
     "name": "stderr",
     "output_type": "stream",
     "text": [
      "Submitting jobs:  87%|████████▋ | 1556/1785 [44:41<04:12,  1.10s/it]"
     ]
    },
    {
     "name": "stdout",
     "output_type": "stream",
     "text": [
      "Submitted batch job 4208445\n",
      "Submitted batch job 4208446\n",
      "Submitted batch job 4208447\n"
     ]
    },
    {
     "name": "stderr",
     "output_type": "stream",
     "text": [
      "Submitting jobs:  87%|████████▋ | 1558/1785 [44:51<08:42,  2.30s/it]"
     ]
    },
    {
     "name": "stdout",
     "output_type": "stream",
     "text": [
      "Submitted batch job 4208448\n",
      "Submitted batch job 4208449\n"
     ]
    },
    {
     "name": "stderr",
     "output_type": "stream",
     "text": [
      "Submitting jobs:  88%|████████▊ | 1562/1785 [45:12<12:10,  3.28s/it]"
     ]
    },
    {
     "name": "stdout",
     "output_type": "stream",
     "text": [
      "Submitted batch job 4208450\n",
      "Submitted batch job 4208451\n",
      "Submitted batch job 4208452\n"
     ]
    },
    {
     "name": "stderr",
     "output_type": "stream",
     "text": [
      "Submitting jobs:  88%|████████▊ | 1566/1785 [45:12<05:58,  1.64s/it]"
     ]
    },
    {
     "name": "stdout",
     "output_type": "stream",
     "text": [
      "Submitted batch job 4208453\n",
      "Submitted batch job 4208454\n",
      "Submitted batch job 4208455\n",
      "Submitted batch job 4208456\n"
     ]
    },
    {
     "name": "stderr",
     "output_type": "stream",
     "text": [
      "Submitting jobs:  88%|████████▊ | 1568/1785 [45:22<09:40,  2.67s/it]"
     ]
    },
    {
     "name": "stdout",
     "output_type": "stream",
     "text": [
      "Submitted batch job 4208457\n",
      "Submitted batch job 4208458\n"
     ]
    },
    {
     "name": "stderr",
     "output_type": "stream",
     "text": [
      "Submitting jobs:  88%|████████▊ | 1571/1785 [45:33<09:51,  2.76s/it]"
     ]
    },
    {
     "name": "stdout",
     "output_type": "stream",
     "text": [
      "Submitted batch job 4208459\n",
      "Submitted batch job 4208460\n",
      "Submitted batch job 4208461\n"
     ]
    },
    {
     "name": "stderr",
     "output_type": "stream",
     "text": [
      "Submitting jobs:  88%|████████▊ | 1573/1785 [45:33<06:41,  1.89s/it]"
     ]
    },
    {
     "name": "stdout",
     "output_type": "stream",
     "text": [
      "Submitted batch job 4208462\n",
      "Submitted batch job 4208463\n",
      "Submitted batch job 4208464\n"
     ]
    },
    {
     "name": "stderr",
     "output_type": "stream",
     "text": [
      "Submitting jobs:  88%|████████▊ | 1575/1785 [45:33<04:37,  1.32s/it]"
     ]
    },
    {
     "name": "stdout",
     "output_type": "stream",
     "text": [
      "Submitted batch job 4208465\n",
      "Submitted batch job 4208466\n"
     ]
    },
    {
     "name": "stderr",
     "output_type": "stream",
     "text": [
      "Submitting jobs:  88%|████████▊ | 1579/1785 [45:44<06:05,  1.78s/it]"
     ]
    },
    {
     "name": "stdout",
     "output_type": "stream",
     "text": [
      "Submitted batch job 4208467\n",
      "Submitted batch job 4208468\n",
      "Submitted batch job 4208469\n",
      "Submitted batch job 4208470\n"
     ]
    },
    {
     "name": "stderr",
     "output_type": "stream",
     "text": [
      "Submitting jobs:  89%|████████▊ | 1581/1785 [45:44<04:16,  1.26s/it]"
     ]
    },
    {
     "name": "stdout",
     "output_type": "stream",
     "text": [
      "Submitted batch job 4208471\n",
      "Submitted batch job 4208472\n"
     ]
    },
    {
     "name": "stderr",
     "output_type": "stream",
     "text": [
      "Submitting jobs:  89%|████████▊ | 1583/1785 [45:54<08:08,  2.42s/it]"
     ]
    },
    {
     "name": "stdout",
     "output_type": "stream",
     "text": [
      "Submitted batch job 4208473\n",
      "Submitted batch job 4208474\n"
     ]
    },
    {
     "name": "stderr",
     "output_type": "stream",
     "text": [
      "Submitting jobs:  89%|████████▉ | 1587/1785 [46:05<07:29,  2.27s/it]"
     ]
    },
    {
     "name": "stdout",
     "output_type": "stream",
     "text": [
      "Submitted batch job 4208475\n",
      "Submitted batch job 4208476\n",
      "Submitted batch job 4208477\n",
      "Submitted batch job 4208478\n"
     ]
    },
    {
     "name": "stderr",
     "output_type": "stream",
     "text": [
      "Submitting jobs:  89%|████████▉ | 1589/1785 [46:06<05:45,  1.76s/it]"
     ]
    },
    {
     "name": "stdout",
     "output_type": "stream",
     "text": [
      "Submitted batch job 4208479\n",
      "Submitted batch job 4208480\n"
     ]
    },
    {
     "name": "stderr",
     "output_type": "stream",
     "text": [
      "Submitting jobs:  89%|████████▉ | 1593/1785 [46:16<06:14,  1.95s/it]"
     ]
    },
    {
     "name": "stdout",
     "output_type": "stream",
     "text": [
      "Submitted batch job 4208481\n",
      "Submitted batch job 4208482\n",
      "Submitted batch job 4208483\n"
     ]
    },
    {
     "name": "stderr",
     "output_type": "stream",
     "text": [
      "Submitting jobs:  89%|████████▉ | 1595/1785 [46:16<04:23,  1.39s/it]"
     ]
    },
    {
     "name": "stdout",
     "output_type": "stream",
     "text": [
      "Submitted batch job 4208484\n",
      "Submitted batch job 4208485\n",
      "Submitted batch job 4208486\n",
      "Submitted batch job 4208487\n"
     ]
    },
    {
     "name": "stderr",
     "output_type": "stream",
     "text": [
      "Submitting jobs:  90%|████████▉ | 1599/1785 [46:16<02:12,  1.40it/s]"
     ]
    },
    {
     "name": "stdout",
     "output_type": "stream",
     "text": [
      "Submitted batch job 4208488\n",
      "Submitted batch job 4208489\n",
      "Submitted batch job 4208490\n"
     ]
    },
    {
     "name": "stderr",
     "output_type": "stream",
     "text": [
      "Submitting jobs:  90%|████████▉ | 1603/1785 [46:27<04:22,  1.44s/it]"
     ]
    },
    {
     "name": "stdout",
     "output_type": "stream",
     "text": [
      "Submitted batch job 4208491\n",
      "Submitted batch job 4208492\n",
      "Submitted batch job 4208493\n"
     ]
    },
    {
     "name": "stderr",
     "output_type": "stream",
     "text": [
      "Submitting jobs:  90%|████████▉ | 1605/1785 [46:27<03:05,  1.03s/it]"
     ]
    },
    {
     "name": "stdout",
     "output_type": "stream",
     "text": [
      "Submitted batch job 4208494\n",
      "Submitted batch job 4208495\n"
     ]
    },
    {
     "name": "stderr",
     "output_type": "stream",
     "text": [
      "Submitting jobs:  90%|█████████ | 1607/1785 [46:38<06:54,  2.33s/it]"
     ]
    },
    {
     "name": "stdout",
     "output_type": "stream",
     "text": [
      "Submitted batch job 4208496\n",
      "Submitted batch job 4208497\n",
      "Submitted batch job 4208498\n"
     ]
    },
    {
     "name": "stderr",
     "output_type": "stream",
     "text": [
      "Submitting jobs:  90%|█████████ | 1611/1785 [46:38<03:24,  1.18s/it]"
     ]
    },
    {
     "name": "stdout",
     "output_type": "stream",
     "text": [
      "Submitted batch job 4208499\n",
      "Submitted batch job 4208500\n",
      "Submitted batch job 4208501\n"
     ]
    },
    {
     "name": "stderr",
     "output_type": "stream",
     "text": [
      "Submitting jobs:  90%|█████████ | 1613/1785 [46:48<06:45,  2.36s/it]"
     ]
    },
    {
     "name": "stdout",
     "output_type": "stream",
     "text": [
      "Submitted batch job 4208502\n",
      "Submitted batch job 4208503\n",
      "Submitted batch job 4208504\n"
     ]
    },
    {
     "name": "stderr",
     "output_type": "stream",
     "text": [
      "Submitting jobs:  91%|█████████ | 1617/1785 [46:48<03:19,  1.19s/it]"
     ]
    },
    {
     "name": "stdout",
     "output_type": "stream",
     "text": [
      "Submitted batch job 4208505\n",
      "Submitted batch job 4208506\n",
      "Submitted batch job 4208507\n"
     ]
    },
    {
     "name": "stderr",
     "output_type": "stream",
     "text": [
      "Submitting jobs:  91%|█████████ | 1619/1785 [46:49<02:21,  1.17it/s]"
     ]
    },
    {
     "name": "stdout",
     "output_type": "stream",
     "text": [
      "Submitted batch job 4208508\n",
      "Submitted batch job 4208509\n",
      "Submitted batch job 4208510\n"
     ]
    },
    {
     "name": "stderr",
     "output_type": "stream",
     "text": [
      "Submitting jobs:  91%|█████████ | 1623/1785 [46:49<01:14,  2.19it/s]"
     ]
    },
    {
     "name": "stdout",
     "output_type": "stream",
     "text": [
      "Submitted batch job 4208511\n",
      "Submitted batch job 4208512\n",
      "Submitted batch job 4208513\n",
      "Submitted batch job 4208514\n"
     ]
    },
    {
     "name": "stderr",
     "output_type": "stream",
     "text": [
      "Submitting jobs:  91%|█████████ | 1627/1785 [46:59<03:27,  1.31s/it]"
     ]
    },
    {
     "name": "stdout",
     "output_type": "stream",
     "text": [
      "Submitted batch job 4208515\n",
      "Submitted batch job 4208516\n",
      "Submitted batch job 4208517\n"
     ]
    },
    {
     "name": "stderr",
     "output_type": "stream",
     "text": [
      "Submitting jobs:  91%|█████████▏| 1631/1785 [46:59<01:44,  1.48it/s]"
     ]
    },
    {
     "name": "stdout",
     "output_type": "stream",
     "text": [
      "Submitted batch job 4208518\n",
      "Submitted batch job 4208519\n",
      "Submitted batch job 4208520\n",
      "Submitted batch job 4208521\n"
     ]
    },
    {
     "name": "stderr",
     "output_type": "stream",
     "text": [
      "Submitting jobs:  91%|█████████▏| 1633/1785 [47:00<01:14,  2.03it/s]"
     ]
    },
    {
     "name": "stdout",
     "output_type": "stream",
     "text": [
      "Submitted batch job 4208522\n",
      "Submitted batch job 4208523\n"
     ]
    },
    {
     "name": "stderr",
     "output_type": "stream",
     "text": [
      "Submitting jobs:  92%|█████████▏| 1635/1785 [47:10<04:40,  1.87s/it]"
     ]
    },
    {
     "name": "stdout",
     "output_type": "stream",
     "text": [
      "Submitted batch job 4208524\n",
      "Submitted batch job 4208525\n",
      "Submitted batch job 4208526\n"
     ]
    },
    {
     "name": "stderr",
     "output_type": "stream",
     "text": [
      "Submitting jobs:  92%|█████████▏| 1639/1785 [47:10<02:24,  1.01it/s]"
     ]
    },
    {
     "name": "stdout",
     "output_type": "stream",
     "text": [
      "Submitted batch job 4208527\n",
      "Submitted batch job 4208528\n",
      "Submitted batch job 4208529\n"
     ]
    },
    {
     "name": "stderr",
     "output_type": "stream",
     "text": [
      "Submitting jobs:  92%|█████████▏| 1641/1785 [47:11<01:42,  1.40it/s]"
     ]
    },
    {
     "name": "stdout",
     "output_type": "stream",
     "text": [
      "Submitted batch job 4208530\n",
      "Submitted batch job 4208531\n",
      "Submitted batch job 4208532\n"
     ]
    },
    {
     "name": "stderr",
     "output_type": "stream",
     "text": [
      "Submitting jobs:  92%|█████████▏| 1645/1785 [47:21<03:21,  1.44s/it]"
     ]
    },
    {
     "name": "stdout",
     "output_type": "stream",
     "text": [
      "Submitted batch job 4208533\n",
      "Submitted batch job 4208534\n",
      "Submitted batch job 4208535\n"
     ]
    },
    {
     "name": "stderr",
     "output_type": "stream",
     "text": [
      "Submitting jobs:  92%|█████████▏| 1647/1785 [47:21<02:21,  1.03s/it]"
     ]
    },
    {
     "name": "stdout",
     "output_type": "stream",
     "text": [
      "Submitted batch job 4208536\n",
      "Submitted batch job 4208537\n",
      "Submitted batch job 4208538\n"
     ]
    },
    {
     "name": "stderr",
     "output_type": "stream",
     "text": [
      "Submitting jobs:  92%|█████████▏| 1651/1785 [47:31<03:33,  1.59s/it]"
     ]
    },
    {
     "name": "stdout",
     "output_type": "stream",
     "text": [
      "Submitted batch job 4208539\n",
      "Submitted batch job 4208540\n",
      "Submitted batch job 4208541\n",
      "Submitted batch job 4208542\n"
     ]
    },
    {
     "name": "stderr",
     "output_type": "stream",
     "text": [
      "Submitting jobs:  93%|█████████▎| 1653/1785 [47:31<02:29,  1.14s/it]"
     ]
    },
    {
     "name": "stdout",
     "output_type": "stream",
     "text": [
      "Submitted batch job 4208543\n",
      "Submitted batch job 4208544\n"
     ]
    },
    {
     "name": "stderr",
     "output_type": "stream",
     "text": [
      "Submitting jobs:  93%|█████████▎| 1657/1785 [47:52<05:46,  2.70s/it]"
     ]
    },
    {
     "name": "stdout",
     "output_type": "stream",
     "text": [
      "Submitted batch job 4208545\n",
      "Submitted batch job 4208546\n",
      "Submitted batch job 4208547\n"
     ]
    },
    {
     "name": "stderr",
     "output_type": "stream",
     "text": [
      "Submitting jobs:  93%|█████████▎| 1659/1785 [47:52<04:01,  1.92s/it]"
     ]
    },
    {
     "name": "stdout",
     "output_type": "stream",
     "text": [
      "Submitted batch job 4208548\n",
      "Submitted batch job 4208549\n",
      "Submitted batch job 4208550\n"
     ]
    },
    {
     "name": "stderr",
     "output_type": "stream",
     "text": [
      "Submitting jobs:  93%|█████████▎| 1663/1785 [48:02<04:07,  2.03s/it]"
     ]
    },
    {
     "name": "stdout",
     "output_type": "stream",
     "text": [
      "Submitted batch job 4208551\n",
      "Submitted batch job 4208552\n",
      "Submitted batch job 4208553\n"
     ]
    },
    {
     "name": "stderr",
     "output_type": "stream",
     "text": [
      "Submitting jobs:  93%|█████████▎| 1665/1785 [48:02<02:53,  1.44s/it]"
     ]
    },
    {
     "name": "stdout",
     "output_type": "stream",
     "text": [
      "Submitted batch job 4208554\n",
      "Submitted batch job 4208555\n",
      "Submitted batch job 4208556\n"
     ]
    },
    {
     "name": "stderr",
     "output_type": "stream",
     "text": [
      "Submitting jobs:  93%|█████████▎| 1667/1785 [48:03<02:01,  1.03s/it]"
     ]
    },
    {
     "name": "stdout",
     "output_type": "stream",
     "text": [
      "Submitted batch job 4208557\n",
      "Submitted batch job 4208558\n"
     ]
    },
    {
     "name": "stderr",
     "output_type": "stream",
     "text": [
      "Submitting jobs:  94%|█████████▎| 1669/1785 [48:13<04:20,  2.25s/it]"
     ]
    },
    {
     "name": "stdout",
     "output_type": "stream",
     "text": [
      "Submitted batch job 4208559\n"
     ]
    },
    {
     "name": "stderr",
     "output_type": "stream",
     "text": [
      "Submitting jobs:  94%|█████████▎| 1671/1785 [48:23<05:33,  2.92s/it]"
     ]
    },
    {
     "name": "stdout",
     "output_type": "stream",
     "text": [
      "Submitted batch job 4208560\n",
      "Submitted batch job 4208561\n",
      "Submitted batch job 4208562\n"
     ]
    },
    {
     "name": "stderr",
     "output_type": "stream",
     "text": [
      "Submitting jobs:  94%|█████████▎| 1673/1785 [48:23<03:31,  1.88s/it]"
     ]
    },
    {
     "name": "stdout",
     "output_type": "stream",
     "text": [
      "Submitted batch job 4208563\n"
     ]
    },
    {
     "name": "stderr",
     "output_type": "stream",
     "text": [
      "Submitting jobs:  94%|█████████▍| 1675/1785 [48:33<05:28,  2.98s/it]"
     ]
    },
    {
     "name": "stdout",
     "output_type": "stream",
     "text": [
      "Submitted batch job 4208564\n",
      "Submitted batch job 4208565\n"
     ]
    },
    {
     "name": "stderr",
     "output_type": "stream",
     "text": [
      "Submitting jobs:  94%|█████████▍| 1678/1785 [48:44<05:03,  2.83s/it]"
     ]
    },
    {
     "name": "stdout",
     "output_type": "stream",
     "text": [
      "Submitted batch job 4208567\n",
      "Submitted batch job 4208568\n",
      "Submitted batch job 4208569\n"
     ]
    },
    {
     "name": "stderr",
     "output_type": "stream",
     "text": [
      "Submitting jobs:  94%|█████████▍| 1680/1785 [48:54<06:18,  3.60s/it]"
     ]
    },
    {
     "name": "stdout",
     "output_type": "stream",
     "text": [
      "Submitted batch job 4208570\n",
      "Submitted batch job 4208571\n",
      "Submitted batch job 4208572\n"
     ]
    },
    {
     "name": "stderr",
     "output_type": "stream",
     "text": [
      "Submitting jobs:  94%|█████████▍| 1684/1785 [48:54<02:51,  1.70s/it]"
     ]
    },
    {
     "name": "stdout",
     "output_type": "stream",
     "text": [
      "Submitted batch job 4208573\n",
      "Submitted batch job 4208574\n",
      "Submitted batch job 4208575\n"
     ]
    },
    {
     "name": "stderr",
     "output_type": "stream",
     "text": [
      "Submitting jobs:  94%|█████████▍| 1686/1785 [48:54<01:57,  1.19s/it]"
     ]
    },
    {
     "name": "stdout",
     "output_type": "stream",
     "text": [
      "Submitted batch job 4208576\n",
      "Submitted batch job 4208577\n",
      "Submitted batch job 4208578\n"
     ]
    },
    {
     "name": "stderr",
     "output_type": "stream",
     "text": [
      "Submitting jobs:  95%|█████████▍| 1688/1785 [48:55<01:24,  1.14it/s]"
     ]
    },
    {
     "name": "stdout",
     "output_type": "stream",
     "text": [
      "Submitted batch job 4208579\n"
     ]
    },
    {
     "name": "stderr",
     "output_type": "stream",
     "text": [
      "Submitting jobs:  95%|█████████▍| 1692/1785 [49:05<02:21,  1.52s/it]"
     ]
    },
    {
     "name": "stdout",
     "output_type": "stream",
     "text": [
      "Submitted batch job 4208580\n",
      "Submitted batch job 4208581\n",
      "Submitted batch job 4208582\n",
      "Submitted batch job 4208583\n"
     ]
    },
    {
     "name": "stderr",
     "output_type": "stream",
     "text": [
      "Submitting jobs:  95%|█████████▍| 1694/1785 [49:05<01:38,  1.08s/it]"
     ]
    },
    {
     "name": "stdout",
     "output_type": "stream",
     "text": [
      "Submitted batch job 4208584\n",
      "Submitted batch job 4208585\n",
      "Submitted batch job 4208586\n"
     ]
    },
    {
     "name": "stderr",
     "output_type": "stream",
     "text": [
      "Submitting jobs:  95%|█████████▌| 1698/1785 [49:15<02:21,  1.63s/it]"
     ]
    },
    {
     "name": "stdout",
     "output_type": "stream",
     "text": [
      "Submitted batch job 4208587\n",
      "Submitted batch job 4208588\n",
      "Submitted batch job 4208589\n"
     ]
    },
    {
     "name": "stderr",
     "output_type": "stream",
     "text": [
      "Submitting jobs:  95%|█████████▌| 1700/1785 [49:15<01:38,  1.16s/it]"
     ]
    },
    {
     "name": "stdout",
     "output_type": "stream",
     "text": [
      "Submitted batch job 4208590\n",
      "Submitted batch job 4208591\n",
      "Submitted batch job 4208592\n"
     ]
    },
    {
     "name": "stderr",
     "output_type": "stream",
     "text": [
      "Submitting jobs:  95%|█████████▌| 1704/1785 [49:26<02:14,  1.66s/it]"
     ]
    },
    {
     "name": "stdout",
     "output_type": "stream",
     "text": [
      "Submitted batch job 4208593\n",
      "Submitted batch job 4208594\n",
      "Submitted batch job 4208595\n",
      "Submitted batch job 4208596\n"
     ]
    },
    {
     "name": "stderr",
     "output_type": "stream",
     "text": [
      "Submitting jobs:  96%|█████████▌| 1708/1785 [49:36<02:26,  1.90s/it]"
     ]
    },
    {
     "name": "stdout",
     "output_type": "stream",
     "text": [
      "Submitted batch job 4208597\n",
      "Submitted batch job 4208598\n",
      "Submitted batch job 4208599\n"
     ]
    },
    {
     "name": "stderr",
     "output_type": "stream",
     "text": [
      "Submitting jobs:  96%|█████████▌| 1710/1785 [49:36<01:41,  1.35s/it]"
     ]
    },
    {
     "name": "stdout",
     "output_type": "stream",
     "text": [
      "Submitted batch job 4208600\n",
      "Submitted batch job 4208601\n",
      "Submitted batch job 4208602\n"
     ]
    },
    {
     "name": "stderr",
     "output_type": "stream",
     "text": [
      "Submitting jobs:  96%|█████████▌| 1712/1785 [49:36<01:10,  1.03it/s]"
     ]
    },
    {
     "name": "stdout",
     "output_type": "stream",
     "text": [
      "Submitted batch job 4208603\n"
     ]
    },
    {
     "name": "stderr",
     "output_type": "stream",
     "text": [
      "Submitting jobs:  96%|█████████▌| 1714/1785 [49:47<02:36,  2.20s/it]"
     ]
    },
    {
     "name": "stdout",
     "output_type": "stream",
     "text": [
      "Submitted batch job 4208604\n",
      "Submitted batch job 4208605\n",
      "Submitted batch job 4208606\n"
     ]
    },
    {
     "name": "stderr",
     "output_type": "stream",
     "text": [
      "Submitting jobs:  96%|█████████▌| 1718/1785 [49:47<01:14,  1.12s/it]"
     ]
    },
    {
     "name": "stdout",
     "output_type": "stream",
     "text": [
      "Submitted batch job 4208607\n",
      "Submitted batch job 4208608\n",
      "Submitted batch job 4208609\n"
     ]
    },
    {
     "name": "stderr",
     "output_type": "stream",
     "text": [
      "Submitting jobs:  96%|█████████▋| 1720/1785 [49:47<00:52,  1.24it/s]"
     ]
    },
    {
     "name": "stdout",
     "output_type": "stream",
     "text": [
      "Submitted batch job 4208610\n",
      "Submitted batch job 4208611\n",
      "Submitted batch job 4208612\n"
     ]
    },
    {
     "name": "stderr",
     "output_type": "stream",
     "text": [
      "Submitting jobs:  97%|█████████▋| 1724/1785 [49:47<00:27,  2.25it/s]"
     ]
    },
    {
     "name": "stdout",
     "output_type": "stream",
     "text": [
      "Submitted batch job 4208613\n",
      "Submitted batch job 4208614\n",
      "Submitted batch job 4208615\n",
      "Submitted batch job 4208616\n"
     ]
    },
    {
     "name": "stderr",
     "output_type": "stream",
     "text": [
      "Submitting jobs:  97%|█████████▋| 1726/1785 [49:58<01:53,  1.93s/it]"
     ]
    },
    {
     "name": "stdout",
     "output_type": "stream",
     "text": [
      "Submitted batch job 4208617\n"
     ]
    },
    {
     "name": "stderr",
     "output_type": "stream",
     "text": [
      "Submitting jobs:  97%|█████████▋| 1727/1785 [49:59<01:42,  1.77s/it]"
     ]
    },
    {
     "name": "stdout",
     "output_type": "stream",
     "text": [
      "Submitted batch job 4208618\n"
     ]
    },
    {
     "name": "stderr",
     "output_type": "stream",
     "text": [
      "Submitting jobs:  97%|█████████▋| 1728/1785 [50:00<01:25,  1.50s/it]"
     ]
    },
    {
     "name": "stdout",
     "output_type": "stream",
     "text": [
      "Submitted batch job 4208619\n"
     ]
    },
    {
     "name": "stderr",
     "output_type": "stream",
     "text": [
      "Submitting jobs:  97%|█████████▋| 1729/1785 [50:00<01:10,  1.26s/it]"
     ]
    },
    {
     "name": "stdout",
     "output_type": "stream",
     "text": [
      "Submitted batch job 4208620\n"
     ]
    },
    {
     "name": "stderr",
     "output_type": "stream",
     "text": [
      "Submitting jobs:  97%|█████████▋| 1730/1785 [50:00<00:56,  1.03s/it]"
     ]
    },
    {
     "name": "stdout",
     "output_type": "stream",
     "text": [
      "Submitted batch job 4208621\n"
     ]
    },
    {
     "name": "stderr",
     "output_type": "stream",
     "text": [
      "Submitting jobs:  97%|█████████▋| 1733/1785 [50:11<01:43,  1.99s/it]"
     ]
    },
    {
     "name": "stdout",
     "output_type": "stream",
     "text": [
      "Submitted batch job 4208622\n",
      "Submitted batch job 4208623\n",
      "Submitted batch job 4208624\n"
     ]
    },
    {
     "name": "stderr",
     "output_type": "stream",
     "text": [
      "Submitting jobs:  97%|█████████▋| 1737/1785 [50:11<00:40,  1.18it/s]"
     ]
    },
    {
     "name": "stdout",
     "output_type": "stream",
     "text": [
      "Submitted batch job 4208625\n",
      "Submitted batch job 4208626\n",
      "Submitted batch job 4208627\n",
      "Submitted batch job 4208628\n"
     ]
    },
    {
     "name": "stderr",
     "output_type": "stream",
     "text": [
      "Submitting jobs:  97%|█████████▋| 1739/1785 [50:11<00:27,  1.70it/s]"
     ]
    },
    {
     "name": "stdout",
     "output_type": "stream",
     "text": [
      "Submitted batch job 4208629\n",
      "Submitted batch job 4208630\n",
      "Submitted batch job 4208631\n"
     ]
    },
    {
     "name": "stderr",
     "output_type": "stream",
     "text": [
      "Submitting jobs:  98%|█████████▊| 1743/1785 [50:23<01:04,  1.53s/it]"
     ]
    },
    {
     "name": "stdout",
     "output_type": "stream",
     "text": [
      "Submitted batch job 4208632\n",
      "Submitted batch job 4208633\n",
      "Submitted batch job 4208634\n"
     ]
    },
    {
     "name": "stderr",
     "output_type": "stream",
     "text": [
      "Submitting jobs:  98%|█████████▊| 1745/1785 [50:23<00:43,  1.08s/it]"
     ]
    },
    {
     "name": "stdout",
     "output_type": "stream",
     "text": [
      "Submitted batch job 4208635\n",
      "Submitted batch job 4208636\n",
      "Submitted batch job 4208637\n"
     ]
    },
    {
     "name": "stderr",
     "output_type": "stream",
     "text": [
      "Submitting jobs:  98%|█████████▊| 1747/1785 [50:23<00:29,  1.30it/s]"
     ]
    },
    {
     "name": "stdout",
     "output_type": "stream",
     "text": [
      "Submitted batch job 4208638\n",
      "Submitted batch job 4208639\n"
     ]
    },
    {
     "name": "stderr",
     "output_type": "stream",
     "text": [
      "Submitting jobs:  98%|█████████▊| 1751/1785 [50:34<00:51,  1.51s/it]"
     ]
    },
    {
     "name": "stdout",
     "output_type": "stream",
     "text": [
      "Submitted batch job 4208640\n",
      "Submitted batch job 4208641\n",
      "Submitted batch job 4208642\n"
     ]
    },
    {
     "name": "stderr",
     "output_type": "stream",
     "text": [
      "Submitting jobs:  98%|█████████▊| 1753/1785 [50:34<00:34,  1.08s/it]"
     ]
    },
    {
     "name": "stdout",
     "output_type": "stream",
     "text": [
      "Submitted batch job 4208643\n",
      "Submitted batch job 4208644\n",
      "Submitted batch job 4208645\n"
     ]
    },
    {
     "name": "stderr",
     "output_type": "stream",
     "text": [
      "Submitting jobs:  98%|█████████▊| 1755/1785 [50:34<00:23,  1.29it/s]"
     ]
    },
    {
     "name": "stdout",
     "output_type": "stream",
     "text": [
      "Submitted batch job 4208646\n"
     ]
    },
    {
     "name": "stderr",
     "output_type": "stream",
     "text": [
      "Submitting jobs:  98%|█████████▊| 1757/1785 [50:44<00:58,  2.08s/it]"
     ]
    },
    {
     "name": "stdout",
     "output_type": "stream",
     "text": [
      "Submitted batch job 4208647\n",
      "Submitted batch job 4208648\n",
      "Submitted batch job 4208649\n"
     ]
    },
    {
     "name": "stderr",
     "output_type": "stream",
     "text": [
      "Submitting jobs:  99%|█████████▊| 1759/1785 [50:44<00:38,  1.48s/it]"
     ]
    },
    {
     "name": "stdout",
     "output_type": "stream",
     "text": [
      "Submitted batch job 4208650\n",
      "Submitted batch job 4208651\n"
     ]
    },
    {
     "name": "stderr",
     "output_type": "stream",
     "text": [
      "Submitting jobs:  99%|█████████▉| 1763/1785 [50:55<00:39,  1.81s/it]"
     ]
    },
    {
     "name": "stdout",
     "output_type": "stream",
     "text": [
      "Submitted batch job 4208652\n",
      "Submitted batch job 4208653\n",
      "Submitted batch job 4208654\n"
     ]
    },
    {
     "name": "stderr",
     "output_type": "stream",
     "text": [
      "Submitting jobs:  99%|█████████▉| 1765/1785 [51:05<00:55,  2.79s/it]"
     ]
    },
    {
     "name": "stdout",
     "output_type": "stream",
     "text": [
      "Submitted batch job 4208655\n",
      "Submitted batch job 4208656\n",
      "Submitted batch job 4208657\n"
     ]
    },
    {
     "name": "stderr",
     "output_type": "stream",
     "text": [
      "Submitting jobs:  99%|█████████▉| 1767/1785 [51:05<00:35,  1.98s/it]"
     ]
    },
    {
     "name": "stdout",
     "output_type": "stream",
     "text": [
      "Submitted batch job 4208658\n"
     ]
    },
    {
     "name": "stderr",
     "output_type": "stream",
     "text": [
      "Submitting jobs:  99%|█████████▉| 1769/1785 [51:15<00:46,  2.91s/it]"
     ]
    },
    {
     "name": "stdout",
     "output_type": "stream",
     "text": [
      "Submitted batch job 4208659\n",
      "Submitted batch job 4208660\n",
      "Submitted batch job 4208661\n"
     ]
    },
    {
     "name": "stderr",
     "output_type": "stream",
     "text": [
      "Submitting jobs:  99%|█████████▉| 1771/1785 [51:15<00:28,  2.06s/it]"
     ]
    },
    {
     "name": "stdout",
     "output_type": "stream",
     "text": [
      "Submitted batch job 4208662\n",
      "Submitted batch job 4208663\n"
     ]
    },
    {
     "name": "stderr",
     "output_type": "stream",
     "text": [
      "Submitting jobs:  99%|█████████▉| 1775/1785 [51:26<00:21,  2.18s/it]"
     ]
    },
    {
     "name": "stdout",
     "output_type": "stream",
     "text": [
      "Submitted batch job 4208665\n",
      "Submitted batch job 4208666\n",
      "Submitted batch job 4208667\n"
     ]
    },
    {
     "name": "stderr",
     "output_type": "stream",
     "text": [
      "Submitting jobs: 100%|█████████▉| 1777/1785 [51:36<00:24,  3.05s/it]"
     ]
    },
    {
     "name": "stdout",
     "output_type": "stream",
     "text": [
      "Submitted batch job 4208668\n",
      "Submitted batch job 4208669\n",
      "Submitted batch job 4208670\n"
     ]
    },
    {
     "name": "stderr",
     "output_type": "stream",
     "text": [
      "Submitting jobs: 100%|█████████▉| 1781/1785 [51:37<00:06,  1.53s/it]"
     ]
    },
    {
     "name": "stdout",
     "output_type": "stream",
     "text": [
      "Submitted batch job 4208671\n",
      "Submitted batch job 4208672\n",
      "Submitted batch job 4208673\n"
     ]
    },
    {
     "name": "stderr",
     "output_type": "stream",
     "text": [
      "Submitting jobs: 100%|█████████▉| 1783/1785 [51:47<00:05,  2.59s/it]"
     ]
    },
    {
     "name": "stdout",
     "output_type": "stream",
     "text": [
      "Submitted batch job 4208674\n",
      "Submitted batch job 4208675\n",
      "Submitted batch job 4208676\n"
     ]
    },
    {
     "name": "stderr",
     "output_type": "stream",
     "text": [
      "Submitting jobs: 100%|██████████| 1785/1785 [51:47<00:00,  1.74s/it]"
     ]
    },
    {
     "name": "stdout",
     "output_type": "stream",
     "text": [
      "Submitted batch job 4208677\n",
      "All jobs submitted.\n"
     ]
    },
    {
     "name": "stderr",
     "output_type": "stream",
     "text": [
      "\n"
     ]
    }
   ],
   "source": [
    "APK_DIR = \"/scratch/rhm4nj/ml-sec/data/apks\"\n",
    "LOG_DIR = \"/scratch/rhm4nj/ml-sec/logs/apk_jobs\"\n",
    "SCRIPT_PATH = \"/scratch/rhm4nj/ml-sec/process_apk.py\"  # your main script\n",
    "BATCH_SIZE = 25\n",
    "MAX_JOBS = 100  # parallel limit\n",
    "MAX_RUNS = 1e10\n",
    "SLURM_TIME = \"00:15:00\"\n",
    "MEM = \"2G\"\n",
    "\n",
    "if os.path.exists(LOG_DIR): shutil.rmtree(LOG_DIR)\n",
    "Path(LOG_DIR).mkdir(parents=True, exist_ok=True)\n",
    "\n",
    "if os.path.exists(\"stop\"):\n",
    "    os.remove(\"stop\")\n",
    "\n",
    "def active_job_count():\n",
    "    cmd = [\"squeue\", \"-h\", \"-u\", os.getenv(\"USER\")]\n",
    "    result = subprocess.run(cmd, capture_output=True, text=True)\n",
    "    return len(result.stdout.strip().splitlines())\n",
    "\n",
    "def batch(iterable, size):\n",
    "    it = iter(iterable)\n",
    "    while True:\n",
    "        chunk = list(islice(it, size))\n",
    "        if not chunk:\n",
    "            break\n",
    "        yield chunk\n",
    "\n",
    "def write_job_script(batch_id, apk_paths):\n",
    "    script_fp = f\"{LOG_DIR}/apk_batch_{batch_id}.sh\"\n",
    "    with open(script_fp, \"w\") as f:\n",
    "        f.write(f\"\"\"#!/bin/bash\n",
    "#SBATCH --account=cral\n",
    "#SBATCH --partition=standard\n",
    "#SBATCH --job-name=apk_batch_{batch_id}\n",
    "#SBATCH --output={LOG_DIR}/batch_{batch_id}.out\n",
    "#SBATCH --error={LOG_DIR}/batch_{batch_id}.err\n",
    "#SBATCH --time={SLURM_TIME}\n",
    "#SBATCH --mem={MEM}\n",
    "#SBATCH --cpus-per-task=1\n",
    "\n",
    "\"\"\")\n",
    "        for apk in apk_paths:\n",
    "            f.write(f\"python {SCRIPT_PATH} {apk}\\n\")\n",
    "    return script_fp\n",
    "\n",
    "def submit_apk_jobs():\n",
    "    all_apks = sorted([str(p) for p in Path(APK_DIR).glob(\"*.apk\")])\n",
    "    batches = list(batch(all_apks, BATCH_SIZE))\n",
    "    for i, apk_batch in tqdm(enumerate(batches), total=min(len(batches), MAX_RUNS), desc=\"Submitting jobs\"):\n",
    "        if active_job_count() > MAX_RUNS: break\n",
    "        while active_job_count() >= MAX_JOBS:\n",
    "            time.sleep(10)\n",
    "        script = write_job_script(i, apk_batch)\n",
    "        subprocess.run([\"sbatch\", script])\n",
    "\n",
    "        if \"stop\" in os.listdir(\".\"):\n",
    "            print(\"manual stop\")\n",
    "            break\n",
    "\n",
    "    print(\"All jobs submitted.\")\n",
    "\n",
    "submit_apk_jobs()\n"
   ]
  }
 ],
 "metadata": {
  "kernelspec": {
   "display_name": "mlsec",
   "language": "python",
   "name": "python3"
  },
  "language_info": {
   "codemirror_mode": {
    "name": "ipython",
    "version": 3
   },
   "file_extension": ".py",
   "mimetype": "text/x-python",
   "name": "python",
   "nbconvert_exporter": "python",
   "pygments_lexer": "ipython3",
   "version": "3.11.6"
  }
 },
 "nbformat": 4,
 "nbformat_minor": 5
}
